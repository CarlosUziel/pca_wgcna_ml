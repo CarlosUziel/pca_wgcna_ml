{
 "cells": [
  {
   "cell_type": "markdown",
   "id": "b8f16ab2-3c40-40f8-ad30-8630a7e6bce0",
   "metadata": {},
   "source": [
    "# Metadata exploration"
   ]
  },
  {
   "cell_type": "markdown",
   "id": "f49e1968-4806-4314-a1c6-3ec6cb6a06a0",
   "metadata": {},
   "source": [
    "This notebook explores the metadata of the TCGA-PRAD and SU2C datasets, which includes clinical information."
   ]
  },
  {
   "cell_type": "markdown",
   "id": "153548be-1b70-4b59-b5bb-dca2bc4f4a56",
   "metadata": {},
   "source": [
    "---\n",
    "## Setup and imports"
   ]
  },
  {
   "cell_type": "code",
   "execution_count": null,
   "id": "7eb08188-5def-4c3f-b0a4-09497ee0f76e",
   "metadata": {},
   "outputs": [],
   "source": [
    "%load_ext autoreload\n",
    "%autoreload 2"
   ]
  },
  {
   "cell_type": "code",
   "execution_count": null,
   "id": "02e01fe0-1d72-4eb2-98e7-d40a5b16afda",
   "metadata": {},
   "outputs": [],
   "source": [
    "import sys\n",
    "from copy import deepcopy\n",
    "from pathlib import Path\n",
    "\n",
    "import matplotlib.pyplot as plt\n",
    "import pandas as pd\n",
    "import seaborn as sns\n",
    "from matplotlib.pyplot import figure\n",
    "from sklearn import preprocessing"
   ]
  },
  {
   "cell_type": "code",
   "execution_count": null,
   "id": "a684c772-485d-41b0-ab33-8f6996895e7b",
   "metadata": {},
   "outputs": [],
   "source": [
    "src_path: str = \"../../src\"\n",
    "sys.path.append(src_path)"
   ]
  },
  {
   "cell_type": "markdown",
   "id": "fbd7a10f-0867-46cf-a575-d2906a0f60c6",
   "metadata": {},
   "source": [
    "### Global variables"
   ]
  },
  {
   "cell_type": "code",
   "execution_count": null,
   "id": "8defd699-ebca-4f70-905a-8d83dcef56eb",
   "metadata": {},
   "outputs": [],
   "source": [
    "root: Path = Path(\"/media/ssd/Perez/storage\")\n",
    "\n",
    "data_root: Path = root.joinpath(\"TCGA_PRAD_SU2C_RNASeq\")\n",
    "\n",
    "data_path: Path = data_root.joinpath(\"data\")\n",
    "\n",
    "counts_path = data_path.joinpath(Path(\"star_counts\"))\n",
    "\n",
    "deseq2_path: Path = data_root.joinpath(\"deseq2\")\n",
    "\n",
    "plots_path: Path = data_root.joinpath(\"plots\")"
   ]
  },
  {
   "cell_type": "code",
   "execution_count": null,
   "id": "b4182dfa",
   "metadata": {},
   "outputs": [],
   "source": [
    "data_su2c_root: Path = root.joinpath(\"SU2C_PCF_2019_RNASeq\")\n",
    "data_su2c_annotations_path = data_su2c_root.joinpath(\"samples_annotations\")"
   ]
  },
  {
   "cell_type": "code",
   "execution_count": null,
   "metadata": {},
   "outputs": [],
   "source": [
    "anno_file: Path = data_path.joinpath(\"samples_annotation_tcga_prad_su2c_clusters.csv\")\n",
    "annot_df = pd.read_csv(anno_file, index_col=0)"
   ]
  },
  {
   "cell_type": "code",
   "execution_count": null,
   "metadata": {},
   "outputs": [],
   "source": [
    "from components.functional_analysis.orgdb import OrgDB\n",
    "from data.utils import filter_genes_wrt_annotation\n",
    "from r_wrappers.utils import map_gene_id"
   ]
  },
  {
   "cell_type": "code",
   "execution_count": null,
   "metadata": {},
   "outputs": [],
   "source": [
    "org_db = OrgDB(\"Homo sapiens\")"
   ]
  },
  {
   "cell_type": "markdown",
   "id": "55f778e1",
   "metadata": {},
   "source": [
    "---\n",
    "## 1. TCGA-PRAD"
   ]
  },
  {
   "cell_type": "markdown",
   "metadata": {},
   "source": [
    "...\n"
   ]
  },
  {
   "cell_type": "markdown",
   "id": "55f778e1",
   "metadata": {},
   "source": [
    "---\n",
    "## 2. SU2C"
   ]
  },
  {
   "cell_type": "code",
   "execution_count": null,
   "metadata": {},
   "outputs": [],
   "source": [
    "su2c_annotation = pd.read_csv(\n",
    "    data_su2c_annotations_path.joinpath(\"samples_annotation_rna_downloaded.csv\"),\n",
    "    index_col=0,\n",
    ")"
   ]
  },
  {
   "cell_type": "code",
   "execution_count": null,
   "metadata": {},
   "outputs": [],
   "source": [
    "su2c_dds = pd.read_csv(deseq2_path.joinpath(\"Metastatic_dds.csv\"), index_col=0)\n",
    "su2c_vst = pd.read_csv(deseq2_path.joinpath(\"Metastatic_vst.csv\"), index_col=0)"
   ]
  },
  {
   "cell_type": "markdown",
   "id": "55f778e1",
   "metadata": {},
   "source": [
    "### 2.1. Select SU2C samples and add extended annotation"
   ]
  },
  {
   "cell_type": "code",
   "execution_count": null,
   "metadata": {},
   "outputs": [],
   "source": [
    "annot_df_su2c = deepcopy(annot_df[annot_df[\"sample_type\"] == \"Metastatic\"]).join(\n",
    "    su2c_annotation\n",
    ")"
   ]
  },
  {
   "cell_type": "markdown",
   "id": "55f778e1",
   "metadata": {},
   "source": [
    "### 2.2. Number of patients in common among clusters"
   ]
  },
  {
   "cell_type": "code",
   "execution_count": null,
   "metadata": {},
   "outputs": [],
   "source": [
    "grouped_patient_ids = annot_df_su2c.groupby(\"sample_cluster\").agg(list)[\"patient_id\"]\n",
    "grouped_patient_ids"
   ]
  },
  {
   "cell_type": "code",
   "execution_count": null,
   "metadata": {},
   "outputs": [],
   "source": [
    "common_patients = set.intersection(*grouped_patient_ids.map(set))\n",
    "print(\n",
    "    f\"There are {len(common_patients)} common patients between sample clusters\"\n",
    "    f\" {set(annot_df_su2c['sample_cluster'])}: \\n{common_patients}\"\n",
    ")"
   ]
  },
  {
   "cell_type": "markdown",
   "id": "55f778e1",
   "metadata": {},
   "source": [
    "### 2.3. Explore fields that have between 2 and 15 categories."
   ]
  },
  {
   "cell_type": "code",
   "execution_count": null,
   "metadata": {},
   "outputs": [],
   "source": [
    "annot_df_su2c_nunique = annot_df_su2c.nunique()\n",
    "print(\n",
    "    \"Fields with a single value: \\n\"\n",
    "    f\" {annot_df_su2c_nunique[annot_df_su2c_nunique == 1].index.tolist()}\"\n",
    ")"
   ]
  },
  {
   "cell_type": "code",
   "execution_count": null,
   "metadata": {},
   "outputs": [],
   "source": [
    "annot_df_su2c_categories = deepcopy(\n",
    "    annot_df_su2c.loc[:, (annot_df_su2c_nunique != 1) & (annot_df_su2c_nunique <= 15)]\n",
    ")"
   ]
  },
  {
   "cell_type": "markdown",
   "id": "55f778e1",
   "metadata": {},
   "source": [
    "#### 2.3.1. Plot field category counts between sample clusters"
   ]
  },
  {
   "cell_type": "code",
   "execution_count": null,
   "metadata": {},
   "outputs": [],
   "source": [
    "categorical_fields = [c for c in annot_df_su2c_categories.columns if \"cluster\" not in c]\n",
    "print(f\"Categorical fields: \\n{categorical_fields}\")\n",
    "annot_df_su2c_categories = annot_df_su2c_categories.loc[\n",
    "    :, categorical_fields + [\"sample_cluster\"]\n",
    "]"
   ]
  },
  {
   "cell_type": "code",
   "execution_count": null,
   "metadata": {},
   "outputs": [],
   "source": [
    "df_melted = annot_df_su2c_categories.melt(\n",
    "    id_vars=[\"sample_cluster\"], var_name=\"cat_feature\"\n",
    ")\n",
    "df_melted_groupped = df_melted.value_counts().reset_index()\n",
    "df_melted_groupped = df_melted_groupped.rename(columns={0: \"counts\"})\n",
    "df_melted_groupped.to_csv(\n",
    "    data_path.joinpath(\"su2c_clusters_categorical_features.csv\"), index=False\n",
    ")"
   ]
  },
  {
   "cell_type": "code",
   "execution_count": null,
   "metadata": {},
   "outputs": [],
   "source": [
    "features = set(df_melted_groupped[\"cat_feature\"])\n",
    "\n",
    "fig_size = int(len(features) * 1.5)\n",
    "plt.figure(figsize=(fig_size, fig_size), dpi=300)\n",
    "sns.set(style=\"whitegrid\")\n",
    "for ax_num, feature in enumerate(features):\n",
    "    plt.subplot(len(features) // 4, 5, ax_num + 1)\n",
    "    sns.barplot(\n",
    "        x=\"sample_cluster\",\n",
    "        y=\"counts\",\n",
    "        hue=\"value\",\n",
    "        data=df_melted_groupped[df_melted_groupped[\"cat_feature\"] == feature],\n",
    "    )\n",
    "    plt.title(feature)\n",
    "\n",
    "plt.tight_layout()\n",
    "plt.savefig(plots_path.joinpath(\"su2c_clusters_categorical_features_comparison.pdf\"))\n",
    "plt.clf()"
   ]
  },
  {
   "cell_type": "markdown",
   "id": "55f778e1",
   "metadata": {},
   "source": [
    "#### 2.3.2. Plot field category counts between sample clusters (only shared patients)"
   ]
  },
  {
   "cell_type": "code",
   "execution_count": null,
   "metadata": {},
   "outputs": [],
   "source": [
    "annot_df_su2c_categories = annot_df_su2c_categories.loc[\n",
    "    annot_df_su2c[\"patient_id\"].isin(common_patients)\n",
    "]"
   ]
  },
  {
   "cell_type": "code",
   "execution_count": null,
   "metadata": {},
   "outputs": [],
   "source": [
    "df_melted = annot_df_su2c_categories.melt(\n",
    "    id_vars=[\"sample_cluster\"], var_name=\"cat_feature\"\n",
    ")\n",
    "df_melted_groupped = df_melted.value_counts().reset_index()\n",
    "df_melted_groupped = df_melted_groupped.rename(columns={0: \"counts\"})\n",
    "df_melted_groupped.to_csv(\n",
    "    data_path.joinpath(\"su2c_clusters_common_patients_categorical_features.csv\"),\n",
    "    index=False,\n",
    ")"
   ]
  },
  {
   "cell_type": "code",
   "execution_count": null,
   "metadata": {},
   "outputs": [],
   "source": [
    "features = set(df_melted_groupped[\"cat_feature\"])\n",
    "\n",
    "fig_size = int(len(features) * 1.5)\n",
    "plt.figure(figsize=(fig_size, fig_size), dpi=300)\n",
    "sns.set(style=\"whitegrid\")\n",
    "for ax_num, feature in enumerate(features):\n",
    "    plt.subplot(len(features) // 4, 5, ax_num + 1)\n",
    "    sns.barplot(\n",
    "        x=\"sample_cluster\",\n",
    "        y=\"counts\",\n",
    "        hue=\"value\",\n",
    "        data=df_melted_groupped[df_melted_groupped[\"cat_feature\"] == feature],\n",
    "    )\n",
    "    plt.title(feature)\n",
    "\n",
    "plt.tight_layout()\n",
    "plt.savefig(\n",
    "    plots_path.joinpath(\n",
    "        \"su2c_clusters_common_patients_categorical_features_comparison.pdf\"\n",
    "    )\n",
    ")\n",
    "plt.clf()"
   ]
  },
  {
   "cell_type": "markdown",
   "id": "55f778e1",
   "metadata": {},
   "source": [
    "### 2.4. Explore continous fields (e.g., age)"
   ]
  },
  {
   "cell_type": "code",
   "execution_count": null,
   "metadata": {},
   "outputs": [],
   "source": [
    "annot_df_su2c_continous = deepcopy(\n",
    "    annot_df_su2c.loc[\n",
    "        :, (annot_df_su2c_nunique != 1) & (annot_df_su2c.dtypes is not object)\n",
    "    ]\n",
    ")\n",
    "annot_df_su2c_continous[\"sample_cluster\"] = annot_df_su2c[\"sample_cluster\"]"
   ]
  },
  {
   "cell_type": "markdown",
   "id": "55f778e1",
   "metadata": {},
   "source": [
    "#### 2.4.1. Plot field category counts between sample clusters"
   ]
  },
  {
   "cell_type": "code",
   "execution_count": null,
   "metadata": {},
   "outputs": [],
   "source": [
    "continuous_fields = [\n",
    "    c for c in annot_df_su2c_continous.columns if \"id\" not in c.lower()\n",
    "]\n",
    "print(f\"Continuous fields: \\n{continuous_fields}\")\n",
    "annot_df_su2c_continous = annot_df_su2c_continous.loc[:, continuous_fields]"
   ]
  },
  {
   "cell_type": "code",
   "execution_count": null,
   "metadata": {},
   "outputs": [],
   "source": [
    "df_melted = annot_df_su2c_continous.melt(\n",
    "    id_vars=[\"sample_cluster\"], var_name=\"cont_feature\"\n",
    ")\n",
    "df_melted_groupped = df_melted.value_counts().reset_index()\n",
    "df_melted_groupped = df_melted_groupped.rename(columns={0: \"counts\"})\n",
    "df_melted_groupped.to_csv(\n",
    "    data_path.joinpath(\"su2c_clusters_continous_features.csv\"), index=False\n",
    ")"
   ]
  },
  {
   "cell_type": "code",
   "execution_count": null,
   "metadata": {},
   "outputs": [],
   "source": [
    "sns.set(style=\"whitegrid\")\n",
    "\n",
    "features = set(df_melted[\"cont_feature\"])\n",
    "fig_size = int(len(features) * 1.5)\n",
    "fig = figure(figsize=(fig_size, fig_size), dpi=300)\n",
    "for ax_num, feature in enumerate(features):\n",
    "    plt.subplot(len(features) // 4, 5, ax_num + 1)\n",
    "    sns.violinplot(\n",
    "        x=\"sample_cluster\",\n",
    "        y=\"value\",\n",
    "        data=df_melted[df_melted[\"cont_feature\"] == feature],\n",
    "    )\n",
    "    plt.title(feature)\n",
    "\n",
    "plt.tight_layout()\n",
    "fig.savefig(plots_path.joinpath(\"su2c_clusters_continous_features_comparison.pdf\"))\n",
    "plt.clf()"
   ]
  },
  {
   "cell_type": "markdown",
   "id": "55f778e1",
   "metadata": {},
   "source": [
    "#### 2.4.2. Plot field category counts between sample clusters (only shared patients)"
   ]
  },
  {
   "cell_type": "code",
   "execution_count": null,
   "metadata": {},
   "outputs": [],
   "source": [
    "annot_df_su2c_continous = annot_df_su2c_continous.loc[\n",
    "    annot_df_su2c[\"patient_id\"].isin(common_patients)\n",
    "]"
   ]
  },
  {
   "cell_type": "code",
   "execution_count": null,
   "metadata": {},
   "outputs": [],
   "source": [
    "df_melted = annot_df_su2c_continous.melt(\n",
    "    id_vars=[\"sample_cluster\"], var_name=\"cont_feature\"\n",
    ")\n",
    "df_melted_groupped = df_melted.value_counts().reset_index()\n",
    "df_melted_groupped = df_melted_groupped.rename(columns={0: \"counts\"})\n",
    "df_melted_groupped.to_csv(\n",
    "    data_path.joinpath(\"su2c_clusters_common_patients_continous_features.csv\"),\n",
    "    index=False,\n",
    ")"
   ]
  },
  {
   "cell_type": "code",
   "execution_count": null,
   "metadata": {},
   "outputs": [],
   "source": [
    "sns.set(style=\"whitegrid\")\n",
    "\n",
    "features = set(df_melted[\"cont_feature\"])\n",
    "fig_size = int(len(features) * 1.5)\n",
    "fig = figure(figsize=(fig_size, fig_size), dpi=300)\n",
    "for ax_num, feature in enumerate(features):\n",
    "    plt.subplot(len(features) // 4, 5, ax_num + 1)\n",
    "    sns.violinplot(\n",
    "        x=\"sample_cluster\",\n",
    "        y=\"value\",\n",
    "        data=df_melted[df_melted[\"cont_feature\"] == feature],\n",
    "    )\n",
    "    plt.title(feature)\n",
    "\n",
    "plt.tight_layout()\n",
    "fig.savefig(\n",
    "    plots_path.joinpath(\n",
    "        \"su2c_clusters_common_patients_continous_features_comparison.pdf\"\n",
    "    )\n",
    ")\n",
    "plt.clf()"
   ]
  },
  {
   "cell_type": "markdown",
   "id": "55f778e1",
   "metadata": {},
   "source": [
    "### 2.5. Gene expression distribution distance between clusters"
   ]
  },
  {
   "cell_type": "markdown",
   "id": "55f778e1",
   "metadata": {},
   "source": [
    "#### 2.5.1. Compute gene expression median difference between clusters"
   ]
  },
  {
   "cell_type": "code",
   "execution_count": null,
   "metadata": {},
   "outputs": [],
   "source": [
    "su2c_vst_scaled = deepcopy(\n",
    "    su2c_vst.loc[filter_genes_wrt_annotation(su2c_vst.index, org_db), :].transpose()\n",
    ")\n",
    "su2c_vst_scaled[:] = preprocessing.MinMaxScaler().fit_transform(su2c_vst_scaled)\n",
    "su2c_vst_scaled"
   ]
  },
  {
   "cell_type": "code",
   "execution_count": null,
   "metadata": {},
   "outputs": [],
   "source": [
    "su2c_vst_scaled[\"sample_cluster\"] = annot_df.loc[\n",
    "    su2c_vst_scaled.index, \"sample_cluster\"\n",
    "]"
   ]
  },
  {
   "cell_type": "code",
   "execution_count": null,
   "metadata": {},
   "outputs": [],
   "source": [
    "su2c_vst_clustered_median = (\n",
    "    su2c_vst_scaled.groupby(\"sample_cluster\").median().transpose()\n",
    ")\n",
    "su2c_vst_clustered_median"
   ]
  },
  {
   "cell_type": "code",
   "execution_count": null,
   "metadata": {},
   "outputs": [],
   "source": [
    "su2c_vst_clustered_median_diff = abs(\n",
    "    su2c_vst_clustered_median[\"Metastatic_A\"]\n",
    "    - su2c_vst_clustered_median[\"Metastatic_B\"]\n",
    ").sort_values(ascending=False)\n",
    "su2c_vst_clustered_median_diff"
   ]
  },
  {
   "cell_type": "code",
   "execution_count": null,
   "metadata": {},
   "outputs": [],
   "source": [
    "sum(su2c_vst_clustered_median_diff > 0.5)"
   ]
  },
  {
   "cell_type": "markdown",
   "id": "55f778e1",
   "metadata": {},
   "source": [
    "#### 2.5.2. Plot genes with highest median difference"
   ]
  },
  {
   "cell_type": "code",
   "execution_count": null,
   "metadata": {},
   "outputs": [],
   "source": [
    "top_n = 50\n",
    "top_genes = su2c_vst_clustered_median_diff[:top_n].index\n",
    "top_genes"
   ]
  },
  {
   "cell_type": "code",
   "execution_count": null,
   "metadata": {},
   "outputs": [],
   "source": [
    "su2c_vst_clustered_plots = su2c_vst_scaled.loc[:, [*top_genes, \"sample_cluster\"]]\n",
    "su2c_vst_clustered_plots.rename(\n",
    "    columns=dict(zip(top_genes, map_gene_id(top_genes, org_db, \"ENSEMBL\", \"SYMBOL\"))),\n",
    "    inplace=True,\n",
    ")"
   ]
  },
  {
   "cell_type": "code",
   "execution_count": null,
   "metadata": {},
   "outputs": [],
   "source": [
    "df_melted = su2c_vst_clustered_plots.melt(id_vars=[\"sample_cluster\"], var_name=\"gene\")\n",
    "df_melted"
   ]
  },
  {
   "cell_type": "code",
   "execution_count": null,
   "metadata": {},
   "outputs": [],
   "source": [
    "sns.set(style=\"whitegrid\")\n",
    "\n",
    "genes_symbol = set(df_melted[\"gene\"])\n",
    "fig_size = int(len(features) * 1.5)\n",
    "fig = figure(figsize=(fig_size, fig_size), dpi=300)\n",
    "for ax_num, gene_symbol in enumerate(genes_symbol):\n",
    "    plt.subplot(len(genes_symbol) // 5, 5, ax_num + 1)\n",
    "    sns.violinplot(\n",
    "        y=\"sample_cluster\",\n",
    "        x=\"value\",\n",
    "        data=df_melted[df_melted[\"gene\"] == gene_symbol],\n",
    "    )\n",
    "    plt.title(gene_symbol)\n",
    "\n",
    "plt.tight_layout()\n",
    "fig.savefig(\n",
    "    plots_path.joinpath(f\"su2c_clusters_top_{top_n}_distributed_genes_comparison.pdf\")\n",
    ")\n",
    "plt.clf()"
   ]
  }
 ],
 "metadata": {
  "kernelspec": {
   "display_name": "Python 3.9.13 ('bioinfo')",
   "language": "python",
   "name": "python3"
  },
  "language_info": {
   "codemirror_mode": {
    "name": "ipython",
    "version": 3
   },
   "file_extension": ".py",
   "mimetype": "text/x-python",
   "name": "python",
   "nbconvert_exporter": "python",
   "pygments_lexer": "ipython3",
   "version": "3.9.13"
  },
  "orig_nbformat": 4,
  "vscode": {
   "interpreter": {
    "hash": "0a3c43ae5054104da7c0ae0e54c971e03f6db1cac95975f4ca433f362d99bd9b"
   }
  }
 },
 "nbformat": 4,
 "nbformat_minor": 2
}
