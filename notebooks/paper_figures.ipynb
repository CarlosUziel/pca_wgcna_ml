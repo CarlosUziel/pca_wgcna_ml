{
 "cells": [
  {
   "cell_type": "code",
   "execution_count": null,
   "id": "da6bc368-f4fa-46ae-9e40-a03a90e7e125",
   "metadata": {},
   "outputs": [],
   "source": [
    "%load_ext autoreload\n",
    "%autoreload 2"
   ]
  },
  {
   "cell_type": "code",
   "execution_count": null,
   "id": "ff3dd304-0ffa-4566-8216-fc21b838afea",
   "metadata": {},
   "outputs": [],
   "source": [
    "import sys\n",
    "from pathlib import Path\n",
    "\n",
    "import matplotlib.pyplot as plt\n",
    "import networkx as nx\n",
    "import numpy as np\n",
    "import pandas as pd\n",
    "import seaborn as sns"
   ]
  },
  {
   "cell_type": "code",
   "execution_count": null,
   "id": "43a9cf7a-330e-47c3-8a13-036ad19c78bb",
   "metadata": {},
   "outputs": [],
   "source": [
    "src_path: str = \"../../src\"\n",
    "sys.path.append(src_path)"
   ]
  },
  {
   "cell_type": "code",
   "execution_count": null,
   "id": "0f5b178f",
   "metadata": {},
   "outputs": [],
   "source": [
    "from components.functional_analysis.orgdb import OrgDB\n",
    "\n",
    "org_db = OrgDB(\"Homo sapiens\")"
   ]
  },
  {
   "cell_type": "code",
   "execution_count": null,
   "id": "0e5f5878",
   "metadata": {},
   "outputs": [],
   "source": [
    "tcga_su2c_root = Path(\"/share/computing/Perez/projects_backups/TCGA_PRAD_SU2C_RNASeq\")\n",
    "figures_path = Path(\"/media/ssd/Perez/storage\").joinpath(\n",
    "    \"TCGA_PRAD_SU2C_RNASeq_manuscript_figures\"\n",
    ")\n",
    "figures_path.mkdir(parents=True, exist_ok=True)"
   ]
  },
  {
   "cell_type": "markdown",
   "id": "4e45dd52",
   "metadata": {},
   "source": [
    "## Figure 1: Sample/dataset distribution\n",
    "\n",
    "---\n"
   ]
  },
  {
   "cell_type": "code",
   "execution_count": null,
   "id": "d926b315",
   "metadata": {},
   "outputs": [],
   "source": [
    "annot_df = pd.read_csv(\n",
    "    Path(\"/media/ssd/Perez/storage/TCGA_PRAD_SU2C_RNASeq\")\n",
    "    .joinpath(\"data\")\n",
    "    .joinpath(\"samples_annotation_tcga_prad_su2c_clusters_clinical_trt_fixed.csv\"),\n",
    "    index_col=0,\n",
    ")\n",
    "annot_df[\"sample_cluster_no_replicates\"] = annot_df[\n",
    "    \"sample_cluster_no_replicates\"\n",
    "].str.lower()\n",
    "annot_df = annot_df[\n",
    "    annot_df[\"sample_cluster_no_replicates\"].isin((\"norm\", \"prim\", \"met_bb\"))\n",
    "]\n",
    "annot_df[\"project_id\"] = annot_df[\"project_id\"].fillna(\"SU2C-PCF\")\n",
    "annot_df.loc[\n",
    "    annot_df[\"sample_cluster_no_replicates\"] == \"met_bb\", \"sample_cluster_no_replicates\"\n",
    "] = \"met\""
   ]
  },
  {
   "cell_type": "code",
   "execution_count": null,
   "id": "8ffe2863",
   "metadata": {},
   "outputs": [],
   "source": [
    "df = (\n",
    "    annot_df.groupby([\"project_id\", \"sample_cluster_no_replicates\"])[\"patient_id\"]\n",
    "    .count()\n",
    "    .to_frame()\n",
    "    .unstack(level=1)\n",
    "    .sort_index(ascending=False)\n",
    "    .droplevel(level=0, axis=1)\n",
    ")\n",
    "df"
   ]
  },
  {
   "cell_type": "code",
   "execution_count": null,
   "id": "11fffb20",
   "metadata": {},
   "outputs": [],
   "source": [
    "fig, ax = plt.subplots(1, 1, figsize=(6, 6), dpi=100)\n",
    "palette = {\n",
    "    \"norm\": \"#9ACD32\",\n",
    "    \"prim\": \"#4A708B\",\n",
    "    \"met\": \"#8B3A3A\",\n",
    "}\n",
    "ax = df.plot(kind=\"bar\", stacked=True, color=palette, ax=ax, width=0.8)\n",
    "\n",
    "for p in ax.patches:\n",
    "    if p.get_height() != 0:\n",
    "        pad = p.get_width() // 2\n",
    "        ax.annotate(\n",
    "            str(int(p.get_height())),\n",
    "            (p.get_x() + 0.4, p.get_height() - 30),\n",
    "            weight=\"bold\",\n",
    "            fontsize=12,\n",
    "            ha=\"center\",\n",
    "        )\n",
    "\n",
    "plt.legend(title=\"Sample type\")\n",
    "plt.ylabel(\"Number of samples\")\n",
    "plt.xlabel(\"Dataset of origin\")\n",
    "plt.xticks(rotation=0)\n",
    "plt.title(\"Dataset sample type distribution\")\n",
    "ax.set_axisbelow(True)\n",
    "plt.grid(axis=\"y\", zorder=-10)\n",
    "plt.tight_layout()\n",
    "plt.savefig(figures_path.joinpath(\"1_sample_dist.pdf\"))\n",
    "plt.savefig(figures_path.joinpath(\"1_sample_dist.svg\"))"
   ]
  },
  {
   "cell_type": "markdown",
   "id": "a439d363",
   "metadata": {},
   "source": [
    "## Figure 6/7: WGCNA Network\n",
    "\n",
    "---\n"
   ]
  },
  {
   "cell_type": "markdown",
   "id": "41cc5bdc",
   "metadata": {},
   "source": [
    "### A: prim/norm"
   ]
  },
  {
   "cell_type": "code",
   "execution_count": null,
   "id": "c96213a9",
   "metadata": {},
   "outputs": [],
   "source": [
    "hub_genes_df = pd.read_csv(\n",
    "    tcga_su2c_root.joinpath(\"wgcna\")\n",
    "    .joinpath(\n",
    "        \"sample_cluster_no_replicates_MET_BB+NORM+PRIM__PRIM_vs_NORM_padj_0_05_up_1_0\"\n",
    "    )\n",
    "    .joinpath(\"standard\")\n",
    "    .joinpath(\"results\")\n",
    "    .joinpath(\"bicor_signed_hub_genes.csv\"),\n",
    "    index_col=0,\n",
    ")\n",
    "mod_hub_genes = hub_genes_df[\"SYMBOL\"].to_dict()\n",
    "del mod_hub_genes[\"M0\"]\n",
    "mod_hub_genes"
   ]
  },
  {
   "cell_type": "code",
   "execution_count": null,
   "id": "97776995",
   "metadata": {},
   "outputs": [],
   "source": [
    "network_file = (\n",
    "    tcga_su2c_root.joinpath(\"rich_network\")\n",
    "    .joinpath(\n",
    "        \"sample_cluster_no_replicates_MET_BB+NORM+PRIM__PRIM_vs_NORM_padj_0_05_up_1_0\"\n",
    "    )\n",
    "    .joinpath(\"standard\")\n",
    "    .joinpath(\"random_forest\")\n",
    "    .joinpath(\n",
    "        \"sample_cluster_no_replicates_MET_BB+NORM+PRIM__\"\n",
    "        \"PRIM_vs_NORM_padj_0_05_up_1_0_corr_th_0_1_full_wgcna_ml_net.graphml\"\n",
    "    )\n",
    ")\n",
    "graph = nx.read_graphml(network_file)"
   ]
  },
  {
   "cell_type": "code",
   "execution_count": null,
   "id": "86397acb",
   "metadata": {},
   "outputs": [],
   "source": [
    "graph_nodes_df = pd.DataFrame(dict(graph.nodes)).transpose().sort_values(\"module\")\n",
    "graph_nodes_df[\"shap_value\"] = graph_nodes_df[\"shap_value\"].astype(float)\n",
    "graph_nodes_df[\"log2FoldChange\"] = graph_nodes_df[\"log2FoldChange\"].astype(float)\n",
    "graph_nodes_df.head()"
   ]
  },
  {
   "cell_type": "code",
   "execution_count": null,
   "id": "6edbfc8d",
   "metadata": {},
   "outputs": [],
   "source": [
    "fig, ax = plt.subplots(1, 1, figsize=(10, 10), dpi=300)\n",
    "\n",
    "ax = sns.stripplot(\n",
    "    data=graph_nodes_df,\n",
    "    x=\"module\",\n",
    "    y=\"shap_value\",\n",
    "    hue=\"module\",\n",
    "    dodge=False,\n",
    "    jitter=False,\n",
    "    ax=ax,\n",
    ")\n",
    "\n",
    "ax = sns.boxplot(\n",
    "    data=graph_nodes_df,\n",
    "    x=\"module\",\n",
    "    y=\"shap_value\",\n",
    "    hue=\"module\",\n",
    "    dodge=False,\n",
    "    ax=ax,\n",
    ")\n",
    "\n",
    "# annotate top genes by SHAP value\n",
    "for mod_id, (mod, mod_df) in enumerate(graph_nodes_df.groupby(\"module\")):\n",
    "    mod_df.sort_values(\"shap_value\", ascending=False, inplace=True)\n",
    "    text_y = 99\n",
    "    for i in range(5):\n",
    "        gene_meta = mod_df.iloc[i]\n",
    "        if gene_meta[\"shap_value\"] > 0.2:\n",
    "            text_y_new = gene_meta[\"shap_value\"] + 0.03\n",
    "            text_y_new = (\n",
    "                (text_y := text_y_new)\n",
    "                if text_y - text_y_new > 0.03\n",
    "                else (text_y := text_y - 0.03)\n",
    "            )\n",
    "            plt.annotate(\n",
    "                gene_meta.name,\n",
    "                xy=(mod_id, gene_meta[\"shap_value\"]),\n",
    "                xytext=(mod_id + 0.2, text_y_new),\n",
    "                arrowprops=dict(facecolor=\"black\", arrowstyle=\"->\"),\n",
    "                fontsize=10,\n",
    "            )\n",
    "\n",
    "# annotate module hub genes\n",
    "for mod_id, (mod, hub_gene) in enumerate(mod_hub_genes.items()):\n",
    "    plt.annotate(\n",
    "        hub_gene,\n",
    "        xy=(mod_id, graph_nodes_df.loc[hub_gene, \"shap_value\"]),\n",
    "        xytext=(mod_id - 0.1, -0.05),\n",
    "        ha=\"left\",\n",
    "        arrowprops=dict(facecolor=\"black\", arrowstyle=\"->\", connectionstyle=\"Angle3\"),\n",
    "        fontweight=\"bold\",\n",
    "        fontsize=12,\n",
    "    )\n",
    "\n",
    "plt.ylabel(\"SHAP value\", fontsize=14)\n",
    "plt.xlabel(\"WGCNA Module\", fontsize=14)\n",
    "plt.xticks(\n",
    "    np.arange(0, graph_nodes_df[\"module\"].nunique(), 1),\n",
    "    [f\"{m}\\n(n={c})\" for m, c in graph_nodes_df[\"module\"].value_counts().items()],\n",
    "    fontsize=12,\n",
    ")\n",
    "plt.yticks(fontsize=12)\n",
    "plt.title(\n",
    "    \"Distribution of shapely values\\nWGCNA prim/norm (up-regulated DEGs)\", fontsize=16\n",
    ")\n",
    "ax.set_axisbelow(True)\n",
    "plt.grid(axis=\"y\", zorder=-10)\n",
    "plt.ylim((-0.1, 1.1))\n",
    "plt.xlim((-1, graph_nodes_df[\"module\"].nunique()))\n",
    "plt.legend([], [], frameon=False)\n",
    "plt.tight_layout()\n",
    "plt.savefig(figures_path.joinpath(\"6_prim_norm_wgcna.pdf\"))\n",
    "plt.savefig(figures_path.joinpath(\"6_prim_norm_wgcna.svg\"))"
   ]
  },
  {
   "cell_type": "markdown",
   "id": "b35188ec",
   "metadata": {},
   "source": [
    "### B: met/prim"
   ]
  },
  {
   "cell_type": "code",
   "execution_count": null,
   "id": "aa44f2af",
   "metadata": {},
   "outputs": [],
   "source": [
    "hub_genes_df = pd.read_csv(\n",
    "    tcga_su2c_root.joinpath(\"wgcna\")\n",
    "    .joinpath(\n",
    "        \"sample_cluster_no_replicates_MET_BB+NORM+PRIM__MET_BB_vs_PRIM_padj_0_05_up_1_0\"\n",
    "    )\n",
    "    .joinpath(\"standard\")\n",
    "    .joinpath(\"results\")\n",
    "    .joinpath(\"bicor_signed_hub_genes.csv\"),\n",
    "    index_col=0,\n",
    ")\n",
    "mod_hub_genes = hub_genes_df[\"SYMBOL\"].to_dict()\n",
    "del mod_hub_genes[\"M0\"]\n",
    "mod_hub_genes"
   ]
  },
  {
   "cell_type": "code",
   "execution_count": null,
   "id": "7a264c60",
   "metadata": {},
   "outputs": [],
   "source": [
    "network_file = (\n",
    "    tcga_su2c_root.joinpath(\"rich_network\")\n",
    "    .joinpath(\n",
    "        \"sample_cluster_no_replicates_MET_BB+NORM+PRIM__MET_BB_vs_PRIM_padj_0_05_up_1_0\"\n",
    "    )\n",
    "    .joinpath(\"standard\")\n",
    "    .joinpath(\"random_forest\")\n",
    "    .joinpath(\n",
    "        \"sample_cluster_no_replicates_MET_BB+NORM+PRIM__\"\n",
    "        \"MET_BB_vs_PRIM_padj_0_05_up_1_0_corr_th_0_1_full_wgcna_ml_net.graphml\"\n",
    "    )\n",
    ")\n",
    "graph = nx.read_graphml(network_file)"
   ]
  },
  {
   "cell_type": "code",
   "execution_count": null,
   "id": "8c2b318f",
   "metadata": {},
   "outputs": [],
   "source": [
    "graph_nodes_df = pd.DataFrame(dict(graph.nodes)).transpose().sort_values(\"module\")\n",
    "graph_nodes_df[\"shap_value\"] = graph_nodes_df[\"shap_value\"].astype(float)\n",
    "graph_nodes_df[\"log2FoldChange\"] = graph_nodes_df[\"log2FoldChange\"].astype(float)\n",
    "graph_nodes_df.head()"
   ]
  },
  {
   "cell_type": "code",
   "execution_count": null,
   "id": "b78afa7f",
   "metadata": {},
   "outputs": [],
   "source": [
    "fig, ax = plt.subplots(1, 1, figsize=(10, 10), dpi=300)\n",
    "\n",
    "ax = sns.stripplot(\n",
    "    data=graph_nodes_df,\n",
    "    x=\"module\",\n",
    "    y=\"shap_value\",\n",
    "    hue=\"module\",\n",
    "    dodge=False,\n",
    "    jitter=False,\n",
    "    ax=ax,\n",
    ")\n",
    "\n",
    "ax = sns.boxplot(\n",
    "    data=graph_nodes_df,\n",
    "    x=\"module\",\n",
    "    y=\"shap_value\",\n",
    "    hue=\"module\",\n",
    "    dodge=False,\n",
    "    ax=ax,\n",
    ")\n",
    "\n",
    "# annotate top genes by SHAP value\n",
    "for mod_id, (mod, mod_df) in enumerate(graph_nodes_df.groupby(\"module\")):\n",
    "    mod_df.sort_values(\"shap_value\", ascending=False, inplace=True)\n",
    "    text_y = 99\n",
    "    for i in range(5):\n",
    "        gene_meta = mod_df.iloc[i]\n",
    "        if gene_meta[\"shap_value\"] > 0.2:\n",
    "            text_y_new = gene_meta[\"shap_value\"] + 0.03\n",
    "            text_y_new = (\n",
    "                (text_y := text_y_new)\n",
    "                if text_y - text_y_new > 0.03\n",
    "                else (text_y := text_y - 0.03)\n",
    "            )\n",
    "            plt.annotate(\n",
    "                gene_meta.name,\n",
    "                xy=(mod_id, gene_meta[\"shap_value\"]),\n",
    "                xytext=(mod_id + 0.2, text_y_new),\n",
    "                arrowprops=dict(facecolor=\"black\", arrowstyle=\"->\"),\n",
    "                fontsize=10,\n",
    "            )\n",
    "\n",
    "# annotate module hub genes\n",
    "for mod_id, (mod, hub_gene) in enumerate(mod_hub_genes.items()):\n",
    "    plt.annotate(\n",
    "        hub_gene,\n",
    "        xy=(mod_id, graph_nodes_df.loc[hub_gene, \"shap_value\"]),\n",
    "        xytext=(mod_id - 0.1, -0.05),\n",
    "        ha=\"left\",\n",
    "        arrowprops=dict(facecolor=\"black\", arrowstyle=\"->\", connectionstyle=\"Angle3\"),\n",
    "        fontweight=\"bold\",\n",
    "        fontsize=12,\n",
    "    )\n",
    "\n",
    "plt.ylabel(\"SHAP value\", fontsize=14)\n",
    "plt.xlabel(\"WGCNA Module\", fontsize=14)\n",
    "plt.xticks(\n",
    "    np.arange(0, graph_nodes_df[\"module\"].nunique(), 1),\n",
    "    [f\"{m}\\n(n={c})\" for m, c in graph_nodes_df[\"module\"].value_counts().items()],\n",
    "    fontsize=12,\n",
    ")\n",
    "plt.yticks(fontsize=12)\n",
    "plt.title(\n",
    "    \"Distribution of shapely values\\nWGCNA met/prim (up-regulated DEGs)\", fontsize=16\n",
    ")\n",
    "plt.ylim((-0.1, 1.1))\n",
    "plt.xlim((-1, graph_nodes_df[\"module\"].nunique()))\n",
    "ax.set_axisbelow(True)\n",
    "plt.grid(axis=\"y\", zorder=-10)\n",
    "plt.legend([], [], frameon=False)\n",
    "plt.tight_layout()\n",
    "plt.savefig(figures_path.joinpath(\"6_met_prim_wgcna.pdf\"))\n",
    "plt.savefig(figures_path.joinpath(\"6_met_prim_wgcna.svg\"))"
   ]
  },
  {
   "cell_type": "code",
   "execution_count": null,
   "id": "d39323f3",
   "metadata": {},
   "outputs": [],
   "source": []
  }
 ],
 "metadata": {
  "kernelspec": {
   "display_name": "Python 3.9.13 ('bioinfo')",
   "language": "python",
   "name": "python3"
  },
  "language_info": {
   "codemirror_mode": {
    "name": "ipython",
    "version": 3
   },
   "file_extension": ".py",
   "mimetype": "text/x-python",
   "name": "python",
   "nbconvert_exporter": "python",
   "pygments_lexer": "ipython3",
   "version": "3.10.11"
  },
  "vscode": {
   "interpreter": {
    "hash": "0a3c43ae5054104da7c0ae0e54c971e03f6db1cac95975f4ca433f362d99bd9b"
   }
  }
 },
 "nbformat": 4,
 "nbformat_minor": 5
}
