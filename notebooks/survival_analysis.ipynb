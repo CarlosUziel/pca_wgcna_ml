{
 "cells": [
  {
   "cell_type": "code",
   "execution_count": null,
   "id": "da6bc368-f4fa-46ae-9e40-a03a90e7e125",
   "metadata": {},
   "outputs": [],
   "source": [
    "%load_ext autoreload\n",
    "%autoreload 2"
   ]
  },
  {
   "cell_type": "code",
   "execution_count": null,
   "id": "ff3dd304-0ffa-4566-8216-fc21b838afea",
   "metadata": {},
   "outputs": [],
   "source": [
    "import json\n",
    "import sys\n",
    "from itertools import product\n",
    "from pathlib import Path\n",
    "\n",
    "import matplotlib.pyplot as plt\n",
    "import pandas as pd\n",
    "from lifelines import KaplanMeierFitter\n",
    "from scipy.stats import ttest_ind\n",
    "from statsmodels.stats.multitest import multipletests"
   ]
  },
  {
   "cell_type": "code",
   "execution_count": null,
   "id": "43a9cf7a-330e-47c3-8a13-036ad19c78bb",
   "metadata": {},
   "outputs": [],
   "source": [
    "src_path: str = \"../../src\"\n",
    "sys.path.append(src_path)"
   ]
  },
  {
   "cell_type": "code",
   "execution_count": null,
   "id": "0f5b178f",
   "metadata": {},
   "outputs": [],
   "source": [
    "from components.functional_analysis.orgdb import OrgDB\n",
    "from data.utils import gene_expression_levels\n",
    "from r_wrappers.utils import map_gene_id\n",
    "\n",
    "org_db = OrgDB(\"Homo sapiens\")"
   ]
  },
  {
   "cell_type": "code",
   "execution_count": null,
   "id": "0e5f5878",
   "metadata": {},
   "outputs": [],
   "source": [
    "tcga_su2c_root = Path(\"/media/ssd/Perez/storage/TCGA_PRAD_SU2C_RNASeq\")\n",
    "tcga_survival_plots = tcga_su2c_root.joinpath(\"tcga_survival_plots\")\n",
    "tcga_survival_plots.mkdir(exist_ok=True, parents=True)\n",
    "su2c_survival_plots = tcga_su2c_root.joinpath(\"su2c_survival_plots\")\n",
    "su2c_survival_plots.mkdir(exist_ok=True, parents=True)\n",
    "su2c_root = Path(\"/media/ssd/Perez/storage/SU2C_PCF_2019_RNASeq\")"
   ]
  },
  {
   "cell_type": "markdown",
   "id": "4e45dd52",
   "metadata": {},
   "source": [
    "## Survival analysis for potential biomarkers\n",
    "\n",
    "---\n"
   ]
  },
  {
   "cell_type": "markdown",
   "id": "401fbf3b",
   "metadata": {},
   "source": [
    "### 1. Load counts and annotation data\n"
   ]
  },
  {
   "cell_type": "code",
   "execution_count": null,
   "id": "0aa78456",
   "metadata": {},
   "outputs": [],
   "source": [
    "counts_vst = pd.read_csv(\n",
    "    tcga_su2c_root.joinpath(\n",
    "        \"deseq2/sample_cluster_no_replicates_MET_BB+NORM+PRIM__vst.csv\"\n",
    "    ),\n",
    "    index_col=0,\n",
    ")\n",
    "counts_vst.index = map_gene_id(counts_vst.index, org_db, \"ENSEMBL\", \"SYMBOL\")\n",
    "counts_vst = counts_vst[~counts_vst.index.str.contains(\"/\", na=True)]"
   ]
  },
  {
   "cell_type": "code",
   "execution_count": null,
   "id": "a291c15c",
   "metadata": {},
   "outputs": [],
   "source": [
    "annot_df = pd.read_csv(\n",
    "    tcga_su2c_root.joinpath(\"data/samples_annotation_tcga_prad_su2c_clusters.csv\"),\n",
    "    index_col=0,\n",
    ")\n",
    "annot_df = annot_df[\n",
    "    annot_df[\"sample_cluster_no_replicates\"].isin((\"NORM\", \"PRIM\", \"MET_BB\"))\n",
    "]\n",
    "annot_df = annot_df.sort_values(\n",
    "    \"sample_cluster_no_replicates\", key=lambda x: x.str.len()\n",
    ")"
   ]
  },
  {
   "cell_type": "code",
   "execution_count": null,
   "id": "367877cf",
   "metadata": {},
   "outputs": [],
   "source": [
    "tcga_clinical = pd.read_csv(\n",
    "    tcga_su2c_root.joinpath(\"data\").joinpath(\"clinical_data.csv\"), index_col=2\n",
    ")\n",
    "tcga_clinical = tcga_clinical.loc[tcga_clinical.index.intersection(annot_df.index), :]\n",
    "tcga_clinical = tcga_clinical[tcga_clinical[\"definition\"] == \"Primary solid Tumor\"]\n",
    "\n",
    "su2c_clinical = pd.read_csv(\n",
    "    su2c_root.joinpath(\"samples_annotations\").joinpath(\n",
    "        \"samples_annotation_rna_downloaded.csv\"\n",
    "    ),\n",
    "    index_col=0,\n",
    ")\n",
    "su2c_clinical = su2c_clinical.loc[su2c_clinical.index.intersection(annot_df.index), :]"
   ]
  },
  {
   "cell_type": "markdown",
   "id": "401fbf3b",
   "metadata": {},
   "source": [
    "### 2. Load potential biomarkers\n"
   ]
  },
  {
   "cell_type": "code",
   "execution_count": null,
   "id": "b2ba083a",
   "metadata": {},
   "outputs": [],
   "source": [
    "from itertools import chain\n",
    "\n",
    "with tcga_su2c_root.joinpath(\"intersecting_ml_wgcna_genes.json\").open(\"r\") as fp:\n",
    "    all_biomarkers_dict = json.load(fp)\n",
    "\n",
    "all_biomarkers = list(chain(*all_biomarkers_dict.values()))\n",
    "print(all_biomarkers)"
   ]
  },
  {
   "cell_type": "code",
   "execution_count": null,
   "id": "eec5a6de",
   "metadata": {},
   "outputs": [],
   "source": [
    "tcga_su2c_root.joinpath(\"intersecting_ml_wgcna_genes.tsv\").write_text(\n",
    "    \"\\n\".join(all_biomarkers)\n",
    ")"
   ]
  },
  {
   "cell_type": "markdown",
   "id": "401fbf3b",
   "metadata": {},
   "source": [
    "### 3. Contrast gene expression of potential biomarkers with clinical data\n"
   ]
  },
  {
   "cell_type": "code",
   "execution_count": null,
   "id": "3ab6cf52",
   "metadata": {},
   "outputs": [],
   "source": [
    "for gene, percentile in product(all_biomarkers, (10, 20, 30)):\n",
    "    tcga_clinical[gene] = counts_vst.loc[gene, tcga_clinical.index]\n",
    "    tcga_clinical = gene_expression_levels(\n",
    "        expr_df=tcga_clinical,\n",
    "        gene_expr_col=gene,\n",
    "        gene_expr_level=f\"{gene}_levels_{percentile}\",\n",
    "        percentile=percentile,\n",
    "    )\n",
    "    su2c_clinical[gene] = counts_vst.loc[gene, su2c_clinical.index]\n",
    "    su2c_clinical = gene_expression_levels(\n",
    "        expr_df=su2c_clinical,\n",
    "        gene_expr_col=gene,\n",
    "        gene_expr_level=f\"{gene}_levels_{percentile}\",\n",
    "        percentile=percentile,\n",
    "    )"
   ]
  },
  {
   "cell_type": "code",
   "execution_count": null,
   "id": "e767f04c",
   "metadata": {},
   "outputs": [],
   "source": [
    "tcga_clinical.to_csv(tcga_su2c_root.joinpath(\"tcga_clinical_biomarkers.csv\"))\n",
    "su2c_clinical.to_csv(tcga_su2c_root.joinpath(\"su2c_clinical_biomarkers.csv\"))"
   ]
  },
  {
   "cell_type": "markdown",
   "id": "401fbf3b",
   "metadata": {},
   "source": [
    "#### 3.1. TCGA\n"
   ]
  },
  {
   "cell_type": "markdown",
   "id": "401fbf3b",
   "metadata": {},
   "source": [
    "##### 3.1.1. Survival T-test between gene expression distributions\n"
   ]
  },
  {
   "cell_type": "code",
   "execution_count": null,
   "id": "0d87b836",
   "metadata": {},
   "outputs": [],
   "source": [
    "tcga_prad_status_tests = pd.DataFrame(\n",
    "    index=all_biomarkers, columns=[\"t_statistic\", \"p_value\"]\n",
    ")\n",
    "\n",
    "for gene in all_biomarkers:\n",
    "    g1 = tcga_clinical[\n",
    "        (tcga_clinical[\"vital_status\"] == \"Alive\")\n",
    "        & (tcga_clinical[\"definition\"] == \"Primary solid Tumor\")\n",
    "    ][gene]\n",
    "    g2 = tcga_clinical[\n",
    "        (tcga_clinical[\"vital_status\"] == \"Dead\")\n",
    "        & (tcga_clinical[\"definition\"] == \"Primary solid Tumor\")\n",
    "    ][gene]\n",
    "\n",
    "    tcga_prad_status_tests.loc[gene, :] = ttest_ind(g1, g2)\n",
    "\n",
    "tcga_prad_status_tests[\"p_adj\"] = multipletests(\n",
    "    tcga_prad_status_tests[\"p_value\"], method=\"fdr_bh\"\n",
    ")[1]\n",
    "tcga_prad_status_tests = tcga_prad_status_tests.sort_values([\"p_adj\", \"p_value\"])\n",
    "tcga_prad_status_tests.to_csv(tcga_su2c_root.joinpath(\"tcga_prad_status_tests.csv\"))\n",
    "tcga_prad_status_tests"
   ]
  },
  {
   "cell_type": "markdown",
   "id": "401fbf3b",
   "metadata": {},
   "source": [
    "##### 3.1.2. Kaplan-Meier plot\n"
   ]
  },
  {
   "cell_type": "code",
   "execution_count": null,
   "id": "282e8ac0",
   "metadata": {},
   "outputs": [],
   "source": [
    "for gene, percentile in product(all_biomarkers, (10, 20, 30)):\n",
    "    try:\n",
    "        T = tcga_clinical[\"days_to_collection\"] * 30\n",
    "        E = tcga_clinical[\"vital_status\"] == \"Dead\"\n",
    "        indx_low = (tcga_clinical[f\"{gene}_levels_{percentile}\"] == \"low\") & (~T.isna())\n",
    "        indx_high = (tcga_clinical[f\"{gene}_levels_{percentile}\"] == \"high\") & (\n",
    "            ~T.isna()\n",
    "        )\n",
    "\n",
    "        fig = plt.figure(figsize=(7, 7))\n",
    "        ax = fig.add_subplot(111)\n",
    "\n",
    "        kmf = KaplanMeierFitter()\n",
    "\n",
    "        kmf.fit(\n",
    "            T[indx_low],\n",
    "            event_observed=E[indx_low],\n",
    "            label=f\"Low gene expression (n={sum(indx_low)})\",\n",
    "        )\n",
    "        kmf.plot_survival_function(ax=ax)\n",
    "\n",
    "        kmf.fit(\n",
    "            T[indx_high],\n",
    "            event_observed=E[indx_high],\n",
    "            label=f\"High gene expression (n={sum(indx_high)})\",\n",
    "        )\n",
    "        kmf.plot_survival_function(ax=ax, at_risk_counts=True)\n",
    "        plt.title(f\"TCGA-PRAD. Survival based in {gene} expression level.\")\n",
    "\n",
    "        plt.tight_layout()\n",
    "\n",
    "        plt.savefig(tcga_survival_plots.joinpath(f\"{gene}_{percentile}.pdf\"))\n",
    "        plt.close()\n",
    "    except Exception:\n",
    "        continue"
   ]
  },
  {
   "cell_type": "markdown",
   "id": "401fbf3b",
   "metadata": {},
   "source": [
    "#### 3.2. SU2C-PCF\n"
   ]
  },
  {
   "cell_type": "code",
   "execution_count": null,
   "id": "7fc320d3",
   "metadata": {},
   "outputs": [],
   "source": [
    "su2c_pcf_status_tests = pd.DataFrame(\n",
    "    index=all_biomarkers, columns=[\"t_statistic\", \"p_value\"]\n",
    ")\n",
    "\n",
    "for gene in all_biomarkers:\n",
    "    g1 = su2c_clinical[su2c_clinical[\"OS_STATUS\"] == \"1:DECEASED\"][gene]\n",
    "    g2 = su2c_clinical[su2c_clinical[\"OS_STATUS\"] == \"0:LIVING\"][gene]\n",
    "\n",
    "    su2c_pcf_status_tests.loc[gene, :] = ttest_ind(g1, g2)\n",
    "\n",
    "su2c_pcf_status_tests[\"p_adj\"] = multipletests(\n",
    "    su2c_pcf_status_tests[\"p_value\"], method=\"fdr_bh\"\n",
    ")[1]\n",
    "su2c_pcf_status_tests = su2c_pcf_status_tests.sort_values([\"p_adj\", \"p_value\"])\n",
    "su2c_pcf_status_tests.to_csv(tcga_su2c_root.joinpath(\"su2c_pcf_status_tests.csv\"))\n",
    "su2c_pcf_status_tests"
   ]
  },
  {
   "cell_type": "markdown",
   "id": "401fbf3b",
   "metadata": {},
   "source": [
    "##### 3.2.2. Kaplan-Meier plot\n"
   ]
  },
  {
   "cell_type": "code",
   "execution_count": null,
   "id": "465ff50a",
   "metadata": {},
   "outputs": [],
   "source": [
    "for gene, percentile in product(all_biomarkers, (10, 20, 30)):\n",
    "    try:\n",
    "        T = (\n",
    "            su2c_clinical[\"AGE_AT_PROCUREMENT\"].astype(float)\n",
    "            - su2c_clinical[\"AGE_AT_DIAGNOSIS\"].astype(float)\n",
    "        ) * 30\n",
    "        E = su2c_clinical[\"OS_STATUS\"] == \"1:DECEASED\"\n",
    "        indx_low = (su2c_clinical[f\"{gene}_levels_{percentile}\"] == \"low\") & (~T.isna())\n",
    "        indx_high = (su2c_clinical[f\"{gene}_levels_{percentile}\"] == \"high\") & (\n",
    "            ~T.isna()\n",
    "        )\n",
    "\n",
    "        fig = plt.figure(figsize=(7, 7))\n",
    "        ax = fig.add_subplot(111)\n",
    "\n",
    "        kmf = KaplanMeierFitter()\n",
    "\n",
    "        kmf.fit(\n",
    "            T[indx_low],\n",
    "            event_observed=E[indx_low],\n",
    "            label=f\"Low gene expression (n={sum(indx_low)})\",\n",
    "        )\n",
    "        kmf.plot_survival_function(ax=ax)\n",
    "\n",
    "        kmf.fit(\n",
    "            T[indx_high],\n",
    "            event_observed=E[indx_high],\n",
    "            label=f\"High gene expression (n={sum(indx_high)})\",\n",
    "        )\n",
    "        kmf.plot_survival_function(ax=ax, at_risk_counts=True)\n",
    "        plt.title(f\"SU2C-PCF. Survival based in {gene} expression level.\")\n",
    "\n",
    "        plt.tight_layout()\n",
    "\n",
    "        plt.savefig(su2c_survival_plots.joinpath(f\"{gene}_{percentile}.pdf\"))\n",
    "        plt.close()\n",
    "    except Exception:\n",
    "        continue"
   ]
  },
  {
   "cell_type": "code",
   "execution_count": null,
   "id": "d926b315",
   "metadata": {},
   "outputs": [],
   "source": []
  },
  {
   "cell_type": "markdown",
   "id": "8367b6cf",
   "metadata": {},
   "source": [
    "---\n"
   ]
  }
 ],
 "metadata": {
  "kernelspec": {
   "display_name": "Python 3.9.13 ('bioinfo')",
   "language": "python",
   "name": "python3"
  },
  "language_info": {
   "codemirror_mode": {
    "name": "ipython",
    "version": 3
   },
   "file_extension": ".py",
   "mimetype": "text/x-python",
   "name": "python",
   "nbconvert_exporter": "python",
   "pygments_lexer": "ipython3",
   "version": "3.9.13 | packaged by conda-forge | (main, May 27 2022, 16:56:21) \n[GCC 10.3.0]"
  },
  "vscode": {
   "interpreter": {
    "hash": "0a3c43ae5054104da7c0ae0e54c971e03f6db1cac95975f4ca433f362d99bd9b"
   }
  }
 },
 "nbformat": 4,
 "nbformat_minor": 5
}
