{
 "cells": [
  {
   "cell_type": "code",
   "execution_count": null,
   "id": "da6bc368-f4fa-46ae-9e40-a03a90e7e125",
   "metadata": {},
   "outputs": [],
   "source": [
    "%load_ext autoreload\n",
    "%autoreload 2"
   ]
  },
  {
   "cell_type": "code",
   "execution_count": null,
   "id": "ff3dd304-0ffa-4566-8216-fc21b838afea",
   "metadata": {},
   "outputs": [],
   "source": [
    "import sys\n",
    "from pathlib import Path\n",
    "\n",
    "import pandas as pd\n",
    "import rpy2.robjects as ro"
   ]
  },
  {
   "cell_type": "code",
   "execution_count": null,
   "id": "43a9cf7a-330e-47c3-8a13-036ad19c78bb",
   "metadata": {},
   "outputs": [],
   "source": [
    "src_path: str = \"../../src\"\n",
    "sys.path.append(src_path)"
   ]
  },
  {
   "cell_type": "code",
   "execution_count": null,
   "id": "6a68f68a",
   "metadata": {},
   "outputs": [],
   "source": [
    "from components.functional_analysis.orgdb import OrgDB\n",
    "from r_wrappers.rnaseq_power import rnapower\n",
    "from r_wrappers.utils import map_gene_id"
   ]
  },
  {
   "cell_type": "code",
   "execution_count": null,
   "id": "273fa161",
   "metadata": {},
   "outputs": [],
   "source": [
    "root = Path(\"/media/ssd/Perez/storage/TCGA_PRAD_SU2C_RNASeq\")\n",
    "deseq_path = root.joinpath(\"deseq2\")\n",
    "goi = \"FOLH1\"\n",
    "org_db = OrgDB(\"Homo sapiens\")"
   ]
  },
  {
   "cell_type": "markdown",
   "id": "99330a01",
   "metadata": {},
   "source": [
    "## 1. RNASeq sample size calculation\n"
   ]
  },
  {
   "cell_type": "markdown",
   "id": "99330a01",
   "metadata": {},
   "source": [
    "### 1.1. TCGA-PRAD + SU2C-PCF data\n"
   ]
  },
  {
   "cell_type": "markdown",
   "id": "55546521",
   "metadata": {},
   "source": [
    "Load raw counts\n"
   ]
  },
  {
   "cell_type": "code",
   "execution_count": null,
   "id": "ecb4404d",
   "metadata": {},
   "outputs": [],
   "source": [
    "dds_df = pd.read_csv(\n",
    "    deseq_path.joinpath(\n",
    "        \"sample_cluster_no_replicates_Metastatic_BB+Normal+Primary_dds.csv\"\n",
    "    ),\n",
    "    index_col=0,\n",
    ")"
   ]
  },
  {
   "cell_type": "markdown",
   "id": "55546521",
   "metadata": {},
   "source": [
    "Keep only genes with SYMBOL IDs\n"
   ]
  },
  {
   "cell_type": "code",
   "execution_count": null,
   "id": "a1661ca6",
   "metadata": {},
   "outputs": [],
   "source": [
    "genes_symbol = map_gene_id(\n",
    "    dds_df.index, org_db, from_type=\"ENSEMBL\", to_type=\"SYMBOL\"\n",
    ").dropna()\n",
    "dds_df = dds_df.loc[genes_symbol.index, :]\n",
    "dds_df.index = genes_symbol.values"
   ]
  },
  {
   "cell_type": "markdown",
   "id": "55546521",
   "metadata": {},
   "source": [
    "Calculate mean gene counts\n"
   ]
  },
  {
   "cell_type": "code",
   "execution_count": null,
   "id": "c9903beb",
   "metadata": {},
   "outputs": [],
   "source": [
    "mean_gene_counts = dds_df.mean(axis=1).sort_values(ascending=False)\n",
    "print(\n",
    "    f\"{goi} is the {mean_gene_counts.index.get_loc(goi)}th most expressed gene \"\n",
    "    f\"with an average row count of {mean_gene_counts[goi]:.2f}.\"\n",
    ")"
   ]
  },
  {
   "cell_type": "code",
   "execution_count": null,
   "id": "13ee6d6d",
   "metadata": {},
   "outputs": [],
   "source": [
    "mean_gene_counts_filtered = mean_gene_counts[mean_gene_counts > 10]\n",
    "gene_80th = mean_gene_counts_filtered.index[int(len(mean_gene_counts_filtered) * 0.8)]\n",
    "print(\n",
    "    f\"{gene_80th} is the {mean_gene_counts_filtered.index.get_loc(gene_80th)}th most\"\n",
    "    \" expressed gene with an average row count of\"\n",
    "    f\" {mean_gene_counts_filtered[gene_80th]:.2f}.\"\n",
    ")"
   ]
  },
  {
   "cell_type": "code",
   "execution_count": null,
   "id": "e0e56488",
   "metadata": {},
   "outputs": [],
   "source": [
    "depth: int = 29539.67  # FOLH1 mean raw counts\n",
    "cv: float = 0.5\n",
    "effect: float = ro.FloatVector([1.25, 1.5, 1.75, 2])\n",
    "alpha: float = 0.05\n",
    "power: float = ro.FloatVector([0.8, 0.85, 0.9, 0.95])"
   ]
  },
  {
   "cell_type": "code",
   "execution_count": null,
   "id": "cedc5450",
   "metadata": {},
   "outputs": [],
   "source": [
    "print(rnapower(depth=depth, cv=cv, effect=effect, alpha=alpha, power=power))"
   ]
  }
 ],
 "metadata": {
  "kernelspec": {
   "display_name": "Python 3.9.13 ('bioinfo')",
   "language": "python",
   "name": "python3"
  },
  "language_info": {
   "codemirror_mode": {
    "name": "ipython",
    "version": 3
   },
   "file_extension": ".py",
   "mimetype": "text/x-python",
   "name": "python",
   "nbconvert_exporter": "python",
   "pygments_lexer": "ipython3",
   "version": "3.9.13"
  },
  "vscode": {
   "interpreter": {
    "hash": "0a3c43ae5054104da7c0ae0e54c971e03f6db1cac95975f4ca433f362d99bd9b"
   }
  }
 },
 "nbformat": 4,
 "nbformat_minor": 5
}
