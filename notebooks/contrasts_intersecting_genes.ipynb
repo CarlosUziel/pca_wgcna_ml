{
 "cells": [
  {
   "cell_type": "code",
   "execution_count": 1,
   "id": "da6bc368-f4fa-46ae-9e40-a03a90e7e125",
   "metadata": {},
   "outputs": [],
   "source": [
    "%load_ext autoreload\n",
    "%autoreload 2"
   ]
  },
  {
   "cell_type": "code",
   "execution_count": 2,
   "id": "ff3dd304-0ffa-4566-8216-fc21b838afea",
   "metadata": {},
   "outputs": [],
   "source": [
    "import logging\n",
    "import sys\n",
    "import warnings\n",
    "from pathlib import Path\n",
    "from typing import Dict\n",
    "\n",
    "import pandas as pd\n",
    "from rich import traceback\n",
    "from rpy2.rinterface_lib.callbacks import logger as rpy2_logger"
   ]
  },
  {
   "cell_type": "code",
   "execution_count": 3,
   "id": "43a9cf7a-330e-47c3-8a13-036ad19c78bb",
   "metadata": {},
   "outputs": [],
   "source": [
    "src_path: str = \"../src\"\n",
    "sys.path.append(src_path)\n",
    "\n",
    "_ = traceback.install()\n",
    "rpy2_logger.setLevel(logging.ERROR)\n",
    "logging.basicConfig(force=True)\n",
    "logging.getLogger().setLevel(logging.ERROR)\n",
    "warnings.filterwarnings(\"ignore\")"
   ]
  },
  {
   "cell_type": "code",
   "execution_count": 4,
   "id": "6a68f68a",
   "metadata": {},
   "outputs": [],
   "source": [
    "import rpy2.robjects as ro\n",
    "\n",
    "from components.functional_analysis.orgdb import OrgDB\n",
    "from r_wrappers.complex_heatmaps import complex_heatmap, heatmap_annotation\n",
    "from r_wrappers.utils import map_gene_id\n",
    "\n",
    "org_db = OrgDB(\"Homo sapiens\")"
   ]
  },
  {
   "cell_type": "code",
   "execution_count": 5,
   "id": "a1c94eab",
   "metadata": {},
   "outputs": [],
   "source": [
    "ROOT_PATH: Path = Path(\"/media/ssd/Perez/storage/PCTA_WCDT_GSE221601_FILTERED\")\n",
    "FIGURES_PATH: Path = ROOT_PATH.joinpath(\"manuscript_figures\")\n",
    "FIGURES_PATH.mkdir(parents=True, exist_ok=True)"
   ]
  },
  {
   "cell_type": "code",
   "execution_count": 6,
   "metadata": {},
   "outputs": [],
   "source": [
    "ANNOT_DF = pd.read_csv(ROOT_PATH / \"data\" / \"samples_annotation.csv\", index_col=0)\n",
    "\n",
    "VST_DF = pd.read_csv(\n",
    "    ROOT_PATH / \"deseq2\" / \"sample_type_hspc+mcrpc+norm+prim__vst.csv\", index_col=0\n",
    ")\n",
    "VST_DF.index = map_gene_id(VST_DF.index, org_db, \"ENSEMBL\", \"SYMBOL\")\n",
    "VST_DF = VST_DF.loc[~VST_DF.index.str.contains(\"/\", na=False)]\n",
    "VST_DF = VST_DF.loc[VST_DF.index.dropna().drop_duplicates(keep=False)]\n",
    "\n",
    "CONTRASTS_LEVELS_COLORS = {\n",
    "    \"mcrpc\": \"#8B3A3A\",\n",
    "    \"prim\": \"#4A708B\",\n",
    "    \"hspc\": \"#8B008B\",\n",
    "    \"norm\": \"#9ACD32\",\n",
    "}\n",
    "\n",
    "CONTRASTS_LEVELS_ORDER = [\"norm\", \"prim\", \"hspc\", \"mcrpc\"]"
   ]
  },
  {
   "cell_type": "markdown",
   "id": "4e45dd52",
   "metadata": {},
   "source": [
    "## Integrative analysis of Differential Expression, WGCNA and ML results\n",
    "\n",
    "---\n"
   ]
  },
  {
   "cell_type": "markdown",
   "metadata": {},
   "source": [
    "## 1. Identify the most promising module combinations"
   ]
  },
  {
   "cell_type": "code",
   "execution_count": 7,
   "metadata": {},
   "outputs": [],
   "source": [
    "results_path = ROOT_PATH / \"integrative_analysis\" / \"intersecting_wgcna_pathways\"\n",
    "wgcna_int_results = {}\n",
    "\n",
    "for int_wgcna_file in results_path.rglob(\"*.csv\"):\n",
    "    file_name = int_wgcna_file.stem\n",
    "    if \"up\" in file_name or \"down\" in file_name:\n",
    "        wgcna_int_results[file_name] = {\n",
    "            \"file_path\": str(int_wgcna_file),\n",
    "            \"count\": int(file_name.split(\"_\")[-1]),\n",
    "        }\n",
    "wgcna_int_results_df = pd.DataFrame(wgcna_int_results).T.sort_values(\n",
    "    \"count\", ascending=False\n",
    ")"
   ]
  },
  {
   "cell_type": "code",
   "execution_count": 8,
   "metadata": {},
   "outputs": [
    {
     "data": {
      "text/plain": [
       "{'comparison_0_padj_0_05_up_1_0_bicor_signed_intersecting_wgcna_pathways_M3+M2+M1_20': {'file_path': '/media/ssd/Perez/storage/PCTA_WCDT_GSE221601_FILTERED/integrative_analysis/intersecting_wgcna_pathways/REACTOME/comparison_0_padj_0_05_up_1_0_bicor_signed_intersecting_wgcna_pathways_M3+M2+M1_20.csv',\n",
       "  'count': 20},\n",
       " 'comparison_0_padj_0_05_up_1_0_bicor_signed_intersecting_wgcna_pathways_M3+M2+M1_1': {'file_path': '/media/ssd/Perez/storage/PCTA_WCDT_GSE221601_FILTERED/integrative_analysis/intersecting_wgcna_pathways/DO/comparison_0_padj_0_05_up_1_0_bicor_signed_intersecting_wgcna_pathways_M3+M2+M1_1.csv',\n",
       "  'count': 1},\n",
       " 'comparison_0_padj_0_05_up_1_0_bicor_signed_intersecting_wgcna_pathways_M3+M5+M2_0': {'file_path': '/media/ssd/Perez/storage/PCTA_WCDT_GSE221601_FILTERED/integrative_analysis/intersecting_wgcna_pathways/REACTOME/comparison_0_padj_0_05_up_1_0_bicor_signed_intersecting_wgcna_pathways_M3+M5+M2_0.csv',\n",
       "  'count': 0},\n",
       " 'comparison_0_padj_0_05_up_1_0_bicor_signed_intersecting_wgcna_pathways_M3+M2+M2_0': {'file_path': '/media/ssd/Perez/storage/PCTA_WCDT_GSE221601_FILTERED/integrative_analysis/intersecting_wgcna_pathways/DO/comparison_0_padj_0_05_up_1_0_bicor_signed_intersecting_wgcna_pathways_M3+M2+M2_0.csv',\n",
       "  'count': 0},\n",
       " 'comparison_0_padj_0_05_up_1_0_bicor_signed_intersecting_wgcna_pathways_M3+M3+M1_0': {'file_path': '/media/ssd/Perez/storage/PCTA_WCDT_GSE221601_FILTERED/integrative_analysis/intersecting_wgcna_pathways/DO/comparison_0_padj_0_05_up_1_0_bicor_signed_intersecting_wgcna_pathways_M3+M3+M1_0.csv',\n",
       "  'count': 0}}"
      ]
     },
     "metadata": {},
     "output_type": "display_data"
    }
   ],
   "source": [
    "display(wgcna_int_results_df[:5].to_dict(\"index\"))"
   ]
  },
  {
   "cell_type": "code",
   "execution_count": 9,
   "metadata": {},
   "outputs": [],
   "source": [
    "CHOSEN_PATH: Path = Path(wgcna_int_results_df.iloc[0][\"file_path\"])"
   ]
  },
  {
   "cell_type": "code",
   "execution_count": 10,
   "metadata": {},
   "outputs": [
    {
     "name": "stdout",
     "output_type": "stream",
     "text": [
      "{'prim_vs_norm': 'M3', 'hspc_vs_prim': 'M2', 'mcrpc_vs_hspc': 'M1'}\n"
     ]
    }
   ],
   "source": [
    "WGCNA_INT_PATHWAYS_DF: pd.DataFrame = pd.read_csv(CHOSEN_PATH)\n",
    "WGCNA_MODULES: Dict[str, str] = {\n",
    "    \"_\".join(contrast.split(\"_\")[:-1]): contrast.split(\"_\")[-1]\n",
    "    for contrast in WGCNA_INT_PATHWAYS_DF.columns[:3]\n",
    "}\n",
    "\n",
    "print(WGCNA_MODULES)"
   ]
  },
  {
   "cell_type": "markdown",
   "metadata": {},
   "source": [
    "## 2. Get shared genes between chosen WGCNA modules and ML results"
   ]
  },
  {
   "cell_type": "markdown",
   "metadata": {},
   "source": [
    "Check average test scores per contrast"
   ]
  },
  {
   "cell_type": "code",
   "execution_count": 11,
   "metadata": {},
   "outputs": [
    {
     "data": {
      "text/html": [
       "<div>\n",
       "<style scoped>\n",
       "    .dataframe tbody tr th:only-of-type {\n",
       "        vertical-align: middle;\n",
       "    }\n",
       "\n",
       "    .dataframe tbody tr th {\n",
       "        vertical-align: top;\n",
       "    }\n",
       "\n",
       "    .dataframe thead th {\n",
       "        text-align: right;\n",
       "    }\n",
       "</style>\n",
       "<table border=\"1\" class=\"dataframe\">\n",
       "  <thead>\n",
       "    <tr style=\"text-align: right;\">\n",
       "      <th></th>\n",
       "      <th>average_precision</th>\n",
       "      <th>F1S</th>\n",
       "      <th>balanced_accuracy</th>\n",
       "    </tr>\n",
       "  </thead>\n",
       "  <tbody>\n",
       "    <tr>\n",
       "      <th>sample_type_hspc+mcrpc+norm+prim__hspc_vs_prim_padj_0_05_all_1_0</th>\n",
       "      <td>0.997609</td>\n",
       "      <td>0.997854</td>\n",
       "      <td>0.983870</td>\n",
       "    </tr>\n",
       "    <tr>\n",
       "      <th>sample_type_hspc+mcrpc+norm+prim__prim_vs_norm_padj_0_05_up_1_0</th>\n",
       "      <td>0.976799</td>\n",
       "      <td>0.979974</td>\n",
       "      <td>0.953950</td>\n",
       "    </tr>\n",
       "    <tr>\n",
       "      <th>sample_type_hspc+mcrpc+norm+prim__hspc_vs_prim_padj_0_05_up_1_0</th>\n",
       "      <td>0.986419</td>\n",
       "      <td>0.947954</td>\n",
       "      <td>0.905609</td>\n",
       "    </tr>\n",
       "    <tr>\n",
       "      <th>sample_type_hspc+mcrpc+norm+prim__prim_vs_norm_padj_0_05_all_1_0</th>\n",
       "      <td>0.964713</td>\n",
       "      <td>0.964182</td>\n",
       "      <td>0.928375</td>\n",
       "    </tr>\n",
       "    <tr>\n",
       "      <th>sample_type_hspc+mcrpc+norm+prim__hspc_vs_prim_padj_0_05_down_1_0</th>\n",
       "      <td>0.999268</td>\n",
       "      <td>0.999615</td>\n",
       "      <td>0.995092</td>\n",
       "    </tr>\n",
       "    <tr>\n",
       "      <th>sample_type_hspc+mcrpc+norm+prim__mcrpc_vs_hspc_padj_0_05_all_1_0</th>\n",
       "      <td>0.989547</td>\n",
       "      <td>0.991338</td>\n",
       "      <td>0.963127</td>\n",
       "    </tr>\n",
       "    <tr>\n",
       "      <th>sample_type_hspc+mcrpc+norm+prim__mcrpc_vs_hspc_padj_0_05_up_1_0</th>\n",
       "      <td>0.988415</td>\n",
       "      <td>0.978617</td>\n",
       "      <td>0.957802</td>\n",
       "    </tr>\n",
       "    <tr>\n",
       "      <th>sample_type_hspc+mcrpc+norm+prim__mcrpc_vs_hspc_padj_0_05_down_1_0</th>\n",
       "      <td>0.974276</td>\n",
       "      <td>0.986848</td>\n",
       "      <td>0.909147</td>\n",
       "    </tr>\n",
       "    <tr>\n",
       "      <th>sample_type_hspc+mcrpc+norm+prim__prim_vs_norm_padj_0_05_down_1_0</th>\n",
       "      <td>0.980829</td>\n",
       "      <td>0.985001</td>\n",
       "      <td>0.962460</td>\n",
       "    </tr>\n",
       "  </tbody>\n",
       "</table>\n",
       "</div>"
      ],
      "text/plain": [
       "                                                    average_precision  \\\n",
       "sample_type_hspc+mcrpc+norm+prim__hspc_vs_prim_...           0.997609   \n",
       "sample_type_hspc+mcrpc+norm+prim__prim_vs_norm_...           0.976799   \n",
       "sample_type_hspc+mcrpc+norm+prim__hspc_vs_prim_...           0.986419   \n",
       "sample_type_hspc+mcrpc+norm+prim__prim_vs_norm_...           0.964713   \n",
       "sample_type_hspc+mcrpc+norm+prim__hspc_vs_prim_...           0.999268   \n",
       "sample_type_hspc+mcrpc+norm+prim__mcrpc_vs_hspc...           0.989547   \n",
       "sample_type_hspc+mcrpc+norm+prim__mcrpc_vs_hspc...           0.988415   \n",
       "sample_type_hspc+mcrpc+norm+prim__mcrpc_vs_hspc...           0.974276   \n",
       "sample_type_hspc+mcrpc+norm+prim__prim_vs_norm_...           0.980829   \n",
       "\n",
       "                                                         F1S  \\\n",
       "sample_type_hspc+mcrpc+norm+prim__hspc_vs_prim_...  0.997854   \n",
       "sample_type_hspc+mcrpc+norm+prim__prim_vs_norm_...  0.979974   \n",
       "sample_type_hspc+mcrpc+norm+prim__hspc_vs_prim_...  0.947954   \n",
       "sample_type_hspc+mcrpc+norm+prim__prim_vs_norm_...  0.964182   \n",
       "sample_type_hspc+mcrpc+norm+prim__hspc_vs_prim_...  0.999615   \n",
       "sample_type_hspc+mcrpc+norm+prim__mcrpc_vs_hspc...  0.991338   \n",
       "sample_type_hspc+mcrpc+norm+prim__mcrpc_vs_hspc...  0.978617   \n",
       "sample_type_hspc+mcrpc+norm+prim__mcrpc_vs_hspc...  0.986848   \n",
       "sample_type_hspc+mcrpc+norm+prim__prim_vs_norm_...  0.985001   \n",
       "\n",
       "                                                    balanced_accuracy  \n",
       "sample_type_hspc+mcrpc+norm+prim__hspc_vs_prim_...           0.983870  \n",
       "sample_type_hspc+mcrpc+norm+prim__prim_vs_norm_...           0.953950  \n",
       "sample_type_hspc+mcrpc+norm+prim__hspc_vs_prim_...           0.905609  \n",
       "sample_type_hspc+mcrpc+norm+prim__prim_vs_norm_...           0.928375  \n",
       "sample_type_hspc+mcrpc+norm+prim__hspc_vs_prim_...           0.995092  \n",
       "sample_type_hspc+mcrpc+norm+prim__mcrpc_vs_hspc...           0.963127  \n",
       "sample_type_hspc+mcrpc+norm+prim__mcrpc_vs_hspc...           0.957802  \n",
       "sample_type_hspc+mcrpc+norm+prim__mcrpc_vs_hspc...           0.909147  \n",
       "sample_type_hspc+mcrpc+norm+prim__prim_vs_norm_...           0.962460  "
      ]
     },
     "execution_count": 11,
     "metadata": {},
     "output_type": "execute_result"
    }
   ],
   "source": [
    "scores = {}\n",
    "for test_scores_file in (ROOT_PATH / \"ml_classifiers\").rglob(\n",
    "    \"bootstrap_10000_test_scores.csv\"\n",
    "):\n",
    "    test_scores_df = pd.read_csv(test_scores_file, index_col=0)\n",
    "    scores[test_scores_file.parents[3].stem] = test_scores_df.mean()\n",
    "pd.DataFrame(scores).T"
   ]
  },
  {
   "cell_type": "markdown",
   "metadata": {},
   "source": [
    "Shared DEGs between WGCNA modules fltered by SHAP values"
   ]
  },
  {
   "cell_type": "code",
   "execution_count": 12,
   "metadata": {},
   "outputs": [
    {
     "name": "stdout",
     "output_type": "stream",
     "text": [
      "Results file path:\n",
      " /media/ssd/Perez/storage/PCTA_WCDT_GSE221601_FILTERED/integrative_analysis/intersecting_wgcna_shap/random_forest_10000/comparison_0_padj_0_05_up_1_0_bicor_signed_random_forest_10000_shap_values_1e-05_intersecting_wgcna_M3+M2+M1_ENTREZID_22.csv\n",
      "Shape:\n",
      " (201, 8)\n"
     ]
    },
    {
     "data": {
      "text/html": [
       "<div>\n",
       "<style scoped>\n",
       "    .dataframe tbody tr th:only-of-type {\n",
       "        vertical-align: middle;\n",
       "    }\n",
       "\n",
       "    .dataframe tbody tr th {\n",
       "        vertical-align: top;\n",
       "    }\n",
       "\n",
       "    .dataframe thead th {\n",
       "        text-align: right;\n",
       "    }\n",
       "</style>\n",
       "<table border=\"1\" class=\"dataframe\">\n",
       "  <thead>\n",
       "    <tr style=\"text-align: right;\">\n",
       "      <th></th>\n",
       "      <th>prim_vs_norm_M3</th>\n",
       "      <th>hspc_vs_prim_M2</th>\n",
       "      <th>mcrpc_vs_hspc_M1</th>\n",
       "      <th>module</th>\n",
       "      <th>stat</th>\n",
       "      <th>SYMBOL</th>\n",
       "      <th>GENENAME</th>\n",
       "      <th>GENETYPE</th>\n",
       "    </tr>\n",
       "    <tr>\n",
       "      <th>ENTREZID</th>\n",
       "      <th></th>\n",
       "      <th></th>\n",
       "      <th></th>\n",
       "      <th></th>\n",
       "      <th></th>\n",
       "      <th></th>\n",
       "      <th></th>\n",
       "      <th></th>\n",
       "    </tr>\n",
       "  </thead>\n",
       "  <tbody>\n",
       "    <tr>\n",
       "      <th>9232</th>\n",
       "      <td>True</td>\n",
       "      <td>True</td>\n",
       "      <td>True</td>\n",
       "      <td>M3</td>\n",
       "      <td>12.142774</td>\n",
       "      <td>PTTG1</td>\n",
       "      <td>PTTG1 regulator of sister chromatid separation...</td>\n",
       "      <td>protein-coding</td>\n",
       "    </tr>\n",
       "    <tr>\n",
       "      <th>1058</th>\n",
       "      <td>True</td>\n",
       "      <td>True</td>\n",
       "      <td>True</td>\n",
       "      <td>M3</td>\n",
       "      <td>14.746854</td>\n",
       "      <td>CENPA</td>\n",
       "      <td>centromere protein A</td>\n",
       "      <td>protein-coding</td>\n",
       "    </tr>\n",
       "    <tr>\n",
       "      <th>1063</th>\n",
       "      <td>True</td>\n",
       "      <td>True</td>\n",
       "      <td>True</td>\n",
       "      <td>M3</td>\n",
       "      <td>18.528588</td>\n",
       "      <td>CENPF</td>\n",
       "      <td>centromere protein F</td>\n",
       "      <td>protein-coding</td>\n",
       "    </tr>\n",
       "    <tr>\n",
       "      <th>9787</th>\n",
       "      <td>True</td>\n",
       "      <td>True</td>\n",
       "      <td>True</td>\n",
       "      <td>M3</td>\n",
       "      <td>17.270347</td>\n",
       "      <td>DLGAP5</td>\n",
       "      <td>DLG associated protein 5</td>\n",
       "      <td>protein-coding</td>\n",
       "    </tr>\n",
       "    <tr>\n",
       "      <th>24137</th>\n",
       "      <td>True</td>\n",
       "      <td>True</td>\n",
       "      <td>True</td>\n",
       "      <td>M3</td>\n",
       "      <td>19.737857</td>\n",
       "      <td>KIF4A</td>\n",
       "      <td>kinesin family member 4A</td>\n",
       "      <td>protein-coding</td>\n",
       "    </tr>\n",
       "  </tbody>\n",
       "</table>\n",
       "</div>"
      ],
      "text/plain": [
       "          prim_vs_norm_M3  hspc_vs_prim_M2  mcrpc_vs_hspc_M1 module  \\\n",
       "ENTREZID                                                              \n",
       "9232                 True             True              True     M3   \n",
       "1058                 True             True              True     M3   \n",
       "1063                 True             True              True     M3   \n",
       "9787                 True             True              True     M3   \n",
       "24137                True             True              True     M3   \n",
       "\n",
       "               stat  SYMBOL  \\\n",
       "ENTREZID                      \n",
       "9232      12.142774   PTTG1   \n",
       "1058      14.746854   CENPA   \n",
       "1063      18.528588   CENPF   \n",
       "9787      17.270347  DLGAP5   \n",
       "24137     19.737857   KIF4A   \n",
       "\n",
       "                                                   GENENAME        GENETYPE  \n",
       "ENTREZID                                                                     \n",
       "9232      PTTG1 regulator of sister chromatid separation...  protein-coding  \n",
       "1058                                   centromere protein A  protein-coding  \n",
       "1063                                   centromere protein F  protein-coding  \n",
       "9787                               DLG associated protein 5  protein-coding  \n",
       "24137                              kinesin family member 4A  protein-coding  "
      ]
     },
     "metadata": {},
     "output_type": "display_data"
    }
   ],
   "source": [
    "results_path = (\n",
    "    ROOT_PATH\n",
    "    / \"integrative_analysis\"\n",
    "    / \"intersecting_wgcna_shap\"\n",
    "    / \"random_forest_10000\"\n",
    ")\n",
    "ml_path_pattern = \"_\".join(\n",
    "    CHOSEN_PATH.stem.split(\"_\")[:-1]\n",
    ").replace(\n",
    "    \"intersecting_wgcna_pathways\",\n",
    "    \"random_forest_10000_shap_values_1e-05_intersecting_wgcna\",\n",
    ")\n",
    "wgcna_ml_results_path = next(results_path.glob(f\"{ml_path_pattern}*.csv\"))\n",
    "print(\"Results file path:\\n\", wgcna_ml_results_path)\n",
    "wgcna_ml_results = pd.read_csv(wgcna_ml_results_path, index_col=0)\n",
    "print(\"Shape:\\n\", wgcna_ml_results.shape)\n",
    "display(wgcna_ml_results.head())"
   ]
  },
  {
   "cell_type": "markdown",
   "metadata": {},
   "source": [
    "### 2.1. Heatmap of shared genes filtered by SHAP values"
   ]
  },
  {
   "cell_type": "code",
   "execution_count": 22,
   "metadata": {},
   "outputs": [],
   "source": [
    "wgcna_ml_results_filt = wgcna_ml_results.loc[\n",
    "    wgcna_ml_results[\"prim_vs_norm_M3\"]\n",
    "    & wgcna_ml_results[\"hspc_vs_prim_M2\"]\n",
    "    & wgcna_ml_results[\"mcrpc_vs_hspc_M1\"]\n",
    "]\n",
    "vst_filt = VST_DF.loc[wgcna_ml_results_filt[\"SYMBOL\"]]\n",
    "counts_matrix = vst_filt.sub(vst_filt.mean(axis=1), axis=0)"
   ]
  },
  {
   "cell_type": "code",
   "execution_count": 23,
   "metadata": {},
   "outputs": [],
   "source": [
    "# Create column annotation for sample types\n",
    "ha_column = heatmap_annotation(\n",
    "    df=ANNOT_DF[[\"sample_type\"]].loc[counts_matrix.columns],\n",
    "    col={\"sample_type\": CONTRASTS_LEVELS_COLORS},\n",
    "    show_annotation_name=True,\n",
    "    annotation_legend_param=ro.ListVector(\n",
    "        {\"sample_type\": ro.ListVector({\"at\": ro.StrVector(CONTRASTS_LEVELS_ORDER)})}\n",
    "    ),\n",
    ")\n",
    "\n",
    "# Generate heatmap\n",
    "complex_heatmap(\n",
    "    counts_matrix,\n",
    "    save_path=FIGURES_PATH / f\"{wgcna_ml_results_path.stem}_shared_genes_heatmap.pdf\",\n",
    "    width=10,\n",
    "    height=8,\n",
    "    name=\"VST\",\n",
    "    column_title=(\n",
    "        \"Shared genes (SHAP > 1e-5) between WGCNA modules M3 (prim vs norm), \"\n",
    "        \"M2 (hspc vs prim) and M1 (mcrpc vs hspc)\"\n",
    "    ),\n",
    "    top_annotation=ha_column,\n",
    "    show_row_names=True,\n",
    "    show_column_names=False,\n",
    "    cluster_columns=False,\n",
    "    cluster_rows=True,\n",
    "    column_split=ro.r.factor(\n",
    "        ro.StrVector(ANNOT_DF[\"sample_type\"].loc[counts_matrix.columns].tolist()),\n",
    "        levels=ro.StrVector(CONTRASTS_LEVELS_ORDER),\n",
    "    ),\n",
    "    cluster_column_slices=False,\n",
    "    heatmap_legend_param=ro.r('list(title=\"VST\")'),\n",
    ")"
   ]
  },
  {
   "cell_type": "markdown",
   "metadata": {},
   "source": [
    "### 2.2. Heatmap of genes filtered by SHAP values only in prim/norm"
   ]
  },
  {
   "cell_type": "code",
   "execution_count": 24,
   "metadata": {},
   "outputs": [],
   "source": [
    "wgcna_ml_results_filt = wgcna_ml_results.loc[\n",
    "    wgcna_ml_results[\"prim_vs_norm_M3\"]\n",
    "    & ~wgcna_ml_results[\"hspc_vs_prim_M2\"]\n",
    "    & ~wgcna_ml_results[\"mcrpc_vs_hspc_M1\"]\n",
    "]\n",
    "vst_filt = VST_DF.loc[wgcna_ml_results_filt[\"SYMBOL\"]]\n",
    "counts_matrix = vst_filt.sub(vst_filt.mean(axis=1), axis=0)"
   ]
  },
  {
   "cell_type": "code",
   "execution_count": 25,
   "metadata": {},
   "outputs": [],
   "source": [
    "# Create column annotation for sample types\n",
    "ha_column = heatmap_annotation(\n",
    "    df=ANNOT_DF[[\"sample_type\"]].loc[counts_matrix.columns],\n",
    "    col={\"sample_type\": CONTRASTS_LEVELS_COLORS},\n",
    "    show_annotation_name=True,\n",
    "    annotation_legend_param=ro.ListVector(\n",
    "        {\"sample_type\": ro.ListVector({\"at\": ro.StrVector(CONTRASTS_LEVELS_ORDER)})}\n",
    "    ),\n",
    ")\n",
    "\n",
    "# Generate heatmap\n",
    "complex_heatmap(\n",
    "    counts_matrix,\n",
    "    save_path=FIGURES_PATH / f\"{wgcna_ml_results_path.stem}_prim_norm_genes_heatmap.pdf\",\n",
    "    width=10,\n",
    "    height=8,\n",
    "    name=\"VST\",\n",
    "    column_title=(\n",
    "        \"Genes (SHAP > 1e-5) only in WGCNA module M3 (prim/norm)\"\n",
    "    ),\n",
    "    top_annotation=ha_column,\n",
    "    show_row_names=True,\n",
    "    show_column_names=False,\n",
    "    cluster_columns=False,\n",
    "    cluster_rows=True,\n",
    "    column_split=ro.r.factor(\n",
    "        ro.StrVector(ANNOT_DF[\"sample_type\"].loc[counts_matrix.columns].tolist()),\n",
    "        levels=ro.StrVector(CONTRASTS_LEVELS_ORDER),\n",
    "    ),\n",
    "    cluster_column_slices=False,\n",
    "    heatmap_legend_param=ro.r('list(title=\"VST\")'),\n",
    ")"
   ]
  },
  {
   "cell_type": "markdown",
   "metadata": {},
   "source": [
    "### 2.3. Heatmap of genes filtered by SHAP values only in hspc/prim"
   ]
  },
  {
   "cell_type": "code",
   "execution_count": 26,
   "metadata": {},
   "outputs": [],
   "source": [
    "wgcna_ml_results_filt = wgcna_ml_results.loc[\n",
    "    ~wgcna_ml_results[\"prim_vs_norm_M3\"]\n",
    "    & wgcna_ml_results[\"hspc_vs_prim_M2\"]\n",
    "    & ~wgcna_ml_results[\"mcrpc_vs_hspc_M1\"]\n",
    "]\n",
    "vst_filt = VST_DF.loc[wgcna_ml_results_filt[\"SYMBOL\"]]\n",
    "counts_matrix = vst_filt.sub(vst_filt.mean(axis=1), axis=0)"
   ]
  },
  {
   "cell_type": "code",
   "execution_count": 27,
   "metadata": {},
   "outputs": [],
   "source": [
    "# Create column annotation for sample types\n",
    "ha_column = heatmap_annotation(\n",
    "    df=ANNOT_DF[[\"sample_type\"]].loc[counts_matrix.columns],\n",
    "    col={\"sample_type\": CONTRASTS_LEVELS_COLORS},\n",
    "    show_annotation_name=True,\n",
    "    annotation_legend_param=ro.ListVector(\n",
    "        {\"sample_type\": ro.ListVector({\"at\": ro.StrVector(CONTRASTS_LEVELS_ORDER)})}\n",
    "    ),\n",
    ")\n",
    "\n",
    "# Generate heatmap\n",
    "complex_heatmap(\n",
    "    counts_matrix,\n",
    "    save_path=FIGURES_PATH\n",
    "    / f\"{wgcna_ml_results_path.stem}_hspc_prim_genes_heatmap.pdf\",\n",
    "    width=10,\n",
    "    height=8,\n",
    "    name=\"VST\",\n",
    "    column_title=(\"Genes (SHAP > 1e-5) only in WGCNA module M3 (hspc/prim)\"),\n",
    "    top_annotation=ha_column,\n",
    "    show_row_names=True,\n",
    "    show_column_names=False,\n",
    "    cluster_columns=False,\n",
    "    cluster_rows=True,\n",
    "    column_split=ro.r.factor(\n",
    "        ro.StrVector(ANNOT_DF[\"sample_type\"].loc[counts_matrix.columns].tolist()),\n",
    "        levels=ro.StrVector(CONTRASTS_LEVELS_ORDER),\n",
    "    ),\n",
    "    cluster_column_slices=False,\n",
    "    heatmap_legend_param=ro.r('list(title=\"VST\")'),\n",
    "    row_names_gp=ro.r(\"gpar(fontsize = 8)\"),\n",
    ")"
   ]
  },
  {
   "cell_type": "markdown",
   "metadata": {},
   "source": [
    "### 2.4. Heatmap of genes filtered by SHAP values only in mcrpc/hspc"
   ]
  },
  {
   "cell_type": "code",
   "execution_count": 28,
   "metadata": {},
   "outputs": [],
   "source": [
    "wgcna_ml_results_filt = wgcna_ml_results.loc[\n",
    "    ~wgcna_ml_results[\"prim_vs_norm_M3\"]\n",
    "    & ~wgcna_ml_results[\"hspc_vs_prim_M2\"]\n",
    "    & wgcna_ml_results[\"mcrpc_vs_hspc_M1\"]\n",
    "]\n",
    "vst_filt = VST_DF.loc[wgcna_ml_results_filt[\"SYMBOL\"]]\n",
    "counts_matrix = vst_filt.sub(vst_filt.mean(axis=1), axis=0)"
   ]
  },
  {
   "cell_type": "code",
   "execution_count": 29,
   "metadata": {},
   "outputs": [],
   "source": [
    "# Create column annotation for sample types\n",
    "ha_column = heatmap_annotation(\n",
    "    df=ANNOT_DF[[\"sample_type\"]].loc[counts_matrix.columns],\n",
    "    col={\"sample_type\": CONTRASTS_LEVELS_COLORS},\n",
    "    show_annotation_name=True,\n",
    "    annotation_legend_param=ro.ListVector(\n",
    "        {\"sample_type\": ro.ListVector({\"at\": ro.StrVector(CONTRASTS_LEVELS_ORDER)})}\n",
    "    ),\n",
    ")\n",
    "\n",
    "# Generate heatmap\n",
    "complex_heatmap(\n",
    "    counts_matrix,\n",
    "    save_path=FIGURES_PATH\n",
    "    / f\"{wgcna_ml_results_path.stem}_mcrpc_hspc_genes_heatmap.pdf\",\n",
    "    width=10,\n",
    "    height=8,\n",
    "    name=\"VST\",\n",
    "    column_title=(\"Genes (SHAP > 1e-5) only in WGCNA module M3 (mcrpc/hspc)\"),\n",
    "    top_annotation=ha_column,\n",
    "    show_row_names=True,\n",
    "    show_column_names=False,\n",
    "    cluster_columns=False,\n",
    "    cluster_rows=True,\n",
    "    column_split=ro.r.factor(\n",
    "        ro.StrVector(ANNOT_DF[\"sample_type\"].loc[counts_matrix.columns].tolist()),\n",
    "        levels=ro.StrVector(CONTRASTS_LEVELS_ORDER),\n",
    "    ),\n",
    "    cluster_column_slices=False,\n",
    "    heatmap_legend_param=ro.r('list(title=\"VST\")'),\n",
    ")"
   ]
  },
  {
   "cell_type": "markdown",
   "metadata": {},
   "source": [
    "## 3. Violin plot of TPX2"
   ]
  },
  {
   "cell_type": "code",
   "execution_count": 31,
   "metadata": {},
   "outputs": [
    {
     "data": {
      "image/png": "[encoded data removed]",
      "text/plain": [
       "<Figure size 800x600 with 1 Axes>"
      ]
     },
     "metadata": {},
     "output_type": "display_data"
    }
   ],
   "source": [
    "import seaborn as sns\n",
    "import matplotlib.pyplot as plt\n",
    "\n",
    "# Get TPX2 expression data\n",
    "tpx2_vst = VST_DF.loc[\"TPX2\"]\n",
    "\n",
    "# Create a DataFrame for plotting\n",
    "plot_df = pd.DataFrame(\n",
    "    {\n",
    "        \"VST Expression\": tpx2_vst,\n",
    "        \"Sample Type\": ANNOT_DF.loc[tpx2_vst.index, \"sample_type\"],\n",
    "    }\n",
    ")\n",
    "\n",
    "# Set style and figure size\n",
    "plt.figure(figsize=(8, 6))\n",
    "sns.set_style(\"whitegrid\")\n",
    "\n",
    "# Create violin plot\n",
    "sns.violinplot(\n",
    "    data=plot_df,\n",
    "    x=\"Sample Type\",\n",
    "    y=\"VST Expression\",\n",
    "    order=CONTRASTS_LEVELS_ORDER,  # Use predefined order: norm -> prim -> hspc -> mcrpc\n",
    "    palette=CONTRASTS_LEVELS_COLORS,  # Use predefined colors for sample types\n",
    ")\n",
    "\n",
    "# Customize plot\n",
    "plt.title(\"TPX2 Expression Across Sample Types\")\n",
    "plt.xticks()\n",
    "plt.tight_layout()\n",
    "\n",
    "# Save plot\n",
    "plt.savefig(FIGURES_PATH / \"tpx2_expression_violin.pdf\")\n",
    "plt.show()\n"
   ]
  },
  {
   "cell_type": "markdown",
   "metadata": {},
   "source": [
    "## 4. Comparison of shared genes with OncotypeDx gene panel"
   ]
  },
  {
   "cell_type": "code",
   "execution_count": 32,
   "metadata": {},
   "outputs": [],
   "source": [
    "ONCOTYPE_DX_GENES = [\n",
    "    # Cancer-related genes\n",
    "    \"BGN\",\n",
    "    \"COL1A1\",\n",
    "    \"SFRP4\",\n",
    "    \"AZGP1\",\n",
    "    \"KLK2\",\n",
    "    \"SRD5A2\",\n",
    "    \"FAM13C\",\n",
    "    \"FLNC\",\n",
    "    \"GSN\",\n",
    "    \"GSTM2\",\n",
    "    \"TPM2\",\n",
    "    \"TPX2\",\n",
    "    # Housekeeping genes\n",
    "    \"RF1\",\n",
    "    \"ATP5E\",\n",
    "    \"CLTC\",\n",
    "    \"GPS1\",\n",
    "    \"PGK1\",\n",
    "]"
   ]
  },
  {
   "cell_type": "code",
   "execution_count": 33,
   "metadata": {},
   "outputs": [
    {
     "data": {
      "text/html": [
       "<div>\n",
       "<style scoped>\n",
       "    .dataframe tbody tr th:only-of-type {\n",
       "        vertical-align: middle;\n",
       "    }\n",
       "\n",
       "    .dataframe tbody tr th {\n",
       "        vertical-align: top;\n",
       "    }\n",
       "\n",
       "    .dataframe thead th {\n",
       "        text-align: right;\n",
       "    }\n",
       "</style>\n",
       "<table border=\"1\" class=\"dataframe\">\n",
       "  <thead>\n",
       "    <tr style=\"text-align: right;\">\n",
       "      <th></th>\n",
       "      <th>prim_vs_norm_M3</th>\n",
       "      <th>hspc_vs_prim_M2</th>\n",
       "      <th>mcrpc_vs_hspc_M1</th>\n",
       "      <th>module</th>\n",
       "      <th>stat</th>\n",
       "      <th>SYMBOL</th>\n",
       "      <th>GENENAME</th>\n",
       "      <th>GENETYPE</th>\n",
       "    </tr>\n",
       "    <tr>\n",
       "      <th>ENTREZID</th>\n",
       "      <th></th>\n",
       "      <th></th>\n",
       "      <th></th>\n",
       "      <th></th>\n",
       "      <th></th>\n",
       "      <th></th>\n",
       "      <th></th>\n",
       "      <th></th>\n",
       "    </tr>\n",
       "  </thead>\n",
       "  <tbody>\n",
       "    <tr>\n",
       "      <th>22974</th>\n",
       "      <td>True</td>\n",
       "      <td>True</td>\n",
       "      <td>True</td>\n",
       "      <td>M3</td>\n",
       "      <td>19.422131</td>\n",
       "      <td>TPX2</td>\n",
       "      <td>TPX2 microtubule nucleation factor</td>\n",
       "      <td>protein-coding</td>\n",
       "    </tr>\n",
       "    <tr>\n",
       "      <th>6424</th>\n",
       "      <td>True</td>\n",
       "      <td>False</td>\n",
       "      <td>False</td>\n",
       "      <td>M3</td>\n",
       "      <td>10.034569</td>\n",
       "      <td>SFRP4</td>\n",
       "      <td>secreted frizzled related protein 4</td>\n",
       "      <td>protein-coding</td>\n",
       "    </tr>\n",
       "  </tbody>\n",
       "</table>\n",
       "</div>"
      ],
      "text/plain": [
       "          prim_vs_norm_M3  hspc_vs_prim_M2  mcrpc_vs_hspc_M1 module  \\\n",
       "ENTREZID                                                              \n",
       "22974                True             True              True     M3   \n",
       "6424                 True            False             False     M3   \n",
       "\n",
       "               stat SYMBOL                             GENENAME  \\\n",
       "ENTREZID                                                          \n",
       "22974     19.422131   TPX2   TPX2 microtubule nucleation factor   \n",
       "6424      10.034569  SFRP4  secreted frizzled related protein 4   \n",
       "\n",
       "                GENETYPE  \n",
       "ENTREZID                  \n",
       "22974     protein-coding  \n",
       "6424      protein-coding  "
      ]
     },
     "metadata": {},
     "output_type": "display_data"
    }
   ],
   "source": [
    "wgcna_ml_results_filt = wgcna_ml_results.loc[\n",
    "    wgcna_ml_results[\"SYMBOL\"].isin(ONCOTYPE_DX_GENES)\n",
    "]\n",
    "display(wgcna_ml_results_filt)"
   ]
  },
  {
   "cell_type": "code",
   "execution_count": null,
   "metadata": {},
   "outputs": [],
   "source": []
  }
 ],
 "metadata": {
  "kernelspec": {
   "display_name": "bioinfo",
   "language": "python",
   "name": "python3"
  },
  "language_info": {
   "codemirror_mode": {
    "name": "ipython",
    "version": 3
   },
   "file_extension": ".py",
   "mimetype": "text/x-python",
   "name": "python",
   "nbconvert_exporter": "python",
   "pygments_lexer": "ipython3",
   "version": "3.12.8"
  },
  "orig_nbformat": 4
 },
 "nbformat": 4,
 "nbformat_minor": 2
}
