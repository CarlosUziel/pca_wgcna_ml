{
  "cells": [
    {
      "cell_type": "code",
      "execution_count": null,
      "id": "da6bc368-f4fa-46ae-9e40-a03a90e7e125",
      "metadata": {},
      "outputs": [],
      "source": [
        "%load_ext autoreload\n",
        "%autoreload 2"
      ]
    },
    {
      "cell_type": "code",
      "execution_count": null,
      "id": "ff3dd304-0ffa-4566-8216-fc21b838afea",
      "metadata": {},
      "outputs": [],
      "source": [
        "import sys\n",
        "import json\n",
        "import pandas as pd\n",
        "import numpy as np\n",
        "import logging\n",
        "import warnings\n",
        "import random\n",
        "\n",
        "from rich import traceback\n",
        "from tqdm.rich import tqdm\n",
        "from rpy2.rinterface_lib.callbacks import logger as rpy2_logger\n",
        "from typing import Tuple, Dict\n",
        "from pathlib import Path"
      ]
    },
    {
      "cell_type": "code",
      "execution_count": null,
      "id": "43a9cf7a-330e-47c3-8a13-036ad19c78bb",
      "metadata": {},
      "outputs": [],
      "source": [
        "src_path: str = \"../../src\"\n",
        "sys.path.append(src_path)\n",
        "\n",
        "_ = traceback.install()\n",
        "rpy2_logger.setLevel(logging.ERROR)\n",
        "logging.basicConfig(force=True)\n",
        "logging.getLogger().setLevel(logging.ERROR)\n",
        "warnings.filterwarnings(\"ignore\")"
      ]
    },
    {
      "cell_type": "code",
      "execution_count": null,
      "id": "6a68f68a",
      "metadata": {},
      "outputs": [],
      "source": [
        "from components.functional_analysis.orgdb import OrgDB\n",
        "\n",
        "org_db = OrgDB(\"Homo sapiens\")"
      ]
    },
    {
      "cell_type": "markdown",
      "id": "4e45dd52",
      "metadata": {},
      "source": [
        "## Integrative analysis of Differential Expression, WGCNA and ML results\n",
        "\n",
        "---\n"
      ]
    },
    {
      "cell_type": "markdown",
      "id": "9de5c015",
      "metadata": {},
      "source": [
        "### 1. Load all gene sets\n"
      ]
    },
    {
      "cell_type": "code",
      "execution_count": null,
      "id": "a1c94eab",
      "metadata": {},
      "outputs": [],
      "source": [
        "root = Path(\"/media/ssd/Perez/storage/TCGA_PRAD_SU2C_RNASeq\")"
      ]
    },
    {
      "cell_type": "markdown",
      "id": "9de5c015",
      "metadata": {},
      "source": [
        "#### 1.1. Differentially expressed genes for prim/norm and met/prim\n"
      ]
    },
    {
      "cell_type": "code",
      "execution_count": null,
      "id": "53fd5074",
      "metadata": {},
      "outputs": [],
      "source": [
        "degs_pri_vs_norm = (\n",
        "    pd.read_csv(\n",
        "        root.joinpath(\"deseq2\").joinpath(\n",
        "            \"sample_cluster_no_replicates_met_bb+norm+prim__\"\n",
        "            \"prim_vs_norm_padj_0_05_up_1_0_deseq_results_unique.csv\"\n",
        "        ),\n",
        "        index_col=0,\n",
        "    )\n",
        "    .dropna(subset=[\"ENTREZID\", \"SYMBOL\"])\n",
        "    .set_index(\"SYMBOL\")\n",
        ")\n",
        "print(degs_pri_vs_norm.shape)\n",
        "\n",
        "degs_met_vs_pri = (\n",
        "    pd.read_csv(\n",
        "        root.joinpath(\"deseq2\").joinpath(\n",
        "            \"sample_cluster_no_replicates_met_bb+norm+prim__\"\n",
        "            \"met_bb_vs_prim_padj_0_05_up_1_0_deseq_results_unique.csv\"\n",
        "        ),\n",
        "        index_col=0,\n",
        "    )\n",
        "    .dropna(subset=[\"ENTREZID\", \"SYMBOL\"])\n",
        "    .set_index(\"SYMBOL\")\n",
        ")\n",
        "print(degs_met_vs_pri.shape)"
      ]
    },
    {
      "cell_type": "markdown",
      "id": "9de5c015",
      "metadata": {},
      "source": [
        "#### 1.2. Machine Learning results for prim/norm and met/prim\n"
      ]
    },
    {
      "cell_type": "code",
      "execution_count": null,
      "id": "32e0db14",
      "metadata": {},
      "outputs": [],
      "source": [
        "ml_pri_vs_nor = (\n",
        "    pd.read_csv(\n",
        "        root.joinpath(\"ml_classifiers\")\n",
        "        .joinpath(\n",
        "            \"sample_cluster_no_replicates_met_bb+norm+prim__\"\n",
        "            \"prim_vs_norm_padj_0_05_up_1_0\"\n",
        "        )\n",
        "        .joinpath(\"random_forest\")\n",
        "        .joinpath(\"genes_features\")\n",
        "        .joinpath(\"bootstrap\")\n",
        "        .joinpath(\"bootstrap_10000_shap_values_0_001.csv\"),\n",
        "    )\n",
        "    .dropna(subset=[\"ENTREZID\", \"SYMBOL\"])\n",
        "    .set_index(\"SYMBOL\")\n",
        ")\n",
        "print(ml_pri_vs_nor.shape)\n",
        "\n",
        "ml_met_vs_pri = (\n",
        "    pd.read_csv(\n",
        "        root.joinpath(\"ml_classifiers\")\n",
        "        .joinpath(\n",
        "            \"sample_cluster_no_replicates_met_bb+norm+prim__\"\n",
        "            \"met_bb_vs_prim_padj_0_05_up_1_0\"\n",
        "        )\n",
        "        .joinpath(\"random_forest\")\n",
        "        .joinpath(\"genes_features\")\n",
        "        .joinpath(\"bootstrap\")\n",
        "        .joinpath(\"bootstrap_10000_shap_values_0_001.csv\"),\n",
        "    )\n",
        "    .dropna(subset=[\"ENTREZID\", \"SYMBOL\"])\n",
        "    .set_index(\"SYMBOL\")\n",
        ")\n",
        "print(ml_met_vs_pri.shape)"
      ]
    },
    {
      "cell_type": "code",
      "execution_count": null,
      "metadata": {},
      "outputs": [],
      "source": [
        "print(ml_pri_vs_nor[\"GENETYPE\"].value_counts())\n",
        "print(ml_met_vs_pri[\"GENETYPE\"].value_counts())"
      ]
    },
    {
      "cell_type": "markdown",
      "id": "9de5c015",
      "metadata": {},
      "source": [
        "#### 1.3. WGCNA results for prim/norm and met/prim\n"
      ]
    },
    {
      "cell_type": "code",
      "execution_count": null,
      "id": "5db8fb98",
      "metadata": {},
      "outputs": [],
      "source": [
        "prim_norm_wgcna_m3_genes = (\n",
        "    pd.read_csv(\n",
        "        root.joinpath(\"wgcna\")\n",
        "        .joinpath(\n",
        "            \"sample_cluster_no_replicates_met_bb+norm+prim__\"\n",
        "            \"prim_vs_norm_padj_0_05_up_1_0\"\n",
        "        )\n",
        "        .joinpath(\"standard\")\n",
        "        .joinpath(\"results\")\n",
        "        .joinpath(\"bicor_signed_M3_204_genes.csv\")\n",
        "    )\n",
        "    .dropna(subset=[\"ENTREZID\", \"SYMBOL\"])\n",
        "    .set_index(\"SYMBOL\")\n",
        ")\n",
        "print(prim_norm_wgcna_m3_genes.shape)\n",
        "\n",
        "met_prim_wgcna_m4_genes = (\n",
        "    pd.read_csv(\n",
        "        root.joinpath(\"wgcna\")\n",
        "        .joinpath(\n",
        "            \"sample_cluster_no_replicates_met_bb+norm+prim__\"\n",
        "            \"met_bb_vs_prim_padj_0_05_up_1_0\"\n",
        "        )\n",
        "        .joinpath(\"standard\")\n",
        "        .joinpath(\"results\")\n",
        "        .joinpath(\"bicor_signed_M4_336_genes.csv\")\n",
        "    )\n",
        "    .dropna(subset=[\"ENTREZID\", \"SYMBOL\"])\n",
        "    .set_index(\"SYMBOL\")\n",
        ")\n",
        "print(met_prim_wgcna_m4_genes.shape)"
      ]
    },
    {
      "cell_type": "code",
      "execution_count": null,
      "metadata": {},
      "outputs": [],
      "source": [
        "print(prim_norm_wgcna_m3_genes[\"GENETYPE\"].value_counts())\n",
        "print(met_prim_wgcna_m4_genes[\"GENETYPE\"].value_counts())"
      ]
    },
    {
      "cell_type": "markdown",
      "metadata": {},
      "source": [
        "---\n"
      ]
    },
    {
      "cell_type": "markdown",
      "id": "9de5c015",
      "metadata": {},
      "source": [
        "### 2. Calculate intersections between comparisons within methods\n"
      ]
    },
    {
      "cell_type": "markdown",
      "id": "9de5c015",
      "metadata": {},
      "source": [
        "#### 2.1. Differentially expressed genes for met/prim and prim/norm\n"
      ]
    },
    {
      "cell_type": "code",
      "execution_count": null,
      "id": "53fd5074",
      "metadata": {},
      "outputs": [],
      "source": [
        "intersecting_degs = degs_pri_vs_norm.index.intersection(degs_met_vs_pri.index)\n",
        "print(intersecting_degs)"
      ]
    },
    {
      "cell_type": "markdown",
      "id": "9de5c015",
      "metadata": {},
      "source": [
        "#### 2.2. Machine Learning results for met/prim and prim/norm\n"
      ]
    },
    {
      "cell_type": "code",
      "execution_count": null,
      "id": "32e0db14",
      "metadata": {},
      "outputs": [],
      "source": [
        "intersecting_ml = ml_pri_vs_nor.index.intersection(ml_met_vs_pri.index)\n",
        "print(intersecting_ml)"
      ]
    },
    {
      "cell_type": "markdown",
      "id": "9de5c015",
      "metadata": {},
      "source": [
        "#### 2.3. WGCNA results for met/prim and prim/norm\n"
      ]
    },
    {
      "cell_type": "code",
      "execution_count": null,
      "id": "5db8fb98",
      "metadata": {},
      "outputs": [],
      "source": [
        "intersecting_wgcna = prim_norm_wgcna_m3_genes.index.intersection(\n",
        "    met_prim_wgcna_m4_genes.index\n",
        ")\n",
        "print(intersecting_wgcna)"
      ]
    },
    {
      "cell_type": "markdown",
      "metadata": {},
      "source": [
        "---\n"
      ]
    },
    {
      "cell_type": "markdown",
      "id": "9de5c015",
      "metadata": {},
      "source": [
        "### 3. Calculate intersections between methods\n"
      ]
    },
    {
      "cell_type": "markdown",
      "id": "9de5c015",
      "metadata": {},
      "source": [
        "#### 3.1. Between ML and WGCNA\n"
      ]
    },
    {
      "cell_type": "code",
      "execution_count": null,
      "id": "90bfbab6",
      "metadata": {},
      "outputs": [],
      "source": [
        "intersecting_ml_wgcna = intersecting_ml.intersection(intersecting_wgcna)\n",
        "print(intersecting_ml_wgcna)"
      ]
    },
    {
      "cell_type": "markdown",
      "metadata": {},
      "source": [
        "---\n"
      ]
    },
    {
      "cell_type": "markdown",
      "id": "9de5c015",
      "metadata": {},
      "source": [
        "### 4. Calculate intersections between comparisons _AND_ methods\n"
      ]
    },
    {
      "cell_type": "markdown",
      "id": "9de5c015",
      "metadata": {},
      "source": [
        "#### 4.1. Between ML and WGCNA\n"
      ]
    },
    {
      "cell_type": "code",
      "execution_count": null,
      "id": "3a09dcdf",
      "metadata": {},
      "outputs": [],
      "source": [
        "intersecting_pri_norm_ml_wgcna_m2 = prim_norm_wgcna_m3_genes.index.intersection(\n",
        "    ml_pri_vs_nor.index\n",
        ")\n",
        "print(intersecting_pri_norm_ml_wgcna_m2)\n",
        "with root.joinpath(\"intersecting_pri_norm_ml_wgcna_m2.json\").open(\"w\") as fp:\n",
        "    json.dump(sorted(intersecting_pri_norm_ml_wgcna_m2), fp, indent=True)"
      ]
    },
    {
      "cell_type": "code",
      "execution_count": null,
      "id": "1e18a1d2",
      "metadata": {},
      "outputs": [],
      "source": [
        "intersecting_met_pri_ml_wgcna_m4 = met_prim_wgcna_m4_genes.index.intersection(\n",
        "    ml_met_vs_pri.index\n",
        ")\n",
        "print(intersecting_met_pri_ml_wgcna_m4)\n",
        "with root.joinpath(\"intersecting_met_pri_ml_wgcna_m4.json\").open(\"w\") as fp:\n",
        "    json.dump(sorted(intersecting_met_pri_ml_wgcna_m4), fp, indent=True)"
      ]
    },
    {
      "cell_type": "markdown",
      "id": "9de5c015",
      "metadata": {},
      "source": [
        "#### 4.2. Between comparisons\n"
      ]
    },
    {
      "cell_type": "code",
      "execution_count": null,
      "id": "a9ed7c64",
      "metadata": {},
      "outputs": [],
      "source": [
        "intersecting_all_ml_wgcna = intersecting_pri_norm_ml_wgcna_m2.intersection(\n",
        "    intersecting_met_pri_ml_wgcna_m4\n",
        ")\n",
        "prim_norm_only_ml_wgcna = intersecting_pri_norm_ml_wgcna_m2.difference(\n",
        "    intersecting_all_ml_wgcna\n",
        ")\n",
        "met_prim_only_ml_wgcna = intersecting_met_pri_ml_wgcna_m4.difference(\n",
        "    intersecting_all_ml_wgcna\n",
        ")\n",
        "\n",
        "with root.joinpath(\"intersecting_ml_wgcna_genes.json\").open(\"w\") as fp:\n",
        "    json.dump(\n",
        "        {\n",
        "            \"DEGs (ML & WGCNA) in both contrasts\": intersecting_all_ml_wgcna.tolist(),\n",
        "            \"DEGs (ML & WGCNA) only in prim/norm\": prim_norm_only_ml_wgcna.tolist(),\n",
        "            \"DEGs (ML & WGCNA) only in met/prim\": met_prim_only_ml_wgcna.tolist(),\n",
        "        },\n",
        "        fp,\n",
        "        indent=True,\n",
        "    )"
      ]
    },
    {
      "cell_type": "code",
      "execution_count": null,
      "metadata": {},
      "outputs": [],
      "source": [
        "print(\n",
        "    json.dumps(\n",
        "        {\n",
        "            \"DEGs (ML & WGCNA) in both contrasts\": len(\n",
        "                intersecting_all_ml_wgcna.tolist()\n",
        "            ),\n",
        "            \"DEGs (ML & WGCNA) only in prim/norm\": len(\n",
        "                prim_norm_only_ml_wgcna.tolist()\n",
        "            ),\n",
        "            \"DEGs (ML & WGCNA) only in met/prim\": len(met_prim_only_ml_wgcna.tolist()),\n",
        "        },\n",
        "        indent=True,\n",
        "    )\n",
        ")"
      ]
    },
    {
      "cell_type": "markdown",
      "metadata": {},
      "source": [
        "---\n"
      ]
    }
  ],
  "metadata": {
    "kernelspec": {
      "display_name": "Python 3.9.13 ('bioinfo')",
      "language": "python",
      "name": "python3"
    },
    "language_info": {
      "codemirror_mode": {
        "name": "ipython",
        "version": 3
      },
      "file_extension": ".py",
      "mimetype": "text/x-python",
      "name": "python",
      "nbconvert_exporter": "python",
      "pygments_lexer": "ipython3",
      "version": "3.9.13 | packaged by conda-forge | (main, May 27 2022, 16:56:21) \n[GCC 10.3.0]"
    },
    "orig_nbformat": 4,
    "vscode": {
      "interpreter": {
        "hash": "0a3c43ae5054104da7c0ae0e54c971e03f6db1cac95975f4ca433f362d99bd9b"
      }
    }
  },
  "nbformat": 4,
  "nbformat_minor": 2
}
