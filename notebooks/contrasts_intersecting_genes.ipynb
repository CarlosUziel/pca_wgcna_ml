{
 "cells": [
  {
   "cell_type": "code",
   "execution_count": 1,
   "id": "da6bc368-f4fa-46ae-9e40-a03a90e7e125",
   "metadata": {},
   "outputs": [],
   "source": [
    "%load_ext autoreload\n",
    "%autoreload 2"
   ]
  },
  {
   "cell_type": "code",
   "execution_count": 2,
   "id": "ff3dd304-0ffa-4566-8216-fc21b838afea",
   "metadata": {},
   "outputs": [],
   "source": [
    "import logging\n",
    "import sys\n",
    "import warnings\n",
    "from pathlib import Path\n",
    "from typing import Dict\n",
    "\n",
    "import pandas as pd\n",
    "from rich import traceback\n",
    "from rpy2.rinterface_lib.callbacks import logger as rpy2_logger"
   ]
  },
  {
   "cell_type": "code",
   "execution_count": 3,
   "id": "43a9cf7a-330e-47c3-8a13-036ad19c78bb",
   "metadata": {},
   "outputs": [],
   "source": [
    "src_path: str = \"../src\"\n",
    "sys.path.append(src_path)\n",
    "\n",
    "_ = traceback.install()\n",
    "rpy2_logger.setLevel(logging.ERROR)\n",
    "logging.basicConfig(force=True)\n",
    "logging.getLogger().setLevel(logging.ERROR)\n",
    "warnings.filterwarnings(\"ignore\")"
   ]
  },
  {
   "cell_type": "code",
   "execution_count": 4,
   "id": "6a68f68a",
   "metadata": {},
   "outputs": [],
   "source": [
    "import rpy2.robjects as ro\n",
    "\n",
    "from components.functional_analysis.orgdb import OrgDB\n",
    "from r_wrappers.complex_heatmaps import complex_heatmap, heatmap_annotation\n",
    "from r_wrappers.utils import map_gene_id\n",
    "\n",
    "org_db = OrgDB(\"Homo sapiens\")"
   ]
  },
  {
   "cell_type": "code",
   "execution_count": 5,
   "id": "a1c94eab",
   "metadata": {},
   "outputs": [],
   "source": [
    "ROOT_PATH: Path = Path(\"/media/ssd/Perez/storage/PCTA_WCDT_GSE221601_FILTERED\")\n",
    "FIGURES_PATH: Path = ROOT_PATH.joinpath(\"manuscript_figures\")\n",
    "FIGURES_PATH.mkdir(parents=True, exist_ok=True)"
   ]
  },
  {
   "cell_type": "code",
   "execution_count": 6,
   "metadata": {},
   "outputs": [],
   "source": [
    "ANNOT_DF = pd.read_csv(ROOT_PATH / \"data\" / \"samples_annotation.csv\", index_col=0)\n",
    "\n",
    "VST_DF = pd.read_csv(\n",
    "    ROOT_PATH / \"deseq2\" / \"sample_type_hspc+mcrpc+norm+prim__vst.csv\", index_col=0\n",
    ")\n",
    "VST_DF.index = map_gene_id(VST_DF.index, org_db, \"ENSEMBL\", \"SYMBOL\")\n",
    "VST_DF = VST_DF.loc[~VST_DF.index.str.contains(\"/\", na=False)]\n",
    "VST_DF = VST_DF.loc[VST_DF.index.dropna().drop_duplicates(keep=False)]\n",
    "\n",
    "CONTRASTS_LEVELS_COLORS = {\n",
    "    \"mcrpc\": \"#8B3A3A\",\n",
    "    \"prim\": \"#4A708B\",\n",
    "    \"hspc\": \"#8B008B\",\n",
    "    \"norm\": \"#9ACD32\",\n",
    "}\n",
    "\n",
    "CONTRASTS_LEVELS_ORDER = [\"norm\", \"prim\", \"hspc\", \"mcrpc\"]"
   ]
  },
  {
   "cell_type": "markdown",
   "id": "4e45dd52",
   "metadata": {},
   "source": [
    "## Integrative analysis of Differential Expression, WGCNA and ML results\n",
    "\n",
    "---\n"
   ]
  },
  {
   "cell_type": "markdown",
   "metadata": {},
   "source": [
    "## 1. Identify the most promising module combinations"
   ]
  },
  {
   "cell_type": "code",
   "execution_count": 7,
   "metadata": {},
   "outputs": [],
   "source": [
    "results_path = ROOT_PATH / \"integrative_analysis\" / \"intersecting_wgcna_pathways\"\n",
    "wgcna_int_results = {}\n",
    "\n",
    "for int_wgcna_file in results_path.rglob(\"*.csv\"):\n",
    "    file_name = int_wgcna_file.stem\n",
    "    if \"up\" in file_name or \"down\" in file_name:\n",
    "        wgcna_int_results[file_name] = {\n",
    "            \"file_path\": str(int_wgcna_file),\n",
    "            \"count\": int(file_name.split(\"_\")[-1]),\n",
    "        }\n",
    "wgcna_int_results_df = pd.DataFrame(wgcna_int_results).T.sort_values(\n",
    "    \"count\", ascending=False\n",
    ")"
   ]
  },
  {
   "cell_type": "code",
   "execution_count": null,
   "metadata": {},
   "outputs": [],
   "source": [
    "display(wgcna_int_results_df[:5].to_dict(\"index\"))"
   ]
  },
  {
   "cell_type": "code",
   "execution_count": 9,
   "metadata": {},
   "outputs": [],
   "source": [
    "CHOSEN_PATH: Path = Path(wgcna_int_results_df.iloc[0][\"file_path\"])"
   ]
  },
  {
   "cell_type": "code",
   "execution_count": null,
   "metadata": {},
   "outputs": [],
   "source": [
    "WGCNA_INT_PATHWAYS_DF: pd.DataFrame = pd.read_csv(CHOSEN_PATH)\n",
    "WGCNA_MODULES: Dict[str, str] = {\n",
    "    \"_\".join(contrast.split(\"_\")[:-1]): contrast.split(\"_\")[-1]\n",
    "    for contrast in WGCNA_INT_PATHWAYS_DF.columns[:3]\n",
    "}\n",
    "\n",
    "print(WGCNA_MODULES)"
   ]
  },
  {
   "cell_type": "markdown",
   "metadata": {},
   "source": [
    "## 2. Get shared genes between chosen WGCNA modules and ML results"
   ]
  },
  {
   "cell_type": "markdown",
   "metadata": {},
   "source": [
    "Check average test scores per contrast"
   ]
  },
  {
   "cell_type": "code",
   "execution_count": null,
   "metadata": {},
   "outputs": [],
   "source": [
    "scores = {}\n",
    "for test_scores_file in (ROOT_PATH / \"ml_classifiers\").rglob(\n",
    "    \"bootstrap_10000_test_scores.csv\"\n",
    "):\n",
    "    test_scores_df = pd.read_csv(test_scores_file, index_col=0)\n",
    "    scores[test_scores_file.parents[3].stem] = test_scores_df.mean()\n",
    "pd.DataFrame(scores).T"
   ]
  },
  {
   "cell_type": "markdown",
   "metadata": {},
   "source": [
    "Shared DEGs between WGCNA modules fltered by SHAP values"
   ]
  },
  {
   "cell_type": "code",
   "execution_count": null,
   "metadata": {},
   "outputs": [],
   "source": [
    "results_path = (\n",
    "    ROOT_PATH\n",
    "    / \"integrative_analysis\"\n",
    "    / \"intersecting_wgcna_shap\"\n",
    "    / \"random_forest_10000\"\n",
    ")\n",
    "ml_path_pattern = \"_\".join(\n",
    "    CHOSEN_PATH.stem.split(\"_\")[:-1]\n",
    ").replace(\n",
    "    \"intersecting_wgcna_pathways\",\n",
    "    \"random_forest_10000_shap_values_1e-05_intersecting_wgcna\",\n",
    ")\n",
    "wgcna_ml_results_path = next(results_path.glob(f\"{ml_path_pattern}*.csv\"))\n",
    "print(\"Results file path:\\n\", wgcna_ml_results_path)\n",
    "wgcna_ml_results = pd.read_csv(wgcna_ml_results_path, index_col=0)\n",
    "print(\"Shape:\\n\", wgcna_ml_results.shape)\n",
    "display(wgcna_ml_results.head())"
   ]
  },
  {
   "cell_type": "markdown",
   "metadata": {},
   "source": [
    "### 2.1. Heatmap of shared genes filtered by SHAP values"
   ]
  },
  {
   "cell_type": "code",
   "execution_count": 22,
   "metadata": {},
   "outputs": [],
   "source": [
    "wgcna_ml_results_filt = wgcna_ml_results.loc[\n",
    "    wgcna_ml_results[\"prim_vs_norm_M3\"]\n",
    "    & wgcna_ml_results[\"hspc_vs_prim_M2\"]\n",
    "    & wgcna_ml_results[\"mcrpc_vs_hspc_M1\"]\n",
    "]\n",
    "vst_filt = VST_DF.loc[wgcna_ml_results_filt[\"SYMBOL\"]]\n",
    "counts_matrix = vst_filt.sub(vst_filt.mean(axis=1), axis=0)"
   ]
  },
  {
   "cell_type": "code",
   "execution_count": 23,
   "metadata": {},
   "outputs": [],
   "source": [
    "# Create column annotation for sample types\n",
    "ha_column = heatmap_annotation(\n",
    "    df=ANNOT_DF[[\"sample_type\"]].loc[counts_matrix.columns],\n",
    "    col={\"sample_type\": CONTRASTS_LEVELS_COLORS},\n",
    "    show_annotation_name=True,\n",
    "    annotation_legend_param=ro.ListVector(\n",
    "        {\"sample_type\": ro.ListVector({\"at\": ro.StrVector(CONTRASTS_LEVELS_ORDER)})}\n",
    "    ),\n",
    ")\n",
    "\n",
    "# Generate heatmap\n",
    "complex_heatmap(\n",
    "    counts_matrix,\n",
    "    save_path=FIGURES_PATH / f\"{wgcna_ml_results_path.stem}_shared_genes_heatmap.pdf\",\n",
    "    width=10,\n",
    "    height=8,\n",
    "    name=\"VST\",\n",
    "    column_title=(\n",
    "        \"Shared genes (SHAP > 1e-5) between WGCNA modules M3 (prim vs norm), \"\n",
    "        \"M2 (hspc vs prim) and M1 (mcrpc vs hspc)\"\n",
    "    ),\n",
    "    top_annotation=ha_column,\n",
    "    show_row_names=True,\n",
    "    show_column_names=False,\n",
    "    cluster_columns=False,\n",
    "    cluster_rows=True,\n",
    "    column_split=ro.r.factor(\n",
    "        ro.StrVector(ANNOT_DF[\"sample_type\"].loc[counts_matrix.columns].tolist()),\n",
    "        levels=ro.StrVector(CONTRASTS_LEVELS_ORDER),\n",
    "    ),\n",
    "    cluster_column_slices=False,\n",
    "    heatmap_legend_param=ro.r('list(title=\"VST\")'),\n",
    ")"
   ]
  },
  {
   "cell_type": "markdown",
   "metadata": {},
   "source": [
    "### 2.2. Heatmap of genes filtered by SHAP values only in prim/norm"
   ]
  },
  {
   "cell_type": "code",
   "execution_count": 24,
   "metadata": {},
   "outputs": [],
   "source": [
    "wgcna_ml_results_filt = wgcna_ml_results.loc[\n",
    "    wgcna_ml_results[\"prim_vs_norm_M3\"]\n",
    "    & ~wgcna_ml_results[\"hspc_vs_prim_M2\"]\n",
    "    & ~wgcna_ml_results[\"mcrpc_vs_hspc_M1\"]\n",
    "]\n",
    "vst_filt = VST_DF.loc[wgcna_ml_results_filt[\"SYMBOL\"]]\n",
    "counts_matrix = vst_filt.sub(vst_filt.mean(axis=1), axis=0)"
   ]
  },
  {
   "cell_type": "code",
   "execution_count": 25,
   "metadata": {},
   "outputs": [],
   "source": [
    "# Create column annotation for sample types\n",
    "ha_column = heatmap_annotation(\n",
    "    df=ANNOT_DF[[\"sample_type\"]].loc[counts_matrix.columns],\n",
    "    col={\"sample_type\": CONTRASTS_LEVELS_COLORS},\n",
    "    show_annotation_name=True,\n",
    "    annotation_legend_param=ro.ListVector(\n",
    "        {\"sample_type\": ro.ListVector({\"at\": ro.StrVector(CONTRASTS_LEVELS_ORDER)})}\n",
    "    ),\n",
    ")\n",
    "\n",
    "# Generate heatmap\n",
    "complex_heatmap(\n",
    "    counts_matrix,\n",
    "    save_path=FIGURES_PATH / f\"{wgcna_ml_results_path.stem}_prim_norm_genes_heatmap.pdf\",\n",
    "    width=10,\n",
    "    height=8,\n",
    "    name=\"VST\",\n",
    "    column_title=(\n",
    "        \"Genes (SHAP > 1e-5) only in WGCNA module M3 (prim/norm)\"\n",
    "    ),\n",
    "    top_annotation=ha_column,\n",
    "    show_row_names=True,\n",
    "    show_column_names=False,\n",
    "    cluster_columns=False,\n",
    "    cluster_rows=True,\n",
    "    column_split=ro.r.factor(\n",
    "        ro.StrVector(ANNOT_DF[\"sample_type\"].loc[counts_matrix.columns].tolist()),\n",
    "        levels=ro.StrVector(CONTRASTS_LEVELS_ORDER),\n",
    "    ),\n",
    "    cluster_column_slices=False,\n",
    "    heatmap_legend_param=ro.r('list(title=\"VST\")'),\n",
    ")"
   ]
  },
  {
   "cell_type": "markdown",
   "metadata": {},
   "source": [
    "### 2.3. Heatmap of genes filtered by SHAP values only in hspc/prim"
   ]
  },
  {
   "cell_type": "code",
   "execution_count": 26,
   "metadata": {},
   "outputs": [],
   "source": [
    "wgcna_ml_results_filt = wgcna_ml_results.loc[\n",
    "    ~wgcna_ml_results[\"prim_vs_norm_M3\"]\n",
    "    & wgcna_ml_results[\"hspc_vs_prim_M2\"]\n",
    "    & ~wgcna_ml_results[\"mcrpc_vs_hspc_M1\"]\n",
    "]\n",
    "vst_filt = VST_DF.loc[wgcna_ml_results_filt[\"SYMBOL\"]]\n",
    "counts_matrix = vst_filt.sub(vst_filt.mean(axis=1), axis=0)"
   ]
  },
  {
   "cell_type": "code",
   "execution_count": 27,
   "metadata": {},
   "outputs": [],
   "source": [
    "# Create column annotation for sample types\n",
    "ha_column = heatmap_annotation(\n",
    "    df=ANNOT_DF[[\"sample_type\"]].loc[counts_matrix.columns],\n",
    "    col={\"sample_type\": CONTRASTS_LEVELS_COLORS},\n",
    "    show_annotation_name=True,\n",
    "    annotation_legend_param=ro.ListVector(\n",
    "        {\"sample_type\": ro.ListVector({\"at\": ro.StrVector(CONTRASTS_LEVELS_ORDER)})}\n",
    "    ),\n",
    ")\n",
    "\n",
    "# Generate heatmap\n",
    "complex_heatmap(\n",
    "    counts_matrix,\n",
    "    save_path=FIGURES_PATH\n",
    "    / f\"{wgcna_ml_results_path.stem}_hspc_prim_genes_heatmap.pdf\",\n",
    "    width=10,\n",
    "    height=8,\n",
    "    name=\"VST\",\n",
    "    column_title=(\"Genes (SHAP > 1e-5) only in WGCNA module M3 (hspc/prim)\"),\n",
    "    top_annotation=ha_column,\n",
    "    show_row_names=True,\n",
    "    show_column_names=False,\n",
    "    cluster_columns=False,\n",
    "    cluster_rows=True,\n",
    "    column_split=ro.r.factor(\n",
    "        ro.StrVector(ANNOT_DF[\"sample_type\"].loc[counts_matrix.columns].tolist()),\n",
    "        levels=ro.StrVector(CONTRASTS_LEVELS_ORDER),\n",
    "    ),\n",
    "    cluster_column_slices=False,\n",
    "    heatmap_legend_param=ro.r('list(title=\"VST\")'),\n",
    "    row_names_gp=ro.r(\"gpar(fontsize = 8)\"),\n",
    ")"
   ]
  },
  {
   "cell_type": "markdown",
   "metadata": {},
   "source": [
    "### 2.4. Heatmap of genes filtered by SHAP values only in mcrpc/hspc"
   ]
  },
  {
   "cell_type": "code",
   "execution_count": 28,
   "metadata": {},
   "outputs": [],
   "source": [
    "wgcna_ml_results_filt = wgcna_ml_results.loc[\n",
    "    ~wgcna_ml_results[\"prim_vs_norm_M3\"]\n",
    "    & ~wgcna_ml_results[\"hspc_vs_prim_M2\"]\n",
    "    & wgcna_ml_results[\"mcrpc_vs_hspc_M1\"]\n",
    "]\n",
    "vst_filt = VST_DF.loc[wgcna_ml_results_filt[\"SYMBOL\"]]\n",
    "counts_matrix = vst_filt.sub(vst_filt.mean(axis=1), axis=0)"
   ]
  },
  {
   "cell_type": "code",
   "execution_count": 29,
   "metadata": {},
   "outputs": [],
   "source": [
    "# Create column annotation for sample types\n",
    "ha_column = heatmap_annotation(\n",
    "    df=ANNOT_DF[[\"sample_type\"]].loc[counts_matrix.columns],\n",
    "    col={\"sample_type\": CONTRASTS_LEVELS_COLORS},\n",
    "    show_annotation_name=True,\n",
    "    annotation_legend_param=ro.ListVector(\n",
    "        {\"sample_type\": ro.ListVector({\"at\": ro.StrVector(CONTRASTS_LEVELS_ORDER)})}\n",
    "    ),\n",
    ")\n",
    "\n",
    "# Generate heatmap\n",
    "complex_heatmap(\n",
    "    counts_matrix,\n",
    "    save_path=FIGURES_PATH\n",
    "    / f\"{wgcna_ml_results_path.stem}_mcrpc_hspc_genes_heatmap.pdf\",\n",
    "    width=10,\n",
    "    height=8,\n",
    "    name=\"VST\",\n",
    "    column_title=(\"Genes (SHAP > 1e-5) only in WGCNA module M3 (mcrpc/hspc)\"),\n",
    "    top_annotation=ha_column,\n",
    "    show_row_names=True,\n",
    "    show_column_names=False,\n",
    "    cluster_columns=False,\n",
    "    cluster_rows=True,\n",
    "    column_split=ro.r.factor(\n",
    "        ro.StrVector(ANNOT_DF[\"sample_type\"].loc[counts_matrix.columns].tolist()),\n",
    "        levels=ro.StrVector(CONTRASTS_LEVELS_ORDER),\n",
    "    ),\n",
    "    cluster_column_slices=False,\n",
    "    heatmap_legend_param=ro.r('list(title=\"VST\")'),\n",
    ")"
   ]
  },
  {
   "cell_type": "markdown",
   "metadata": {},
   "source": [
    "## 3. Violin plot of TPX2"
   ]
  },
  {
   "cell_type": "code",
   "execution_count": null,
   "metadata": {},
   "outputs": [],
   "source": [
    "import seaborn as sns\n",
    "import matplotlib.pyplot as plt\n",
    "\n",
    "# Get TPX2 expression data\n",
    "tpx2_vst = VST_DF.loc[\"TPX2\"]\n",
    "\n",
    "# Create a DataFrame for plotting\n",
    "plot_df = pd.DataFrame(\n",
    "    {\n",
    "        \"VST Expression\": tpx2_vst,\n",
    "        \"Sample Type\": ANNOT_DF.loc[tpx2_vst.index, \"sample_type\"],\n",
    "    }\n",
    ")\n",
    "\n",
    "# Set style and figure size\n",
    "plt.figure(figsize=(8, 6))\n",
    "sns.set_style(\"whitegrid\")\n",
    "\n",
    "# Create violin plot\n",
    "sns.violinplot(\n",
    "    data=plot_df,\n",
    "    x=\"Sample Type\",\n",
    "    y=\"VST Expression\",\n",
    "    order=CONTRASTS_LEVELS_ORDER,  # Use predefined order: norm -> prim -> hspc -> mcrpc\n",
    "    palette=CONTRASTS_LEVELS_COLORS,  # Use predefined colors for sample types\n",
    ")\n",
    "\n",
    "# Customize plot\n",
    "plt.title(\"TPX2 Expression Across Sample Types\")\n",
    "plt.xticks()\n",
    "plt.tight_layout()\n",
    "\n",
    "# Save plot\n",
    "plt.savefig(FIGURES_PATH / \"tpx2_expression_violin.pdf\")\n",
    "plt.show()\n"
   ]
  },
  {
   "cell_type": "markdown",
   "metadata": {},
   "source": [
    "## 4. Comparison of shared genes with OncotypeDx gene panel"
   ]
  },
  {
   "cell_type": "code",
   "execution_count": 32,
   "metadata": {},
   "outputs": [],
   "source": [
    "ONCOTYPE_DX_GENES = [\n",
    "    # Cancer-related genes\n",
    "    \"BGN\",\n",
    "    \"COL1A1\",\n",
    "    \"SFRP4\",\n",
    "    \"AZGP1\",\n",
    "    \"KLK2\",\n",
    "    \"SRD5A2\",\n",
    "    \"FAM13C\",\n",
    "    \"FLNC\",\n",
    "    \"GSN\",\n",
    "    \"GSTM2\",\n",
    "    \"TPM2\",\n",
    "    \"TPX2\",\n",
    "    # Housekeeping genes\n",
    "    \"RF1\",\n",
    "    \"ATP5E\",\n",
    "    \"CLTC\",\n",
    "    \"GPS1\",\n",
    "    \"PGK1\",\n",
    "]"
   ]
  },
  {
   "cell_type": "code",
   "execution_count": null,
   "metadata": {},
   "outputs": [],
   "source": [
    "wgcna_ml_results_filt = wgcna_ml_results.loc[\n",
    "    wgcna_ml_results[\"SYMBOL\"].isin(ONCOTYPE_DX_GENES)\n",
    "]\n",
    "display(wgcna_ml_results_filt)"
   ]
  },
  {
   "cell_type": "code",
   "execution_count": null,
   "metadata": {},
   "outputs": [],
   "source": []
  }
 ],
 "metadata": {
  "kernelspec": {
   "display_name": "bioinfo",
   "language": "python",
   "name": "python3"
  },
  "language_info": {
   "codemirror_mode": {
    "name": "ipython",
    "version": 3
   },
   "file_extension": ".py",
   "mimetype": "text/x-python",
   "name": "python",
   "nbconvert_exporter": "python",
   "pygments_lexer": "ipython3",
   "version": "3.12.8"
  },
  "orig_nbformat": 4
 },
 "nbformat": 4,
 "nbformat_minor": 2
}
