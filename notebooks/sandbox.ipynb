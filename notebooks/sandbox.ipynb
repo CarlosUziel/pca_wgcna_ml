{
 "cells": [
  {
   "cell_type": "markdown",
   "metadata": {},
   "source": [
    "# Python Sandbox\n"
   ]
  },
  {
   "cell_type": "markdown",
   "metadata": {},
   "source": [
    "## Setup"
   ]
  },
  {
   "cell_type": "code",
   "execution_count": 1,
   "metadata": {},
   "outputs": [],
   "source": [
    "%load_ext autoreload\n",
    "%autoreload 2"
   ]
  },
  {
   "cell_type": "markdown",
   "metadata": {},
   "source": [
    "### Imports"
   ]
  },
  {
   "cell_type": "code",
   "execution_count": 14,
   "metadata": {},
   "outputs": [],
   "source": [
    "import sys\n",
    "from pathlib import Path\n",
    "from typing import Iterable\n",
    "\n",
    "import pandas as pd\n",
    "import rpy2.robjects as ro\n",
    "import seaborn as sns\n",
    "from matplotlib import pyplot as plt\n",
    "from sklearn.decomposition import PCA\n",
    "from itertools import product"
   ]
  },
  {
   "cell_type": "code",
   "execution_count": 3,
   "metadata": {},
   "outputs": [],
   "source": [
    "src_path: str = \"../src\"\n",
    "sys.path.append(src_path)"
   ]
  },
  {
   "cell_type": "code",
   "execution_count": 4,
   "metadata": {},
   "outputs": [],
   "source": [
    "from components.functional_analysis.orgdb import OrgDB\n",
    "from r_wrappers.deseq2 import vst_transform\n",
    "from r_wrappers.utils import pd_df_to_rpy2_df, rpy2_df_to_pd_df"
   ]
  },
  {
   "cell_type": "markdown",
   "metadata": {},
   "source": [
    "### Global Variables"
   ]
  },
  {
   "cell_type": "code",
   "execution_count": 5,
   "metadata": {},
   "outputs": [],
   "source": [
    "TCGA_PRAD_SU2C_PCF_GSE221601_ROOT: Path = Path(\n",
    "    \"/media/ssd/Perez/storage/TCGA_PRAD_SU2C_PCF_GSE221601\"\n",
    ")\n",
    "GOIS: Iterable[str] = (\"TPX2\", \"EZH2\", \"TROAP\", \"COX1\", \"UHRF1\")\n",
    "ORG_DB: OrgDB = OrgDB(\"Homo sapiens\")"
   ]
  },
  {
   "cell_type": "markdown",
   "metadata": {},
   "source": [
    "## Sandbox"
   ]
  },
  {
   "cell_type": "markdown",
   "metadata": {},
   "source": [
    "### For all integrative analysis results, find appereances of genes of interest."
   ]
  },
  {
   "cell_type": "raw",
   "metadata": {
    "vscode": {
     "languageId": "raw"
    }
   },
   "source": [
    "relevant_files = {\n",
    "    goi: {\"BOTH\": [], \"HSPC_vs_PRIM\": [], \"MCRPC_vs_HSPC\": []} for goi in GOIS\n",
    "}\n",
    "\n",
    "for int_analysis_file in (\n",
    "    TCGA_PRAD_SU2C_PCF_GSE221601_ROOT / \"integrative_analysis\"\n",
    ").rglob(\"*.csv\"):\n",
    "    if \"pathway\" in int_analysis_file.name:\n",
    "        continue\n",
    "\n",
    "    results_df = pd.read_csv(int_analysis_file)\n",
    "    if \"SYMBOL\" not in results_df.columns:\n",
    "        continue\n",
    "\n",
    "    hspc_vs_prim_col = next(\n",
    "        col for col in results_df.columns if col.startswith(\"HSPC_vs_PRIM\")\n",
    "    )\n",
    "    hspc_vs_prim_col_idx = results_df.columns.get_loc(hspc_vs_prim_col)\n",
    "    mcrpc_vs_hspc_col = next(\n",
    "        col for col in results_df.columns if col.startswith(\"MCRPC_vs_HSPC\")\n",
    "    )\n",
    "    mcrpc_vs_hspc_col_idx = results_df.columns.get_loc(mcrpc_vs_hspc_col)\n",
    "\n",
    "    for goi in GOIS:\n",
    "        if goi in results_df[\"SYMBOL\"].tolist():\n",
    "            goi_rows = results_df[results_df[\"SYMBOL\"] == goi].squeeze()\n",
    "            if (\n",
    "                goi_rows.iloc[hspc_vs_prim_col_idx]\n",
    "                & goi_rows.iloc[mcrpc_vs_hspc_col_idx]\n",
    "            ):\n",
    "                relevant_files[goi][\"BOTH\"].append(str(int_analysis_file))\n",
    "            if (\n",
    "                goi_rows.iloc[hspc_vs_prim_col_idx]\n",
    "                & ~goi_rows.iloc[mcrpc_vs_hspc_col_idx]\n",
    "            ):\n",
    "                relevant_files[goi][\"HSPC_vs_PRIM\"].append(str(int_analysis_file))\n",
    "            if (\n",
    "                ~goi_rows.iloc[hspc_vs_prim_col_idx]\n",
    "                & goi_rows.iloc[mcrpc_vs_hspc_col_idx]\n",
    "            ):\n",
    "                relevant_files[goi][\"MCRPC_vs_HSPC\"].append(str(int_analysis_file))\n",
    "\n",
    "print(relevant_files)\n",
    "with open(\"relevant_files.json\", \"w\") as f:\n",
    "    json.dump(relevant_files, f, indent=4)"
   ]
  },
  {
   "cell_type": "markdown",
   "metadata": {},
   "source": [
    "### Copy original tar counts files to analysis directory"
   ]
  },
  {
   "cell_type": "raw",
   "metadata": {
    "vscode": {
     "languageId": "raw"
    }
   },
   "source": [
    "STAR_ROOT: Path = Path(\"/rawdata/GSE221601/mapping/star\")\n",
    "ANALYSIS_ROOT: Path = Path(\"/media/ssd/Perez/storage/GSE221601/data\")\n",
    "STAR_ORIGINAL_COUNTS_PATH: Path = ANALYSIS_ROOT / \"star_original_counts\"\n",
    "STAR_ORIGINAL_COUNTS_PATH.mkdir(exist_ok=True, parents=True)\n",
    "STAR_UNSTRANDED_COUNTS_PATH: Path = ANALYSIS_ROOT / \"star_unstranded_counts\"\n",
    "STAR_UNSTRANDED_COUNTS_PATH.mkdir(exist_ok=True, parents=True)\n",
    "STAR_FIRST_READ_STRAND_COUNTS_PATH: Path = (\n",
    "    ANALYSIS_ROOT / \"star_first_read_strand_counts\"\n",
    ")\n",
    "STAR_FIRST_READ_STRAND_COUNTS_PATH.mkdir(exist_ok=True, parents=True)\n",
    "STAR_SECOND_READ_STRAND_COUNTS_PATH: Path = (\n",
    "    ANALYSIS_ROOT / \"star_second_read_strand_counts\"\n",
    ")\n",
    "STAR_SECOND_READ_STRAND_COUNTS_PATH.mkdir(exist_ok=True, parents=True)"
   ]
  },
  {
   "cell_type": "raw",
   "metadata": {
    "vscode": {
     "languageId": "raw"
    }
   },
   "source": [
    "for tab_file in STAR_ROOT.rglob(\"ReadsPerGene.out.tab\"):\n",
    "    parent_dir_name = tab_file.parent.name\n",
    "    destination_file = STAR_ORIGINAL_COUNTS_PATH / f\"{parent_dir_name}.tab\"\n",
    "    destination_file.write_bytes(tab_file.read_bytes())"
   ]
  },
  {
   "cell_type": "raw",
   "metadata": {
    "vscode": {
     "languageId": "raw"
    }
   },
   "source": [
    "clean_star_counts(\n",
    "    star_path=STAR_ROOT,\n",
    "    star_counts_path=STAR_UNSTRANDED_COUNTS_PATH,\n",
    "    subset_col=1,\n",
    ")\n",
    "clean_star_counts(\n",
    "    star_path=STAR_ROOT,\n",
    "    star_counts_path=STAR_FIRST_READ_STRAND_COUNTS_PATH,\n",
    "    subset_col=2,\n",
    ")\n",
    "clean_star_counts(\n",
    "    star_path=STAR_ROOT,\n",
    "    star_counts_path=STAR_SECOND_READ_STRAND_COUNTS_PATH,\n",
    "    subset_col=3,\n",
    ")"
   ]
  },
  {
   "cell_type": "markdown",
   "metadata": {},
   "source": [
    "### Annotate LRT deseq files"
   ]
  },
  {
   "cell_type": "raw",
   "metadata": {
    "vscode": {
     "languageId": "raw"
    }
   },
   "source": [
    "lrt_files = list(\n",
    "    Path(\"/media/ssd/Perez/storage/PCTA_WCDT_GSE221601_LRT/deseq2\").glob(\n",
    "        \"*deseq_results.csv\"\n",
    "    )\n",
    ")\n",
    "for lrt_file in lrt_files:\n",
    "    print(lrt_file)"
   ]
  },
  {
   "cell_type": "raw",
   "metadata": {
    "vscode": {
     "languageId": "raw"
    }
   },
   "source": [
    "for lrt_file in lrt_files:\n",
    "    print(\"Processing file:\", lrt_file)\n",
    "    lrt_results = pd.read_csv(lrt_file, index_col=0)\n",
    "\n",
    "    lrt_results_annot = annotate_deseq_result(pd_df_to_rpy2_df(lrt_results), ORG_DB)\n",
    "\n",
    "    lrt_results_annot = (\n",
    "        lrt_results_annot[\n",
    "            ~lrt_results_annot[\"ENTREZID\"].str.contains(\"/\", na=False)\n",
    "            | ~lrt_results_annot[\"SYMBOL\"].str.contains(\"/\", na=False)\n",
    "        ]\n",
    "        .dropna(subset=[\"ENTREZID\", \"SYMBOL\"])\n",
    "        .drop_duplicates(subset=[\"ENTREZID\", \"SYMBOL\"], keep=False)\n",
    "    )\n",
    "\n",
    "    lrt_results_annot.to_csv(lrt_file.with_name(lrt_file.stem + \"_unique.csv\"))"
   ]
  },
  {
   "cell_type": "markdown",
   "metadata": {},
   "source": [
    "### Batch Correction PCA figures"
   ]
  },
  {
   "cell_type": "raw",
   "metadata": {
    "vscode": {
     "languageId": "raw"
    }
   },
   "source": [
    "counts_files = [\n",
    "    \"raw_counts.csv\",\n",
    "    \"all_counts_batch_corrected_v1.csv\",\n",
    "    \"all_counts_batch_corrected_v2.csv\",\n",
    "    \"all_counts_batch_corrected_v3.csv\",\n",
    "]\n",
    "root_path = Path(\"/media/ssd/Perez/storage/PCTA_WCDT_GSE221601/data\")\n",
    "manuscript_figures_path = root_path.parent / \"manuscript_figures\"\n",
    "manuscript_figures_path.mkdir(exist_ok=True, parents=True)\n",
    "CONTRASTS_LEVELS_COLORS = {\n",
    "    \"mcrpc\": \"#8B3A3A\",\n",
    "    \"prim\": \"#4A708B\",\n",
    "    \"hspc\": \"#8B008B\",\n",
    "    \"norm\": \"#9ACD32\",\n",
    "}\n",
    "annot_df = pd.read_csv(root_path / \"samples_annotation.csv\", index_col=0)"
   ]
  },
  {
   "cell_type": "raw",
   "metadata": {
    "vscode": {
     "languageId": "raw"
    }
   },
   "source": [
    "for i, count_file in enumerate(counts_files):\n",
    "    counts_df = pd.read_csv(root_path / count_file, index_col=0)\n",
    "    vst_df = rpy2_df_to_pd_df(\n",
    "        vst_transform(ro.r(\"as.matrix\")(pd_df_to_rpy2_df(counts_df)))\n",
    "    )\n",
    "\n",
    "    pca_corrected = PCA(n_components=2)\n",
    "    pca_result_corrected = pca_corrected.fit_transform(vst_df.T)\n",
    "\n",
    "    pca_df_corrected = pd.DataFrame(\n",
    "        data=pca_result_corrected,\n",
    "        columns=[\"PC1\", \"PC2\"],\n",
    "        index=vst_df.columns,\n",
    "    )\n",
    "    pca_df_corrected[\"sample_type\"] = annot_df.loc[vst_df.columns, \"sample_type\"].values\n",
    "    pca_df_corrected[\"dataset\"] = annot_df.loc[vst_df.columns, \"dataset\"].values\n",
    "    pca_df_corrected[\"library_type\"] = annot_df.loc[\n",
    "        vst_df.columns, \"library_type\"\n",
    "    ].values\n",
    "    explained_variance = pca_corrected.explained_variance_ratio_\n",
    "\n",
    "    plt.figure(figsize=(10, 8))\n",
    "    sns.scatterplot(\n",
    "        x=\"PC1\",\n",
    "        y=\"PC2\",\n",
    "        hue=\"sample_type\",\n",
    "        style=\"library_type\",\n",
    "        data=pca_df_corrected,\n",
    "        palette=CONTRASTS_LEVELS_COLORS,\n",
    "    )\n",
    "    if i == 0:\n",
    "        plt.title(\"PCA of RNA-Seq Expression Data (VST)\")\n",
    "    else:\n",
    "        plt.title(f\"PCA of Batch-Corrected RNA-Seq Expression Data (VST) - Round {i}\")\n",
    "    plt.xlabel(f\"Principal Component 1 ({explained_variance[0] * 100:.2f}%)\")\n",
    "    plt.ylabel(f\"Principal Component 2 ({explained_variance[1] * 100:.2f}%)\")\n",
    "    plt.legend(loc=\"best\")\n",
    "    plt.savefig(manuscript_figures_path / f\"{Path(count_file).stem}_pca.pdf\")\n",
    "    plt.show()"
   ]
  },
  {
   "cell_type": "markdown",
   "metadata": {},
   "source": [
    "---"
   ]
  },
  {
   "cell_type": "code",
   "execution_count": 6,
   "metadata": {},
   "outputs": [],
   "source": [
    "ROOT: Path = Path(\"/media/ssd/Perez/storage/PCTA_WCDT_GSE221601_FILTERED/ml_classifiers\")\n",
    "test_scores = dict()\n",
    "\n",
    "for test_scores_file in (ROOT.rglob(\"*test_scores.csv\")):\n",
    "    model_type = test_scores_file.parents[2].stem\n",
    "    if \"prim_vs_norm\" in test_scores_file.parents[3].stem:\n",
    "        test_scores[(\"prim_vs_norm\", model_type)] = (\n",
    "            pd.read_csv(test_scores_file, index_col=0)\n",
    "            .agg([\"mean\", \"std\"])\n",
    "        )\n",
    "    elif \"hspc_vs_prim\" in test_scores_file.parents[3].stem:\n",
    "        test_scores[(\"hspc_vs_norm\", model_type)] = (\n",
    "            pd.read_csv(test_scores_file, index_col=0)\n",
    "            .agg([\"mean\", \"std\"])\n",
    "        )\n",
    "    elif \"mcrpc_vs_hspc\" in test_scores_file.parents[3].stem:\n",
    "        test_scores[(\"mcrpc_vs_hspc\", model_type)] = pd.read_csv(test_scores_file, index_col=0).agg(\n",
    "            [\"mean\", \"std\"]\n",
    "        )"
   ]
  },
  {
   "cell_type": "code",
   "execution_count": 22,
   "metadata": {},
   "outputs": [
    {
     "data": {
      "text/html": [
       "<div>\n",
       "<style scoped>\n",
       "    .dataframe tbody tr th:only-of-type {\n",
       "        vertical-align: middle;\n",
       "    }\n",
       "\n",
       "    .dataframe tbody tr th {\n",
       "        vertical-align: top;\n",
       "    }\n",
       "\n",
       "    .dataframe thead tr th {\n",
       "        text-align: left;\n",
       "    }\n",
       "\n",
       "    .dataframe thead tr:last-of-type th {\n",
       "        text-align: right;\n",
       "    }\n",
       "</style>\n",
       "<table border=\"1\" class=\"dataframe\">\n",
       "  <thead>\n",
       "    <tr>\n",
       "      <th></th>\n",
       "      <th></th>\n",
       "      <th colspan=\"4\" halign=\"left\">mean</th>\n",
       "      <th colspan=\"4\" halign=\"left\">std</th>\n",
       "    </tr>\n",
       "    <tr>\n",
       "      <th></th>\n",
       "      <th>metric</th>\n",
       "      <th>balanced_accuracy</th>\n",
       "      <th>f1</th>\n",
       "      <th>precision</th>\n",
       "      <th>recall</th>\n",
       "      <th>balanced_accuracy</th>\n",
       "      <th>f1</th>\n",
       "      <th>precision</th>\n",
       "      <th>recall</th>\n",
       "    </tr>\n",
       "    <tr>\n",
       "      <th>contrast</th>\n",
       "      <th>model</th>\n",
       "      <th></th>\n",
       "      <th></th>\n",
       "      <th></th>\n",
       "      <th></th>\n",
       "      <th></th>\n",
       "      <th></th>\n",
       "      <th></th>\n",
       "      <th></th>\n",
       "    </tr>\n",
       "  </thead>\n",
       "  <tbody>\n",
       "    <tr>\n",
       "      <th rowspan=\"3\" valign=\"top\">prim/norm</th>\n",
       "      <th>Decision Tree</th>\n",
       "      <td>0.8887</td>\n",
       "      <td>0.9625</td>\n",
       "      <td>0.9477</td>\n",
       "      <td>0.9781</td>\n",
       "      <td>0.0335</td>\n",
       "      <td>0.0110</td>\n",
       "      <td>0.0166</td>\n",
       "      <td>0.0156</td>\n",
       "    </tr>\n",
       "    <tr>\n",
       "      <th>Random Forest</th>\n",
       "      <td>0.8987</td>\n",
       "      <td>0.9678</td>\n",
       "      <td>0.9512</td>\n",
       "      <td>0.9852</td>\n",
       "      <td>0.0313</td>\n",
       "      <td>0.0094</td>\n",
       "      <td>0.0155</td>\n",
       "      <td>0.0115</td>\n",
       "    </tr>\n",
       "    <tr>\n",
       "      <th>LightGBM</th>\n",
       "      <td>0.9204</td>\n",
       "      <td>0.9761</td>\n",
       "      <td>0.9605</td>\n",
       "      <td>0.9923</td>\n",
       "      <td>0.0287</td>\n",
       "      <td>0.0084</td>\n",
       "      <td>0.0143</td>\n",
       "      <td>0.0082</td>\n",
       "    </tr>\n",
       "    <tr>\n",
       "      <th rowspan=\"3\" valign=\"top\">hspc/prim</th>\n",
       "      <th>Decision Tree</th>\n",
       "      <td>0.6929</td>\n",
       "      <td>0.9592</td>\n",
       "      <td>0.9571</td>\n",
       "      <td>0.9616</td>\n",
       "      <td>0.0778</td>\n",
       "      <td>0.0105</td>\n",
       "      <td>0.0112</td>\n",
       "      <td>0.0182</td>\n",
       "    </tr>\n",
       "    <tr>\n",
       "      <th>Random Forest</th>\n",
       "      <td>0.6980</td>\n",
       "      <td>0.9675</td>\n",
       "      <td>0.9573</td>\n",
       "      <td>0.9782</td>\n",
       "      <td>0.0741</td>\n",
       "      <td>0.0081</td>\n",
       "      <td>0.0104</td>\n",
       "      <td>0.0127</td>\n",
       "    </tr>\n",
       "    <tr>\n",
       "      <th>LightGBM</th>\n",
       "      <td>0.6710</td>\n",
       "      <td>0.9699</td>\n",
       "      <td>0.9533</td>\n",
       "      <td>0.9873</td>\n",
       "      <td>0.0707</td>\n",
       "      <td>0.0066</td>\n",
       "      <td>0.0098</td>\n",
       "      <td>0.0102</td>\n",
       "    </tr>\n",
       "    <tr>\n",
       "      <th rowspan=\"3\" valign=\"top\">mcrpc/hspc</th>\n",
       "      <th>Decision Tree</th>\n",
       "      <td>0.6377</td>\n",
       "      <td>0.7403</td>\n",
       "      <td>0.7698</td>\n",
       "      <td>0.7183</td>\n",
       "      <td>0.0910</td>\n",
       "      <td>0.3286</td>\n",
       "      <td>0.3378</td>\n",
       "      <td>0.3280</td>\n",
       "    </tr>\n",
       "    <tr>\n",
       "      <th>Random Forest</th>\n",
       "      <td>0.6481</td>\n",
       "      <td>0.9240</td>\n",
       "      <td>0.9089</td>\n",
       "      <td>0.9406</td>\n",
       "      <td>0.0741</td>\n",
       "      <td>0.0202</td>\n",
       "      <td>0.0194</td>\n",
       "      <td>0.0369</td>\n",
       "    </tr>\n",
       "    <tr>\n",
       "      <th>LightGBM</th>\n",
       "      <td>0.6621</td>\n",
       "      <td>0.9432</td>\n",
       "      <td>0.9108</td>\n",
       "      <td>0.9783</td>\n",
       "      <td>0.0673</td>\n",
       "      <td>0.0125</td>\n",
       "      <td>0.0168</td>\n",
       "      <td>0.0179</td>\n",
       "    </tr>\n",
       "  </tbody>\n",
       "</table>\n",
       "</div>"
      ],
      "text/plain": [
       "                                      mean                            \\\n",
       "metric                   balanced_accuracy      f1 precision  recall   \n",
       "contrast   model                                                       \n",
       "prim/norm  Decision Tree            0.8887  0.9625    0.9477  0.9781   \n",
       "           Random Forest            0.8987  0.9678    0.9512  0.9852   \n",
       "           LightGBM                 0.9204  0.9761    0.9605  0.9923   \n",
       "hspc/prim  Decision Tree            0.6929  0.9592    0.9571  0.9616   \n",
       "           Random Forest            0.6980  0.9675    0.9573  0.9782   \n",
       "           LightGBM                 0.6710  0.9699    0.9533  0.9873   \n",
       "mcrpc/hspc Decision Tree            0.6377  0.7403    0.7698  0.7183   \n",
       "           Random Forest            0.6481  0.9240    0.9089  0.9406   \n",
       "           LightGBM                 0.6621  0.9432    0.9108  0.9783   \n",
       "\n",
       "                                       std                            \n",
       "metric                   balanced_accuracy      f1 precision  recall  \n",
       "contrast   model                                                      \n",
       "prim/norm  Decision Tree            0.0335  0.0110    0.0166  0.0156  \n",
       "           Random Forest            0.0313  0.0094    0.0155  0.0115  \n",
       "           LightGBM                 0.0287  0.0084    0.0143  0.0082  \n",
       "hspc/prim  Decision Tree            0.0778  0.0105    0.0112  0.0182  \n",
       "           Random Forest            0.0741  0.0081    0.0104  0.0127  \n",
       "           LightGBM                 0.0707  0.0066    0.0098  0.0102  \n",
       "mcrpc/hspc Decision Tree            0.0910  0.3286    0.3378  0.3280  \n",
       "           Random Forest            0.0741  0.0202    0.0194  0.0369  \n",
       "           LightGBM                 0.0673  0.0125    0.0168  0.0179  "
      ]
     },
     "metadata": {},
     "output_type": "display_data"
    }
   ],
   "source": [
    "CONTRASTS_NAMES_MAP = {\n",
    "    \"prim_vs_norm\": \"prim/norm\",\n",
    "    \"hspc_vs_norm\": \"hspc/prim\",\n",
    "    \"mcrpc_vs_hspc\": \"mcrpc/hspc\"\n",
    "}\n",
    "MODEL_NAMES_MAP = {\n",
    "    \"decision_tree\": \"Decision Tree\",\n",
    "    \"random_forest\": \"Random Forest\",\n",
    "    \"light_gbm\": \"LightGBM\",\n",
    "}\n",
    "sorted_indices = product(CONTRASTS_NAMES_MAP.values(), MODEL_NAMES_MAP.values())\n",
    "records = []\n",
    "\n",
    "# 2. Iterate through dictionary and reshape data\n",
    "for (contrast, model), df in test_scores.items():\n",
    "    # Extract mean and std rows\n",
    "    mean_row = df.loc[\"mean\"]\n",
    "    std_row = df.loc[\"std\"]\n",
    "\n",
    "    # Create record with hierarchical structure\n",
    "    for metric in df.columns:\n",
    "        records.append(\n",
    "            {\n",
    "                \"contrast\": CONTRASTS_NAMES_MAP[contrast],\n",
    "                \"model\": MODEL_NAMES_MAP[model],\n",
    "                \"metric\": metric,\n",
    "                \"mean\": mean_row[metric],\n",
    "                \"std\": std_row[metric],\n",
    "            }\n",
    "        )\n",
    "\n",
    "# 3. Convert to DataFrame and reshape\n",
    "df = pd.DataFrame(records)\n",
    "df_pivot = (\n",
    "    df.pivot_table(\n",
    "        index=[\"contrast\", \"model\"], columns=\"metric\", values=[\"mean\", \"std\"]\n",
    "    )\n",
    "    .round(4)\n",
    "    .loc[sorted_indices]\n",
    ")\n",
    "\n",
    "display(df_pivot)"
   ]
  },
  {
   "cell_type": "code",
   "execution_count": 29,
   "metadata": {},
   "outputs": [
    {
     "data": {
      "text/html": [
       "<div>\n",
       "<style scoped>\n",
       "    .dataframe tbody tr th:only-of-type {\n",
       "        vertical-align: middle;\n",
       "    }\n",
       "\n",
       "    .dataframe tbody tr th {\n",
       "        vertical-align: top;\n",
       "    }\n",
       "\n",
       "    .dataframe thead tr th {\n",
       "        text-align: left;\n",
       "    }\n",
       "\n",
       "    .dataframe thead tr:last-of-type th {\n",
       "        text-align: right;\n",
       "    }\n",
       "</style>\n",
       "<table border=\"1\" class=\"dataframe\">\n",
       "  <thead>\n",
       "    <tr>\n",
       "      <th></th>\n",
       "      <th colspan=\"4\" halign=\"left\">mean</th>\n",
       "      <th colspan=\"4\" halign=\"left\">std</th>\n",
       "    </tr>\n",
       "    <tr>\n",
       "      <th>metric</th>\n",
       "      <th>balanced_accuracy</th>\n",
       "      <th>f1</th>\n",
       "      <th>precision</th>\n",
       "      <th>recall</th>\n",
       "      <th>balanced_accuracy</th>\n",
       "      <th>f1</th>\n",
       "      <th>precision</th>\n",
       "      <th>recall</th>\n",
       "    </tr>\n",
       "    <tr>\n",
       "      <th>model</th>\n",
       "      <th></th>\n",
       "      <th></th>\n",
       "      <th></th>\n",
       "      <th></th>\n",
       "      <th></th>\n",
       "      <th></th>\n",
       "      <th></th>\n",
       "      <th></th>\n",
       "    </tr>\n",
       "  </thead>\n",
       "  <tbody>\n",
       "    <tr>\n",
       "      <th>Decision Tree</th>\n",
       "      <td>0.739767</td>\n",
       "      <td>0.887333</td>\n",
       "      <td>0.891533</td>\n",
       "      <td>0.886000</td>\n",
       "      <td>0.067433</td>\n",
       "      <td>0.116700</td>\n",
       "      <td>0.121867</td>\n",
       "      <td>0.120600</td>\n",
       "    </tr>\n",
       "    <tr>\n",
       "      <th>LightGBM</th>\n",
       "      <td>0.751167</td>\n",
       "      <td>0.963067</td>\n",
       "      <td>0.941533</td>\n",
       "      <td>0.985967</td>\n",
       "      <td>0.055567</td>\n",
       "      <td>0.009167</td>\n",
       "      <td>0.013633</td>\n",
       "      <td>0.012100</td>\n",
       "    </tr>\n",
       "    <tr>\n",
       "      <th>Random Forest</th>\n",
       "      <td>0.748267</td>\n",
       "      <td>0.953100</td>\n",
       "      <td>0.939133</td>\n",
       "      <td>0.968000</td>\n",
       "      <td>0.059833</td>\n",
       "      <td>0.012567</td>\n",
       "      <td>0.015100</td>\n",
       "      <td>0.020367</td>\n",
       "    </tr>\n",
       "  </tbody>\n",
       "</table>\n",
       "</div>"
      ],
      "text/plain": [
       "                           mean                                \\\n",
       "metric        balanced_accuracy        f1 precision    recall   \n",
       "model                                                           \n",
       "Decision Tree          0.739767  0.887333  0.891533  0.886000   \n",
       "LightGBM               0.751167  0.963067  0.941533  0.985967   \n",
       "Random Forest          0.748267  0.953100  0.939133  0.968000   \n",
       "\n",
       "                            std                                \n",
       "metric        balanced_accuracy        f1 precision    recall  \n",
       "model                                                          \n",
       "Decision Tree          0.067433  0.116700  0.121867  0.120600  \n",
       "LightGBM               0.055567  0.009167  0.013633  0.012100  \n",
       "Random Forest          0.059833  0.012567  0.015100  0.020367  "
      ]
     },
     "execution_count": 29,
     "metadata": {},
     "output_type": "execute_result"
    }
   ],
   "source": [
    "df_pivot.groupby(level=1).mean()"
   ]
  },
  {
   "cell_type": "code",
   "execution_count": null,
   "metadata": {},
   "outputs": [],
   "source": []
  }
 ],
 "metadata": {
  "kernelspec": {
   "display_name": "bioinfo",
   "language": "python",
   "name": "python3"
  },
  "language_info": {
   "codemirror_mode": {
    "name": "ipython",
    "version": 3
   },
   "file_extension": ".py",
   "mimetype": "text/x-python",
   "name": "python",
   "nbconvert_exporter": "python",
   "pygments_lexer": "ipython3",
   "version": "3.12.8"
  }
 },
 "nbformat": 4,
 "nbformat_minor": 2
}
