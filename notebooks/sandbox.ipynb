{
 "cells": [
  {
   "cell_type": "markdown",
   "metadata": {},
   "source": [
    "# Python Sandbox\n"
   ]
  },
  {
   "cell_type": "markdown",
   "metadata": {},
   "source": [
    "## Setup"
   ]
  },
  {
   "cell_type": "code",
   "execution_count": 1,
   "metadata": {},
   "outputs": [],
   "source": [
    "%load_ext autoreload\n",
    "%autoreload 2"
   ]
  },
  {
   "cell_type": "markdown",
   "metadata": {},
   "source": [
    "### Imports"
   ]
  },
  {
   "cell_type": "code",
   "execution_count": 2,
   "metadata": {},
   "outputs": [],
   "source": [
    "import json\n",
    "import sys\n",
    "from pathlib import Path\n",
    "from typing import Iterable\n",
    "\n",
    "import pandas as pd"
   ]
  },
  {
   "cell_type": "code",
   "execution_count": 3,
   "metadata": {},
   "outputs": [],
   "source": [
    "src_path: str = \"../src\"\n",
    "sys.path.append(src_path)"
   ]
  },
  {
   "cell_type": "markdown",
   "metadata": {},
   "source": [
    "### Global Variables"
   ]
  },
  {
   "cell_type": "code",
   "execution_count": 4,
   "metadata": {},
   "outputs": [],
   "source": [
    "TCGA_PRAD_SU2C_PCF_GSE221601_ROOT: Path = Path(\n",
    "    \"/media/ssd/Perez/storage/TCGA_PRAD_SU2C_PCF_GSE221601\"\n",
    ")\n",
    "GOIS: Iterable[str] = (\"TPX2\", \"EZH2\", \"TROAP\", \"COX1\", \"UHRF1\")"
   ]
  },
  {
   "cell_type": "markdown",
   "metadata": {},
   "source": [
    "## Sandbox"
   ]
  },
  {
   "cell_type": "markdown",
   "metadata": {},
   "source": [
    "For all integrative analysis results, find appereances of genes of interest."
   ]
  },
  {
   "cell_type": "code",
   "execution_count": 14,
   "metadata": {},
   "outputs": [
    {
     "name": "stdout",
     "output_type": "stream",
     "text": [
      "{'TPX2': {'BOTH': [], 'HSPC_vs_PRIM': [], 'MCRPC_vs_HSPC': ['/media/ssd/Perez/storage/TCGA_PRAD_SU2C_PCF_GSE221601/integrative_analysis/intersecting_degs/comparison_1_padj_0_05_up_1_0_intersecting_degs_ENTREZID_131.csv', '/media/ssd/Perez/storage/TCGA_PRAD_SU2C_PCF_GSE221601/integrative_analysis/intersecting_degs/comparison_1_padj_0_05_all_1_0_intersecting_degs_ENTREZID_9765.csv', '/media/ssd/Perez/storage/TCGA_PRAD_SU2C_PCF_GSE221601/integrative_analysis/intersecting_wgcna/comparison_1_padj_0_05_up_1_0_bicor_signed_intersecting_wgcna_M2+M1_ENTREZID_0.csv', '/media/ssd/Perez/storage/TCGA_PRAD_SU2C_PCF_GSE221601/integrative_analysis/intersecting_wgcna/comparison_1_padj_0_05_up_1_0_bicor_signed_intersecting_wgcna_M4+M1_ENTREZID_2.csv', '/media/ssd/Perez/storage/TCGA_PRAD_SU2C_PCF_GSE221601/integrative_analysis/intersecting_wgcna/comparison_1_padj_0_05_up_1_0_bicor_signed_intersecting_wgcna_M1+M1_ENTREZID_0.csv', '/media/ssd/Perez/storage/TCGA_PRAD_SU2C_PCF_GSE221601/integrative_analysis/intersecting_wgcna/comparison_1_padj_0_05_up_1_0_bicor_signed_intersecting_wgcna_M6+M1_ENTREZID_0.csv', '/media/ssd/Perez/storage/TCGA_PRAD_SU2C_PCF_GSE221601/integrative_analysis/intersecting_wgcna/comparison_1_padj_0_05_up_1_0_bicor_signed_intersecting_wgcna_M8+M1_ENTREZID_2.csv', '/media/ssd/Perez/storage/TCGA_PRAD_SU2C_PCF_GSE221601/integrative_analysis/intersecting_wgcna/comparison_1_padj_0_05_up_1_0_bicor_signed_intersecting_wgcna_M7+M1_ENTREZID_22.csv', '/media/ssd/Perez/storage/TCGA_PRAD_SU2C_PCF_GSE221601/integrative_analysis/intersecting_wgcna/comparison_1_padj_0_05_all_1_0_bicor_signed_intersecting_wgcna_M1+M6_ENTREZID_2.csv', '/media/ssd/Perez/storage/TCGA_PRAD_SU2C_PCF_GSE221601/integrative_analysis/intersecting_wgcna/comparison_1_padj_0_05_up_1_0_bicor_signed_intersecting_wgcna_M5+M1_ENTREZID_5.csv', '/media/ssd/Perez/storage/TCGA_PRAD_SU2C_PCF_GSE221601/integrative_analysis/intersecting_wgcna/comparison_1_padj_0_05_up_1_0_bicor_signed_intersecting_wgcna_M3+M1_ENTREZID_1.csv', '/media/ssd/Perez/storage/TCGA_PRAD_SU2C_PCF_GSE221601/integrative_analysis/intersecting_wgcna/comparison_1_padj_0_05_up_1_0_bicor_signed_intersecting_wgcna_M9+M1_ENTREZID_0.csv', '/media/ssd/Perez/storage/TCGA_PRAD_SU2C_PCF_GSE221601/integrative_analysis/intersecting_wgcna/comparison_1_padj_0_05_all_1_0_bicor_signed_intersecting_wgcna_M8+M6_ENTREZID_0.csv', '/media/ssd/Perez/storage/TCGA_PRAD_SU2C_PCF_GSE221601/integrative_analysis/intersecting_wgcna/comparison_1_padj_0_05_all_1_0_bicor_signed_intersecting_wgcna_M4+M6_ENTREZID_0.csv', '/media/ssd/Perez/storage/TCGA_PRAD_SU2C_PCF_GSE221601/integrative_analysis/intersecting_wgcna/comparison_1_padj_0_05_all_1_0_bicor_signed_intersecting_wgcna_M10+M6_ENTREZID_0.csv', '/media/ssd/Perez/storage/TCGA_PRAD_SU2C_PCF_GSE221601/integrative_analysis/intersecting_wgcna/comparison_1_padj_0_05_all_1_0_bicor_signed_intersecting_wgcna_M12+M6_ENTREZID_0.csv', '/media/ssd/Perez/storage/TCGA_PRAD_SU2C_PCF_GSE221601/integrative_analysis/intersecting_wgcna/comparison_1_padj_0_05_all_1_0_bicor_signed_intersecting_wgcna_M3+M6_ENTREZID_0.csv', '/media/ssd/Perez/storage/TCGA_PRAD_SU2C_PCF_GSE221601/integrative_analysis/intersecting_wgcna/comparison_1_padj_0_05_all_1_0_bicor_signed_intersecting_wgcna_M5+M6_ENTREZID_0.csv', '/media/ssd/Perez/storage/TCGA_PRAD_SU2C_PCF_GSE221601/integrative_analysis/intersecting_wgcna/comparison_1_padj_0_05_all_1_0_bicor_signed_intersecting_wgcna_M7+M6_ENTREZID_0.csv', '/media/ssd/Perez/storage/TCGA_PRAD_SU2C_PCF_GSE221601/integrative_analysis/intersecting_wgcna/comparison_1_padj_0_05_all_1_0_bicor_signed_intersecting_wgcna_M9+M6_ENTREZID_0.csv', '/media/ssd/Perez/storage/TCGA_PRAD_SU2C_PCF_GSE221601/integrative_analysis/intersecting_wgcna/comparison_1_padj_0_05_all_1_0_bicor_signed_intersecting_wgcna_M15+M6_ENTREZID_0.csv', '/media/ssd/Perez/storage/TCGA_PRAD_SU2C_PCF_GSE221601/integrative_analysis/intersecting_wgcna/comparison_1_padj_0_05_all_1_0_bicor_signed_intersecting_wgcna_M11+M6_ENTREZID_19.csv', '/media/ssd/Perez/storage/TCGA_PRAD_SU2C_PCF_GSE221601/integrative_analysis/intersecting_wgcna/comparison_1_padj_0_05_all_1_0_bicor_signed_intersecting_wgcna_M14+M6_ENTREZID_0.csv', '/media/ssd/Perez/storage/TCGA_PRAD_SU2C_PCF_GSE221601/integrative_analysis/intersecting_wgcna/comparison_1_padj_0_05_all_1_0_bicor_signed_intersecting_wgcna_M13+M6_ENTREZID_0.csv', '/media/ssd/Perez/storage/TCGA_PRAD_SU2C_PCF_GSE221601/integrative_analysis/intersecting_wgcna/comparison_1_padj_0_05_all_1_0_bicor_signed_intersecting_wgcna_M2+M6_ENTREZID_0.csv', '/media/ssd/Perez/storage/TCGA_PRAD_SU2C_PCF_GSE221601/integrative_analysis/intersecting_wgcna/comparison_1_padj_0_05_all_1_0_bicor_signed_intersecting_wgcna_M6+M6_ENTREZID_0.csv']}, 'EZH2': {'BOTH': [], 'HSPC_vs_PRIM': ['/media/ssd/Perez/storage/TCGA_PRAD_SU2C_PCF_GSE221601/integrative_analysis/intersecting_degs/comparison_1_padj_0_05_up_1_0_intersecting_degs_ENTREZID_131.csv', '/media/ssd/Perez/storage/TCGA_PRAD_SU2C_PCF_GSE221601/integrative_analysis/intersecting_degs/comparison_1_padj_0_05_all_1_0_intersecting_degs_ENTREZID_9765.csv', '/media/ssd/Perez/storage/TCGA_PRAD_SU2C_PCF_GSE221601/integrative_analysis/intersecting_wgcna/comparison_1_padj_0_05_up_1_0_bicor_signed_intersecting_wgcna_M7+M1_ENTREZID_22.csv', '/media/ssd/Perez/storage/TCGA_PRAD_SU2C_PCF_GSE221601/integrative_analysis/intersecting_wgcna/comparison_1_padj_0_05_all_1_0_bicor_signed_intersecting_wgcna_M11+M3_ENTREZID_0.csv', '/media/ssd/Perez/storage/TCGA_PRAD_SU2C_PCF_GSE221601/integrative_analysis/intersecting_wgcna/comparison_1_padj_0_05_all_1_0_bicor_signed_intersecting_wgcna_M11+M2_ENTREZID_18.csv', '/media/ssd/Perez/storage/TCGA_PRAD_SU2C_PCF_GSE221601/integrative_analysis/intersecting_wgcna/comparison_1_padj_0_05_all_1_0_bicor_signed_intersecting_wgcna_M11+M5_ENTREZID_0.csv', '/media/ssd/Perez/storage/TCGA_PRAD_SU2C_PCF_GSE221601/integrative_analysis/intersecting_wgcna/comparison_1_padj_0_05_all_1_0_bicor_signed_intersecting_wgcna_M11+M1_ENTREZID_62.csv', '/media/ssd/Perez/storage/TCGA_PRAD_SU2C_PCF_GSE221601/integrative_analysis/intersecting_wgcna/comparison_1_padj_0_05_all_1_0_bicor_signed_intersecting_wgcna_M11+M4_ENTREZID_6.csv', '/media/ssd/Perez/storage/TCGA_PRAD_SU2C_PCF_GSE221601/integrative_analysis/intersecting_wgcna/comparison_1_padj_0_05_all_1_0_bicor_signed_intersecting_wgcna_M11+M6_ENTREZID_19.csv', '/media/ssd/Perez/storage/TCGA_PRAD_SU2C_PCF_GSE221601/integrative_analysis/intersecting_degs_shap/decision_tree_10000/comparison_1_padj_0_05_all_1_0_shap_values_1e-05_intersecting_degs_shap_ENTREZID_1605.csv', '/media/ssd/Perez/storage/TCGA_PRAD_SU2C_PCF_GSE221601/integrative_analysis/intersecting_degs_shap/random_forest_10000/comparison_1_padj_0_05_all_1_0_shap_values_1e-05_intersecting_degs_shap_ENTREZID_3029.csv', '/media/ssd/Perez/storage/TCGA_PRAD_SU2C_PCF_GSE221601/integrative_analysis/intersecting_degs_shap/random_forest_10000/comparison_1_padj_0_05_up_1_0_shap_values_1e-05_intersecting_degs_shap_ENTREZID_0.csv', '/media/ssd/Perez/storage/TCGA_PRAD_SU2C_PCF_GSE221601/integrative_analysis/intersecting_wgcna_shap/decision_tree_10000/comparison_1_padj_0_05_all_1_0_bicor_signed_decision_tree_10000_shap_values_1e-05_intersecting_wgcna_M11+M3_ENTREZID_0.csv', '/media/ssd/Perez/storage/TCGA_PRAD_SU2C_PCF_GSE221601/integrative_analysis/intersecting_wgcna_shap/decision_tree_10000/comparison_1_padj_0_05_all_1_0_bicor_signed_decision_tree_10000_shap_values_1e-05_intersecting_wgcna_M11+M2_ENTREZID_1.csv', '/media/ssd/Perez/storage/TCGA_PRAD_SU2C_PCF_GSE221601/integrative_analysis/intersecting_wgcna_shap/decision_tree_10000/comparison_1_padj_0_05_all_1_0_bicor_signed_decision_tree_10000_shap_values_1e-05_intersecting_wgcna_M11+M5_ENTREZID_0.csv', '/media/ssd/Perez/storage/TCGA_PRAD_SU2C_PCF_GSE221601/integrative_analysis/intersecting_wgcna_shap/decision_tree_10000/comparison_1_padj_0_05_all_1_0_bicor_signed_decision_tree_10000_shap_values_1e-05_intersecting_wgcna_M11+M1_ENTREZID_16.csv', '/media/ssd/Perez/storage/TCGA_PRAD_SU2C_PCF_GSE221601/integrative_analysis/intersecting_wgcna_shap/decision_tree_10000/comparison_1_padj_0_05_all_1_0_bicor_signed_decision_tree_10000_shap_values_1e-05_intersecting_wgcna_M11+M4_ENTREZID_1.csv', '/media/ssd/Perez/storage/TCGA_PRAD_SU2C_PCF_GSE221601/integrative_analysis/intersecting_wgcna_shap/decision_tree_10000/comparison_1_padj_0_05_all_1_0_bicor_signed_decision_tree_10000_shap_values_1e-05_intersecting_wgcna_M11+M6_ENTREZID_0.csv', '/media/ssd/Perez/storage/TCGA_PRAD_SU2C_PCF_GSE221601/integrative_analysis/intersecting_wgcna_shap/random_forest_10000/comparison_1_padj_0_05_up_1_0_bicor_signed_random_forest_10000_shap_values_1e-05_intersecting_wgcna_M7+M1_ENTREZID_0.csv', '/media/ssd/Perez/storage/TCGA_PRAD_SU2C_PCF_GSE221601/integrative_analysis/intersecting_wgcna_shap/random_forest_10000/comparison_1_padj_0_05_all_1_0_bicor_signed_random_forest_10000_shap_values_1e-05_intersecting_wgcna_M11+M3_ENTREZID_0.csv', '/media/ssd/Perez/storage/TCGA_PRAD_SU2C_PCF_GSE221601/integrative_analysis/intersecting_wgcna_shap/random_forest_10000/comparison_1_padj_0_05_all_1_0_bicor_signed_random_forest_10000_shap_values_1e-05_intersecting_wgcna_M11+M2_ENTREZID_6.csv', '/media/ssd/Perez/storage/TCGA_PRAD_SU2C_PCF_GSE221601/integrative_analysis/intersecting_wgcna_shap/random_forest_10000/comparison_1_padj_0_05_all_1_0_bicor_signed_random_forest_10000_shap_values_1e-05_intersecting_wgcna_M11+M5_ENTREZID_0.csv', '/media/ssd/Perez/storage/TCGA_PRAD_SU2C_PCF_GSE221601/integrative_analysis/intersecting_wgcna_shap/random_forest_10000/comparison_1_padj_0_05_all_1_0_bicor_signed_random_forest_10000_shap_values_1e-05_intersecting_wgcna_M11+M1_ENTREZID_20.csv', '/media/ssd/Perez/storage/TCGA_PRAD_SU2C_PCF_GSE221601/integrative_analysis/intersecting_wgcna_shap/random_forest_10000/comparison_1_padj_0_05_all_1_0_bicor_signed_random_forest_10000_shap_values_1e-05_intersecting_wgcna_M11+M4_ENTREZID_4.csv', '/media/ssd/Perez/storage/TCGA_PRAD_SU2C_PCF_GSE221601/integrative_analysis/intersecting_wgcna_shap/random_forest_10000/comparison_1_padj_0_05_all_1_0_bicor_signed_random_forest_10000_shap_values_1e-05_intersecting_wgcna_M11+M6_ENTREZID_0.csv'], 'MCRPC_vs_HSPC': []}, 'TROAP': {'BOTH': ['/media/ssd/Perez/storage/TCGA_PRAD_SU2C_PCF_GSE221601/integrative_analysis/intersecting_degs/comparison_1_padj_0_05_up_1_0_intersecting_degs_ENTREZID_131.csv', '/media/ssd/Perez/storage/TCGA_PRAD_SU2C_PCF_GSE221601/integrative_analysis/intersecting_degs/comparison_1_padj_0_05_all_1_0_intersecting_degs_ENTREZID_9765.csv', '/media/ssd/Perez/storage/TCGA_PRAD_SU2C_PCF_GSE221601/integrative_analysis/intersecting_wgcna/comparison_1_padj_0_05_up_1_0_bicor_signed_intersecting_wgcna_M7+M1_ENTREZID_22.csv', '/media/ssd/Perez/storage/TCGA_PRAD_SU2C_PCF_GSE221601/integrative_analysis/intersecting_wgcna/comparison_1_padj_0_05_all_1_0_bicor_signed_intersecting_wgcna_M11+M6_ENTREZID_19.csv'], 'HSPC_vs_PRIM': ['/media/ssd/Perez/storage/TCGA_PRAD_SU2C_PCF_GSE221601/integrative_analysis/intersecting_wgcna/comparison_1_padj_0_05_all_1_0_bicor_signed_intersecting_wgcna_M11+M3_ENTREZID_0.csv', '/media/ssd/Perez/storage/TCGA_PRAD_SU2C_PCF_GSE221601/integrative_analysis/intersecting_wgcna/comparison_1_padj_0_05_all_1_0_bicor_signed_intersecting_wgcna_M11+M2_ENTREZID_18.csv', '/media/ssd/Perez/storage/TCGA_PRAD_SU2C_PCF_GSE221601/integrative_analysis/intersecting_wgcna/comparison_1_padj_0_05_all_1_0_bicor_signed_intersecting_wgcna_M11+M5_ENTREZID_0.csv', '/media/ssd/Perez/storage/TCGA_PRAD_SU2C_PCF_GSE221601/integrative_analysis/intersecting_wgcna/comparison_1_padj_0_05_all_1_0_bicor_signed_intersecting_wgcna_M11+M1_ENTREZID_62.csv', '/media/ssd/Perez/storage/TCGA_PRAD_SU2C_PCF_GSE221601/integrative_analysis/intersecting_wgcna/comparison_1_padj_0_05_all_1_0_bicor_signed_intersecting_wgcna_M11+M4_ENTREZID_6.csv'], 'MCRPC_vs_HSPC': ['/media/ssd/Perez/storage/TCGA_PRAD_SU2C_PCF_GSE221601/integrative_analysis/intersecting_wgcna/comparison_1_padj_0_05_up_1_0_bicor_signed_intersecting_wgcna_M2+M1_ENTREZID_0.csv', '/media/ssd/Perez/storage/TCGA_PRAD_SU2C_PCF_GSE221601/integrative_analysis/intersecting_wgcna/comparison_1_padj_0_05_up_1_0_bicor_signed_intersecting_wgcna_M4+M1_ENTREZID_2.csv', '/media/ssd/Perez/storage/TCGA_PRAD_SU2C_PCF_GSE221601/integrative_analysis/intersecting_wgcna/comparison_1_padj_0_05_up_1_0_bicor_signed_intersecting_wgcna_M1+M1_ENTREZID_0.csv', '/media/ssd/Perez/storage/TCGA_PRAD_SU2C_PCF_GSE221601/integrative_analysis/intersecting_wgcna/comparison_1_padj_0_05_up_1_0_bicor_signed_intersecting_wgcna_M6+M1_ENTREZID_0.csv', '/media/ssd/Perez/storage/TCGA_PRAD_SU2C_PCF_GSE221601/integrative_analysis/intersecting_wgcna/comparison_1_padj_0_05_up_1_0_bicor_signed_intersecting_wgcna_M8+M1_ENTREZID_2.csv', '/media/ssd/Perez/storage/TCGA_PRAD_SU2C_PCF_GSE221601/integrative_analysis/intersecting_wgcna/comparison_1_padj_0_05_all_1_0_bicor_signed_intersecting_wgcna_M1+M6_ENTREZID_2.csv', '/media/ssd/Perez/storage/TCGA_PRAD_SU2C_PCF_GSE221601/integrative_analysis/intersecting_wgcna/comparison_1_padj_0_05_up_1_0_bicor_signed_intersecting_wgcna_M5+M1_ENTREZID_5.csv', '/media/ssd/Perez/storage/TCGA_PRAD_SU2C_PCF_GSE221601/integrative_analysis/intersecting_wgcna/comparison_1_padj_0_05_up_1_0_bicor_signed_intersecting_wgcna_M3+M1_ENTREZID_1.csv', '/media/ssd/Perez/storage/TCGA_PRAD_SU2C_PCF_GSE221601/integrative_analysis/intersecting_wgcna/comparison_1_padj_0_05_up_1_0_bicor_signed_intersecting_wgcna_M9+M1_ENTREZID_0.csv', '/media/ssd/Perez/storage/TCGA_PRAD_SU2C_PCF_GSE221601/integrative_analysis/intersecting_wgcna/comparison_1_padj_0_05_all_1_0_bicor_signed_intersecting_wgcna_M8+M6_ENTREZID_0.csv', '/media/ssd/Perez/storage/TCGA_PRAD_SU2C_PCF_GSE221601/integrative_analysis/intersecting_wgcna/comparison_1_padj_0_05_all_1_0_bicor_signed_intersecting_wgcna_M4+M6_ENTREZID_0.csv', '/media/ssd/Perez/storage/TCGA_PRAD_SU2C_PCF_GSE221601/integrative_analysis/intersecting_wgcna/comparison_1_padj_0_05_all_1_0_bicor_signed_intersecting_wgcna_M10+M6_ENTREZID_0.csv', '/media/ssd/Perez/storage/TCGA_PRAD_SU2C_PCF_GSE221601/integrative_analysis/intersecting_wgcna/comparison_1_padj_0_05_all_1_0_bicor_signed_intersecting_wgcna_M12+M6_ENTREZID_0.csv', '/media/ssd/Perez/storage/TCGA_PRAD_SU2C_PCF_GSE221601/integrative_analysis/intersecting_wgcna/comparison_1_padj_0_05_all_1_0_bicor_signed_intersecting_wgcna_M3+M6_ENTREZID_0.csv', '/media/ssd/Perez/storage/TCGA_PRAD_SU2C_PCF_GSE221601/integrative_analysis/intersecting_wgcna/comparison_1_padj_0_05_all_1_0_bicor_signed_intersecting_wgcna_M5+M6_ENTREZID_0.csv', '/media/ssd/Perez/storage/TCGA_PRAD_SU2C_PCF_GSE221601/integrative_analysis/intersecting_wgcna/comparison_1_padj_0_05_all_1_0_bicor_signed_intersecting_wgcna_M7+M6_ENTREZID_0.csv', '/media/ssd/Perez/storage/TCGA_PRAD_SU2C_PCF_GSE221601/integrative_analysis/intersecting_wgcna/comparison_1_padj_0_05_all_1_0_bicor_signed_intersecting_wgcna_M9+M6_ENTREZID_0.csv', '/media/ssd/Perez/storage/TCGA_PRAD_SU2C_PCF_GSE221601/integrative_analysis/intersecting_wgcna/comparison_1_padj_0_05_all_1_0_bicor_signed_intersecting_wgcna_M15+M6_ENTREZID_0.csv', '/media/ssd/Perez/storage/TCGA_PRAD_SU2C_PCF_GSE221601/integrative_analysis/intersecting_wgcna/comparison_1_padj_0_05_all_1_0_bicor_signed_intersecting_wgcna_M14+M6_ENTREZID_0.csv', '/media/ssd/Perez/storage/TCGA_PRAD_SU2C_PCF_GSE221601/integrative_analysis/intersecting_wgcna/comparison_1_padj_0_05_all_1_0_bicor_signed_intersecting_wgcna_M13+M6_ENTREZID_0.csv', '/media/ssd/Perez/storage/TCGA_PRAD_SU2C_PCF_GSE221601/integrative_analysis/intersecting_wgcna/comparison_1_padj_0_05_all_1_0_bicor_signed_intersecting_wgcna_M2+M6_ENTREZID_0.csv', '/media/ssd/Perez/storage/TCGA_PRAD_SU2C_PCF_GSE221601/integrative_analysis/intersecting_wgcna/comparison_1_padj_0_05_all_1_0_bicor_signed_intersecting_wgcna_M6+M6_ENTREZID_0.csv']}, 'COX1': {'BOTH': ['/media/ssd/Perez/storage/TCGA_PRAD_SU2C_PCF_GSE221601/integrative_analysis/intersecting_degs/comparison_1_padj_0_05_all_1_0_intersecting_degs_ENTREZID_9765.csv'], 'HSPC_vs_PRIM': ['/media/ssd/Perez/storage/TCGA_PRAD_SU2C_PCF_GSE221601/integrative_analysis/intersecting_degs/comparison_1_padj_0_05_down_1_0_intersecting_degs_ENTREZID_38.csv'], 'MCRPC_vs_HSPC': ['/media/ssd/Perez/storage/TCGA_PRAD_SU2C_PCF_GSE221601/integrative_analysis/intersecting_degs/comparison_1_padj_0_05_up_1_0_intersecting_degs_ENTREZID_131.csv', '/media/ssd/Perez/storage/TCGA_PRAD_SU2C_PCF_GSE221601/integrative_analysis/intersecting_wgcna/comparison_1_padj_0_05_up_1_0_bicor_signed_intersecting_wgcna_M2+M1_ENTREZID_0.csv', '/media/ssd/Perez/storage/TCGA_PRAD_SU2C_PCF_GSE221601/integrative_analysis/intersecting_wgcna/comparison_1_padj_0_05_up_1_0_bicor_signed_intersecting_wgcna_M4+M1_ENTREZID_2.csv', '/media/ssd/Perez/storage/TCGA_PRAD_SU2C_PCF_GSE221601/integrative_analysis/intersecting_wgcna/comparison_1_padj_0_05_up_1_0_bicor_signed_intersecting_wgcna_M1+M1_ENTREZID_0.csv', '/media/ssd/Perez/storage/TCGA_PRAD_SU2C_PCF_GSE221601/integrative_analysis/intersecting_wgcna/comparison_1_padj_0_05_up_1_0_bicor_signed_intersecting_wgcna_M6+M1_ENTREZID_0.csv', '/media/ssd/Perez/storage/TCGA_PRAD_SU2C_PCF_GSE221601/integrative_analysis/intersecting_wgcna/comparison_1_padj_0_05_all_1_0_bicor_signed_intersecting_wgcna_M1+M1_ENTREZID_1341.csv', '/media/ssd/Perez/storage/TCGA_PRAD_SU2C_PCF_GSE221601/integrative_analysis/intersecting_wgcna/comparison_1_padj_0_05_up_1_0_bicor_signed_intersecting_wgcna_M8+M1_ENTREZID_2.csv', '/media/ssd/Perez/storage/TCGA_PRAD_SU2C_PCF_GSE221601/integrative_analysis/intersecting_wgcna/comparison_1_padj_0_05_up_1_0_bicor_signed_intersecting_wgcna_M7+M1_ENTREZID_22.csv', '/media/ssd/Perez/storage/TCGA_PRAD_SU2C_PCF_GSE221601/integrative_analysis/intersecting_wgcna/comparison_1_padj_0_05_up_1_0_bicor_signed_intersecting_wgcna_M5+M1_ENTREZID_5.csv', '/media/ssd/Perez/storage/TCGA_PRAD_SU2C_PCF_GSE221601/integrative_analysis/intersecting_wgcna/comparison_1_padj_0_05_up_1_0_bicor_signed_intersecting_wgcna_M3+M1_ENTREZID_1.csv', '/media/ssd/Perez/storage/TCGA_PRAD_SU2C_PCF_GSE221601/integrative_analysis/intersecting_wgcna/comparison_1_padj_0_05_up_1_0_bicor_signed_intersecting_wgcna_M9+M1_ENTREZID_0.csv', '/media/ssd/Perez/storage/TCGA_PRAD_SU2C_PCF_GSE221601/integrative_analysis/intersecting_wgcna/comparison_1_padj_0_05_all_1_0_bicor_signed_intersecting_wgcna_M8+M1_ENTREZID_184.csv', '/media/ssd/Perez/storage/TCGA_PRAD_SU2C_PCF_GSE221601/integrative_analysis/intersecting_wgcna/comparison_1_padj_0_05_all_1_0_bicor_signed_intersecting_wgcna_M4+M1_ENTREZID_567.csv', '/media/ssd/Perez/storage/TCGA_PRAD_SU2C_PCF_GSE221601/integrative_analysis/intersecting_wgcna/comparison_1_padj_0_05_all_1_0_bicor_signed_intersecting_wgcna_M10+M1_ENTREZID_128.csv', '/media/ssd/Perez/storage/TCGA_PRAD_SU2C_PCF_GSE221601/integrative_analysis/intersecting_wgcna/comparison_1_padj_0_05_all_1_0_bicor_signed_intersecting_wgcna_M12+M1_ENTREZID_38.csv', '/media/ssd/Perez/storage/TCGA_PRAD_SU2C_PCF_GSE221601/integrative_analysis/intersecting_wgcna/comparison_1_padj_0_05_all_1_0_bicor_signed_intersecting_wgcna_M3+M1_ENTREZID_30.csv', '/media/ssd/Perez/storage/TCGA_PRAD_SU2C_PCF_GSE221601/integrative_analysis/intersecting_wgcna/comparison_1_padj_0_05_all_1_0_bicor_signed_intersecting_wgcna_M5+M1_ENTREZID_478.csv', '/media/ssd/Perez/storage/TCGA_PRAD_SU2C_PCF_GSE221601/integrative_analysis/intersecting_wgcna/comparison_1_padj_0_05_all_1_0_bicor_signed_intersecting_wgcna_M7+M1_ENTREZID_3.csv', '/media/ssd/Perez/storage/TCGA_PRAD_SU2C_PCF_GSE221601/integrative_analysis/intersecting_wgcna/comparison_1_padj_0_05_all_1_0_bicor_signed_intersecting_wgcna_M9+M1_ENTREZID_66.csv', '/media/ssd/Perez/storage/TCGA_PRAD_SU2C_PCF_GSE221601/integrative_analysis/intersecting_wgcna/comparison_1_padj_0_05_all_1_0_bicor_signed_intersecting_wgcna_M15+M1_ENTREZID_40.csv', '/media/ssd/Perez/storage/TCGA_PRAD_SU2C_PCF_GSE221601/integrative_analysis/intersecting_wgcna/comparison_1_padj_0_05_all_1_0_bicor_signed_intersecting_wgcna_M11+M1_ENTREZID_62.csv', '/media/ssd/Perez/storage/TCGA_PRAD_SU2C_PCF_GSE221601/integrative_analysis/intersecting_wgcna/comparison_1_padj_0_05_all_1_0_bicor_signed_intersecting_wgcna_M14+M1_ENTREZID_85.csv', '/media/ssd/Perez/storage/TCGA_PRAD_SU2C_PCF_GSE221601/integrative_analysis/intersecting_wgcna/comparison_1_padj_0_05_all_1_0_bicor_signed_intersecting_wgcna_M13+M1_ENTREZID_17.csv', '/media/ssd/Perez/storage/TCGA_PRAD_SU2C_PCF_GSE221601/integrative_analysis/intersecting_wgcna/comparison_1_padj_0_05_all_1_0_bicor_signed_intersecting_wgcna_M2+M1_ENTREZID_3.csv', '/media/ssd/Perez/storage/TCGA_PRAD_SU2C_PCF_GSE221601/integrative_analysis/intersecting_wgcna/comparison_1_padj_0_05_all_1_0_bicor_signed_intersecting_wgcna_M6+M1_ENTREZID_1.csv']}, 'UHRF1': {'BOTH': ['/media/ssd/Perez/storage/TCGA_PRAD_SU2C_PCF_GSE221601/integrative_analysis/intersecting_degs/comparison_1_padj_0_05_up_1_0_intersecting_degs_ENTREZID_131.csv', '/media/ssd/Perez/storage/TCGA_PRAD_SU2C_PCF_GSE221601/integrative_analysis/intersecting_degs/comparison_1_padj_0_05_all_1_0_intersecting_degs_ENTREZID_9765.csv', '/media/ssd/Perez/storage/TCGA_PRAD_SU2C_PCF_GSE221601/integrative_analysis/intersecting_wgcna/comparison_1_padj_0_05_up_1_0_bicor_signed_intersecting_wgcna_M7+M1_ENTREZID_22.csv', '/media/ssd/Perez/storage/TCGA_PRAD_SU2C_PCF_GSE221601/integrative_analysis/intersecting_wgcna/comparison_1_padj_0_05_all_1_0_bicor_signed_intersecting_wgcna_M11+M6_ENTREZID_19.csv'], 'HSPC_vs_PRIM': ['/media/ssd/Perez/storage/TCGA_PRAD_SU2C_PCF_GSE221601/integrative_analysis/intersecting_wgcna/comparison_1_padj_0_05_all_1_0_bicor_signed_intersecting_wgcna_M11+M3_ENTREZID_0.csv', '/media/ssd/Perez/storage/TCGA_PRAD_SU2C_PCF_GSE221601/integrative_analysis/intersecting_wgcna/comparison_1_padj_0_05_all_1_0_bicor_signed_intersecting_wgcna_M11+M2_ENTREZID_18.csv', '/media/ssd/Perez/storage/TCGA_PRAD_SU2C_PCF_GSE221601/integrative_analysis/intersecting_wgcna/comparison_1_padj_0_05_all_1_0_bicor_signed_intersecting_wgcna_M11+M5_ENTREZID_0.csv', '/media/ssd/Perez/storage/TCGA_PRAD_SU2C_PCF_GSE221601/integrative_analysis/intersecting_wgcna/comparison_1_padj_0_05_all_1_0_bicor_signed_intersecting_wgcna_M11+M1_ENTREZID_62.csv', '/media/ssd/Perez/storage/TCGA_PRAD_SU2C_PCF_GSE221601/integrative_analysis/intersecting_wgcna/comparison_1_padj_0_05_all_1_0_bicor_signed_intersecting_wgcna_M11+M4_ENTREZID_6.csv'], 'MCRPC_vs_HSPC': ['/media/ssd/Perez/storage/TCGA_PRAD_SU2C_PCF_GSE221601/integrative_analysis/intersecting_wgcna/comparison_1_padj_0_05_up_1_0_bicor_signed_intersecting_wgcna_M2+M1_ENTREZID_0.csv', '/media/ssd/Perez/storage/TCGA_PRAD_SU2C_PCF_GSE221601/integrative_analysis/intersecting_wgcna/comparison_1_padj_0_05_up_1_0_bicor_signed_intersecting_wgcna_M4+M1_ENTREZID_2.csv', '/media/ssd/Perez/storage/TCGA_PRAD_SU2C_PCF_GSE221601/integrative_analysis/intersecting_wgcna/comparison_1_padj_0_05_up_1_0_bicor_signed_intersecting_wgcna_M1+M1_ENTREZID_0.csv', '/media/ssd/Perez/storage/TCGA_PRAD_SU2C_PCF_GSE221601/integrative_analysis/intersecting_wgcna/comparison_1_padj_0_05_up_1_0_bicor_signed_intersecting_wgcna_M6+M1_ENTREZID_0.csv', '/media/ssd/Perez/storage/TCGA_PRAD_SU2C_PCF_GSE221601/integrative_analysis/intersecting_wgcna/comparison_1_padj_0_05_up_1_0_bicor_signed_intersecting_wgcna_M8+M1_ENTREZID_2.csv', '/media/ssd/Perez/storage/TCGA_PRAD_SU2C_PCF_GSE221601/integrative_analysis/intersecting_wgcna/comparison_1_padj_0_05_all_1_0_bicor_signed_intersecting_wgcna_M1+M6_ENTREZID_2.csv', '/media/ssd/Perez/storage/TCGA_PRAD_SU2C_PCF_GSE221601/integrative_analysis/intersecting_wgcna/comparison_1_padj_0_05_up_1_0_bicor_signed_intersecting_wgcna_M5+M1_ENTREZID_5.csv', '/media/ssd/Perez/storage/TCGA_PRAD_SU2C_PCF_GSE221601/integrative_analysis/intersecting_wgcna/comparison_1_padj_0_05_up_1_0_bicor_signed_intersecting_wgcna_M3+M1_ENTREZID_1.csv', '/media/ssd/Perez/storage/TCGA_PRAD_SU2C_PCF_GSE221601/integrative_analysis/intersecting_wgcna/comparison_1_padj_0_05_up_1_0_bicor_signed_intersecting_wgcna_M9+M1_ENTREZID_0.csv', '/media/ssd/Perez/storage/TCGA_PRAD_SU2C_PCF_GSE221601/integrative_analysis/intersecting_wgcna/comparison_1_padj_0_05_all_1_0_bicor_signed_intersecting_wgcna_M8+M6_ENTREZID_0.csv', '/media/ssd/Perez/storage/TCGA_PRAD_SU2C_PCF_GSE221601/integrative_analysis/intersecting_wgcna/comparison_1_padj_0_05_all_1_0_bicor_signed_intersecting_wgcna_M4+M6_ENTREZID_0.csv', '/media/ssd/Perez/storage/TCGA_PRAD_SU2C_PCF_GSE221601/integrative_analysis/intersecting_wgcna/comparison_1_padj_0_05_all_1_0_bicor_signed_intersecting_wgcna_M10+M6_ENTREZID_0.csv', '/media/ssd/Perez/storage/TCGA_PRAD_SU2C_PCF_GSE221601/integrative_analysis/intersecting_wgcna/comparison_1_padj_0_05_all_1_0_bicor_signed_intersecting_wgcna_M12+M6_ENTREZID_0.csv', '/media/ssd/Perez/storage/TCGA_PRAD_SU2C_PCF_GSE221601/integrative_analysis/intersecting_wgcna/comparison_1_padj_0_05_all_1_0_bicor_signed_intersecting_wgcna_M3+M6_ENTREZID_0.csv', '/media/ssd/Perez/storage/TCGA_PRAD_SU2C_PCF_GSE221601/integrative_analysis/intersecting_wgcna/comparison_1_padj_0_05_all_1_0_bicor_signed_intersecting_wgcna_M5+M6_ENTREZID_0.csv', '/media/ssd/Perez/storage/TCGA_PRAD_SU2C_PCF_GSE221601/integrative_analysis/intersecting_wgcna/comparison_1_padj_0_05_all_1_0_bicor_signed_intersecting_wgcna_M7+M6_ENTREZID_0.csv', '/media/ssd/Perez/storage/TCGA_PRAD_SU2C_PCF_GSE221601/integrative_analysis/intersecting_wgcna/comparison_1_padj_0_05_all_1_0_bicor_signed_intersecting_wgcna_M9+M6_ENTREZID_0.csv', '/media/ssd/Perez/storage/TCGA_PRAD_SU2C_PCF_GSE221601/integrative_analysis/intersecting_wgcna/comparison_1_padj_0_05_all_1_0_bicor_signed_intersecting_wgcna_M15+M6_ENTREZID_0.csv', '/media/ssd/Perez/storage/TCGA_PRAD_SU2C_PCF_GSE221601/integrative_analysis/intersecting_wgcna/comparison_1_padj_0_05_all_1_0_bicor_signed_intersecting_wgcna_M14+M6_ENTREZID_0.csv', '/media/ssd/Perez/storage/TCGA_PRAD_SU2C_PCF_GSE221601/integrative_analysis/intersecting_wgcna/comparison_1_padj_0_05_all_1_0_bicor_signed_intersecting_wgcna_M13+M6_ENTREZID_0.csv', '/media/ssd/Perez/storage/TCGA_PRAD_SU2C_PCF_GSE221601/integrative_analysis/intersecting_wgcna/comparison_1_padj_0_05_all_1_0_bicor_signed_intersecting_wgcna_M2+M6_ENTREZID_0.csv', '/media/ssd/Perez/storage/TCGA_PRAD_SU2C_PCF_GSE221601/integrative_analysis/intersecting_wgcna/comparison_1_padj_0_05_all_1_0_bicor_signed_intersecting_wgcna_M6+M6_ENTREZID_0.csv']}}\n"
     ]
    }
   ],
   "source": [
    "relevant_files = {\n",
    "    goi: {\"BOTH\": [], \"HSPC_vs_PRIM\": [], \"MCRPC_vs_HSPC\": []} for goi in GOIS\n",
    "}\n",
    "\n",
    "for int_analysis_file in (\n",
    "    TCGA_PRAD_SU2C_PCF_GSE221601_ROOT / \"integrative_analysis\"\n",
    ").rglob(\"*.csv\"):\n",
    "    if \"pathway\" in int_analysis_file.name:\n",
    "        continue\n",
    "\n",
    "    results_df = pd.read_csv(int_analysis_file)\n",
    "    if \"SYMBOL\" not in results_df.columns:\n",
    "        continue\n",
    "\n",
    "    hspc_vs_prim_col = next(col for col in results_df.columns if col.startswith(\"HSPC_vs_PRIM\"))\n",
    "    hspc_vs_prim_col_idx = results_df.columns.get_loc(hspc_vs_prim_col)\n",
    "    mcrpc_vs_hspc_col = next(col for col in results_df.columns if col.startswith(\"MCRPC_vs_HSPC\"))\n",
    "    mcrpc_vs_hspc_col_idx = results_df.columns.get_loc(mcrpc_vs_hspc_col)\n",
    "\n",
    "    for goi in GOIS:\n",
    "        if goi in results_df[\"SYMBOL\"].tolist():\n",
    "            goi_rows = results_df[results_df[\"SYMBOL\"] == goi].squeeze()\n",
    "            if (\n",
    "                goi_rows.iloc[hspc_vs_prim_col_idx]\n",
    "                & goi_rows.iloc[mcrpc_vs_hspc_col_idx]\n",
    "            ):\n",
    "                relevant_files[goi][\"BOTH\"].append(str(int_analysis_file))\n",
    "            if (\n",
    "                goi_rows.iloc[hspc_vs_prim_col_idx]\n",
    "                & ~goi_rows.iloc[mcrpc_vs_hspc_col_idx]\n",
    "            ):\n",
    "                relevant_files[goi][\"HSPC_vs_PRIM\"].append(str(int_analysis_file))\n",
    "            if (\n",
    "                ~goi_rows.iloc[hspc_vs_prim_col_idx]\n",
    "                & goi_rows.iloc[mcrpc_vs_hspc_col_idx]\n",
    "            ):\n",
    "                relevant_files[goi][\"MCRPC_vs_HSPC\"].append(str(int_analysis_file))\n",
    "\n",
    "print(relevant_files)\n",
    "with open(\"relevant_files.json\", \"w\") as f:\n",
    "    json.dump(relevant_files, f, indent=4)"
   ]
  },
  {
   "cell_type": "code",
   "execution_count": null,
   "metadata": {},
   "outputs": [],
   "source": []
  }
 ],
 "metadata": {
  "kernelspec": {
   "display_name": "bioinfo",
   "language": "python",
   "name": "python3"
  },
  "language_info": {
   "codemirror_mode": {
    "name": "ipython",
    "version": 3
   },
   "file_extension": ".py",
   "mimetype": "text/x-python",
   "name": "python",
   "nbconvert_exporter": "python",
   "pygments_lexer": "ipython3",
   "version": "3.12.8"
  }
 },
 "nbformat": 4,
 "nbformat_minor": 2
}
