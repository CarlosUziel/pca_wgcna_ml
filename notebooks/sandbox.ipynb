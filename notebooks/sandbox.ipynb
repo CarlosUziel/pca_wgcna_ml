{
 "cells": [
  {
   "cell_type": "markdown",
   "metadata": {},
   "source": [
    "# Python Sandbox\n"
   ]
  },
  {
   "cell_type": "markdown",
   "metadata": {},
   "source": [
    "## Setup"
   ]
  },
  {
   "cell_type": "code",
   "execution_count": 1,
   "metadata": {},
   "outputs": [],
   "source": [
    "%load_ext autoreload\n",
    "%autoreload 2"
   ]
  },
  {
   "cell_type": "markdown",
   "metadata": {},
   "source": [
    "### Imports"
   ]
  },
  {
   "cell_type": "code",
   "execution_count": 2,
   "metadata": {},
   "outputs": [],
   "source": [
    "import sys\n",
    "from pathlib import Path\n",
    "from typing import Iterable\n",
    "\n",
    "import pandas as pd"
   ]
  },
  {
   "cell_type": "code",
   "execution_count": 3,
   "metadata": {},
   "outputs": [],
   "source": [
    "src_path: str = \"../src\"\n",
    "sys.path.append(src_path)"
   ]
  },
  {
   "cell_type": "code",
   "execution_count": 4,
   "metadata": {},
   "outputs": [],
   "source": [
    "from components.functional_analysis.orgdb import OrgDB\n",
    "from data.io import clean_star_counts\n",
    "from r_wrappers.utils import annotate_deseq_result, pd_df_to_rpy2_df"
   ]
  },
  {
   "cell_type": "markdown",
   "metadata": {},
   "source": [
    "### Global Variables"
   ]
  },
  {
   "cell_type": "code",
   "execution_count": 5,
   "metadata": {},
   "outputs": [],
   "source": [
    "TCGA_PRAD_SU2C_PCF_GSE221601_ROOT: Path = Path(\n",
    "    \"/media/ssd/Perez/storage/TCGA_PRAD_SU2C_PCF_GSE221601\"\n",
    ")\n",
    "GOIS: Iterable[str] = (\"TPX2\", \"EZH2\", \"TROAP\", \"COX1\", \"UHRF1\")\n",
    "ORG_DB: OrgDB = OrgDB(\"Homo sapiens\")"
   ]
  },
  {
   "cell_type": "markdown",
   "metadata": {},
   "source": [
    "## Sandbox"
   ]
  },
  {
   "cell_type": "markdown",
   "metadata": {},
   "source": [
    "### For all integrative analysis results, find appereances of genes of interest."
   ]
  },
  {
   "cell_type": "raw",
   "metadata": {
    "vscode": {
     "languageId": "raw"
    }
   },
   "source": [
    "relevant_files = {\n",
    "    goi: {\"BOTH\": [], \"HSPC_vs_PRIM\": [], \"MCRPC_vs_HSPC\": []} for goi in GOIS\n",
    "}\n",
    "\n",
    "for int_analysis_file in (\n",
    "    TCGA_PRAD_SU2C_PCF_GSE221601_ROOT / \"integrative_analysis\"\n",
    ").rglob(\"*.csv\"):\n",
    "    if \"pathway\" in int_analysis_file.name:\n",
    "        continue\n",
    "\n",
    "    results_df = pd.read_csv(int_analysis_file)\n",
    "    if \"SYMBOL\" not in results_df.columns:\n",
    "        continue\n",
    "\n",
    "    hspc_vs_prim_col = next(\n",
    "        col for col in results_df.columns if col.startswith(\"HSPC_vs_PRIM\")\n",
    "    )\n",
    "    hspc_vs_prim_col_idx = results_df.columns.get_loc(hspc_vs_prim_col)\n",
    "    mcrpc_vs_hspc_col = next(\n",
    "        col for col in results_df.columns if col.startswith(\"MCRPC_vs_HSPC\")\n",
    "    )\n",
    "    mcrpc_vs_hspc_col_idx = results_df.columns.get_loc(mcrpc_vs_hspc_col)\n",
    "\n",
    "    for goi in GOIS:\n",
    "        if goi in results_df[\"SYMBOL\"].tolist():\n",
    "            goi_rows = results_df[results_df[\"SYMBOL\"] == goi].squeeze()\n",
    "            if (\n",
    "                goi_rows.iloc[hspc_vs_prim_col_idx]\n",
    "                & goi_rows.iloc[mcrpc_vs_hspc_col_idx]\n",
    "            ):\n",
    "                relevant_files[goi][\"BOTH\"].append(str(int_analysis_file))\n",
    "            if (\n",
    "                goi_rows.iloc[hspc_vs_prim_col_idx]\n",
    "                & ~goi_rows.iloc[mcrpc_vs_hspc_col_idx]\n",
    "            ):\n",
    "                relevant_files[goi][\"HSPC_vs_PRIM\"].append(str(int_analysis_file))\n",
    "            if (\n",
    "                ~goi_rows.iloc[hspc_vs_prim_col_idx]\n",
    "                & goi_rows.iloc[mcrpc_vs_hspc_col_idx]\n",
    "            ):\n",
    "                relevant_files[goi][\"MCRPC_vs_HSPC\"].append(str(int_analysis_file))\n",
    "\n",
    "print(relevant_files)\n",
    "with open(\"relevant_files.json\", \"w\") as f:\n",
    "    json.dump(relevant_files, f, indent=4)"
   ]
  },
  {
   "cell_type": "markdown",
   "metadata": {},
   "source": [
    "### Copy original tar counts files to analysis directory"
   ]
  },
  {
   "cell_type": "code",
   "execution_count": 6,
   "metadata": {},
   "outputs": [],
   "source": [
    "STAR_ROOT: Path = Path(\"/rawdata/GSE221601/mapping/star\")\n",
    "ANALYSIS_ROOT: Path = Path(\"/media/ssd/Perez/storage/GSE221601/data\")\n",
    "STAR_ORIGINAL_COUNTS_PATH: Path = ANALYSIS_ROOT / \"star_original_counts\"\n",
    "STAR_ORIGINAL_COUNTS_PATH.mkdir(exist_ok=True, parents=True)\n",
    "STAR_UNSTRANDED_COUNTS_PATH: Path = ANALYSIS_ROOT / \"star_unstranded_counts\"\n",
    "STAR_UNSTRANDED_COUNTS_PATH.mkdir(exist_ok=True, parents=True)\n",
    "STAR_FIRST_READ_STRAND_COUNTS_PATH: Path = (\n",
    "    ANALYSIS_ROOT / \"star_first_read_strand_counts\"\n",
    ")\n",
    "STAR_FIRST_READ_STRAND_COUNTS_PATH.mkdir(exist_ok=True, parents=True)\n",
    "STAR_SECOND_READ_STRAND_COUNTS_PATH: Path = (\n",
    "    ANALYSIS_ROOT / \"star_second_read_strand_counts\"\n",
    ")\n",
    "STAR_SECOND_READ_STRAND_COUNTS_PATH.mkdir(exist_ok=True, parents=True)"
   ]
  },
  {
   "cell_type": "code",
   "execution_count": 7,
   "metadata": {},
   "outputs": [],
   "source": [
    "for tab_file in STAR_ROOT.rglob(\"ReadsPerGene.out.tab\"):\n",
    "    parent_dir_name = tab_file.parent.name\n",
    "    destination_file = STAR_ORIGINAL_COUNTS_PATH / f\"{parent_dir_name}.tab\"\n",
    "    destination_file.write_bytes(tab_file.read_bytes())"
   ]
  },
  {
   "cell_type": "code",
   "execution_count": null,
   "metadata": {},
   "outputs": [],
   "source": [
    "clean_star_counts(\n",
    "    star_path=STAR_ROOT,\n",
    "    star_counts_path=STAR_UNSTRANDED_COUNTS_PATH,\n",
    "    subset_col=1,\n",
    ")\n",
    "clean_star_counts(\n",
    "    star_path=STAR_ROOT,\n",
    "    star_counts_path=STAR_FIRST_READ_STRAND_COUNTS_PATH,\n",
    "    subset_col=2,\n",
    ")\n",
    "clean_star_counts(\n",
    "    star_path=STAR_ROOT,\n",
    "    star_counts_path=STAR_SECOND_READ_STRAND_COUNTS_PATH,\n",
    "    subset_col=3,\n",
    ")"
   ]
  },
  {
   "cell_type": "markdown",
   "metadata": {},
   "source": [
    "### Annotate LRT deseq files"
   ]
  },
  {
   "cell_type": "code",
   "execution_count": null,
   "metadata": {},
   "outputs": [],
   "source": [
    "lrt_files = list(\n",
    "    Path(\"/media/ssd/Perez/storage/PCTA_WCDT_GSE221601_LRT/deseq2\").glob(\n",
    "        \"Sig_res_LRT_across_sample_types_overall_effects_hspc+mcrpc+norm+prim_1232samples*deseq_results.csv\"\n",
    "    )\n",
    ")\n",
    "for lrt_file in lrt_files:\n",
    "    print(lrt_file)"
   ]
  },
  {
   "cell_type": "code",
   "execution_count": null,
   "metadata": {},
   "outputs": [],
   "source": [
    "for lrt_file in lrt_files:\n",
    "    print(\"Processing file:\", lrt_file)\n",
    "    lrt_results = pd.read_csv(lrt_file, index_col=0)\n",
    "\n",
    "    lrt_results_annot = annotate_deseq_result(pd_df_to_rpy2_df(lrt_results), ORG_DB)\n",
    "\n",
    "    lrt_results_annot = (\n",
    "        lrt_results_annot[\n",
    "            ~lrt_results_annot[\"ENTREZID\"].str.contains(\"/\", na=False)\n",
    "            | ~lrt_results_annot[\"SYMBOL\"].str.contains(\"/\", na=False)\n",
    "        ]\n",
    "        .dropna(subset=[\"ENTREZID\", \"SYMBOL\"])\n",
    "        .drop_duplicates(subset=[\"ENTREZID\", \"SYMBOL\"], keep=False)\n",
    "    )\n",
    "\n",
    "    lrt_results_annot.to_csv(lrt_file.with_name(lrt_file.stem + \"_unique.csv\"))"
   ]
  },
  {
   "cell_type": "code",
   "execution_count": null,
   "metadata": {},
   "outputs": [],
   "source": []
  }
 ],
 "metadata": {
  "kernelspec": {
   "display_name": "bioinfo",
   "language": "python",
   "name": "python3"
  },
  "language_info": {
   "codemirror_mode": {
    "name": "ipython",
    "version": 3
   },
   "file_extension": ".py",
   "mimetype": "text/x-python",
   "name": "python",
   "nbconvert_exporter": "python",
   "pygments_lexer": "ipython3",
   "version": "3.12.8"
  }
 },
 "nbformat": 4,
 "nbformat_minor": 2
}
