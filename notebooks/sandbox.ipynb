{
 "cells": [
  {
   "cell_type": "markdown",
   "metadata": {},
   "source": [
    "# Python Sandbox\n"
   ]
  },
  {
   "cell_type": "markdown",
   "metadata": {},
   "source": [
    "## Setup"
   ]
  },
  {
   "cell_type": "code",
   "execution_count": 1,
   "metadata": {},
   "outputs": [],
   "source": [
    "%load_ext autoreload\n",
    "%autoreload 2"
   ]
  },
  {
   "cell_type": "markdown",
   "metadata": {},
   "source": [
    "### Imports"
   ]
  },
  {
   "cell_type": "code",
   "execution_count": 2,
   "metadata": {},
   "outputs": [],
   "source": [
    "import json\n",
    "import sys\n",
    "from pathlib import Path\n",
    "from typing import Iterable\n",
    "\n",
    "import pandas as pd"
   ]
  },
  {
   "cell_type": "code",
   "execution_count": 3,
   "metadata": {},
   "outputs": [],
   "source": [
    "src_path: str = \"../src\"\n",
    "sys.path.append(src_path)"
   ]
  },
  {
   "cell_type": "markdown",
   "metadata": {},
   "source": [
    "### Global Variables"
   ]
  },
  {
   "cell_type": "code",
   "execution_count": 4,
   "metadata": {},
   "outputs": [],
   "source": [
    "TCGA_PRAD_SU2C_PCF_GSE221601_ROOT: Path = Path(\n",
    "    \"/media/ssd/Perez/storage/TCGA_PRAD_SU2C_PCF_GSE221601\"\n",
    ")\n",
    "GOIS: Iterable[str] = (\"TPX2\", \"EZH2\", \"TROAP\", \"COX1\", \"UHRF1\")"
   ]
  },
  {
   "cell_type": "markdown",
   "metadata": {},
   "source": [
    "## Sandbox"
   ]
  },
  {
   "cell_type": "markdown",
   "metadata": {},
   "source": [
    "For all integrative analysis results, find appereances of genes of interest."
   ]
  },
  {
   "cell_type": "code",
   "execution_count": null,
   "metadata": {},
   "outputs": [],
   "source": [
    "relevant_files = {\n",
    "    goi: {\"BOTH\": [], \"HSPC_vs_PRIM\": [], \"MCRPC_vs_HSPC\": []} for goi in GOIS\n",
    "}\n",
    "\n",
    "for int_analysis_file in (\n",
    "    TCGA_PRAD_SU2C_PCF_GSE221601_ROOT / \"integrative_analysis\"\n",
    ").rglob(\"*.csv\"):\n",
    "    if \"pathway\" in int_analysis_file.name:\n",
    "        continue\n",
    "\n",
    "    results_df = pd.read_csv(int_analysis_file)\n",
    "    if \"SYMBOL\" not in results_df.columns:\n",
    "        continue\n",
    "\n",
    "    hspc_vs_prim_col = next(\n",
    "        col for col in results_df.columns if col.startswith(\"HSPC_vs_PRIM\")\n",
    "    )\n",
    "    hspc_vs_prim_col_idx = results_df.columns.get_loc(hspc_vs_prim_col)\n",
    "    mcrpc_vs_hspc_col = next(\n",
    "        col for col in results_df.columns if col.startswith(\"MCRPC_vs_HSPC\")\n",
    "    )\n",
    "    mcrpc_vs_hspc_col_idx = results_df.columns.get_loc(mcrpc_vs_hspc_col)\n",
    "\n",
    "    for goi in GOIS:\n",
    "        if goi in results_df[\"SYMBOL\"].tolist():\n",
    "            goi_rows = results_df[results_df[\"SYMBOL\"] == goi].squeeze()\n",
    "            if (\n",
    "                goi_rows.iloc[hspc_vs_prim_col_idx]\n",
    "                & goi_rows.iloc[mcrpc_vs_hspc_col_idx]\n",
    "            ):\n",
    "                relevant_files[goi][\"BOTH\"].append(str(int_analysis_file))\n",
    "            if (\n",
    "                goi_rows.iloc[hspc_vs_prim_col_idx]\n",
    "                & ~goi_rows.iloc[mcrpc_vs_hspc_col_idx]\n",
    "            ):\n",
    "                relevant_files[goi][\"HSPC_vs_PRIM\"].append(str(int_analysis_file))\n",
    "            if (\n",
    "                ~goi_rows.iloc[hspc_vs_prim_col_idx]\n",
    "                & goi_rows.iloc[mcrpc_vs_hspc_col_idx]\n",
    "            ):\n",
    "                relevant_files[goi][\"MCRPC_vs_HSPC\"].append(str(int_analysis_file))\n",
    "\n",
    "print(relevant_files)\n",
    "with open(\"relevant_files.json\", \"w\") as f:\n",
    "    json.dump(relevant_files, f, indent=4)"
   ]
  },
  {
   "cell_type": "code",
   "execution_count": null,
   "metadata": {},
   "outputs": [],
   "source": []
  }
 ],
 "metadata": {
  "kernelspec": {
   "display_name": "bioinfo",
   "language": "python",
   "name": "python3"
  },
  "language_info": {
   "codemirror_mode": {
    "name": "ipython",
    "version": 3
   },
   "file_extension": ".py",
   "mimetype": "text/x-python",
   "name": "python",
   "nbconvert_exporter": "python",
   "pygments_lexer": "ipython3",
   "version": "3.12.8"
  }
 },
 "nbformat": 4,
 "nbformat_minor": 2
}
