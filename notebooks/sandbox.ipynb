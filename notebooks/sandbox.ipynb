{
 "cells": [
  {
   "cell_type": "markdown",
   "metadata": {},
   "source": [
    "# Python Sandbox\n"
   ]
  },
  {
   "cell_type": "markdown",
   "metadata": {},
   "source": [
    "## Setup"
   ]
  },
  {
   "cell_type": "code",
   "execution_count": 1,
   "metadata": {},
   "outputs": [],
   "source": [
    "%load_ext autoreload\n",
    "%autoreload 2"
   ]
  },
  {
   "cell_type": "markdown",
   "metadata": {},
   "source": [
    "### Imports"
   ]
  },
  {
   "cell_type": "code",
   "execution_count": 2,
   "metadata": {},
   "outputs": [],
   "source": [
    "import sys\n",
    "from pathlib import Path\n",
    "from typing import Iterable"
   ]
  },
  {
   "cell_type": "code",
   "execution_count": 3,
   "metadata": {},
   "outputs": [],
   "source": [
    "src_path: str = \"../src\"\n",
    "sys.path.append(src_path)"
   ]
  },
  {
   "cell_type": "code",
   "execution_count": 4,
   "metadata": {},
   "outputs": [],
   "source": [
    "from data.io import clean_star_counts"
   ]
  },
  {
   "cell_type": "markdown",
   "metadata": {},
   "source": [
    "### Global Variables"
   ]
  },
  {
   "cell_type": "code",
   "execution_count": 5,
   "metadata": {},
   "outputs": [],
   "source": [
    "TCGA_PRAD_SU2C_PCF_GSE221601_ROOT: Path = Path(\n",
    "    \"/media/ssd/Perez/storage/TCGA_PRAD_SU2C_PCF_GSE221601\"\n",
    ")\n",
    "GOIS: Iterable[str] = (\"TPX2\", \"EZH2\", \"TROAP\", \"COX1\", \"UHRF1\")"
   ]
  },
  {
   "cell_type": "markdown",
   "metadata": {},
   "source": [
    "## Sandbox"
   ]
  },
  {
   "cell_type": "markdown",
   "metadata": {},
   "source": [
    "For all integrative analysis results, find appereances of genes of interest."
   ]
  },
  {
   "cell_type": "raw",
   "metadata": {
    "vscode": {
     "languageId": "raw"
    }
   },
   "source": [
    "relevant_files = {\n",
    "    goi: {\"BOTH\": [], \"HSPC_vs_PRIM\": [], \"MCRPC_vs_HSPC\": []} for goi in GOIS\n",
    "}\n",
    "\n",
    "for int_analysis_file in (\n",
    "    TCGA_PRAD_SU2C_PCF_GSE221601_ROOT / \"integrative_analysis\"\n",
    ").rglob(\"*.csv\"):\n",
    "    if \"pathway\" in int_analysis_file.name:\n",
    "        continue\n",
    "\n",
    "    results_df = pd.read_csv(int_analysis_file)\n",
    "    if \"SYMBOL\" not in results_df.columns:\n",
    "        continue\n",
    "\n",
    "    hspc_vs_prim_col = next(\n",
    "        col for col in results_df.columns if col.startswith(\"HSPC_vs_PRIM\")\n",
    "    )\n",
    "    hspc_vs_prim_col_idx = results_df.columns.get_loc(hspc_vs_prim_col)\n",
    "    mcrpc_vs_hspc_col = next(\n",
    "        col for col in results_df.columns if col.startswith(\"MCRPC_vs_HSPC\")\n",
    "    )\n",
    "    mcrpc_vs_hspc_col_idx = results_df.columns.get_loc(mcrpc_vs_hspc_col)\n",
    "\n",
    "    for goi in GOIS:\n",
    "        if goi in results_df[\"SYMBOL\"].tolist():\n",
    "            goi_rows = results_df[results_df[\"SYMBOL\"] == goi].squeeze()\n",
    "            if (\n",
    "                goi_rows.iloc[hspc_vs_prim_col_idx]\n",
    "                & goi_rows.iloc[mcrpc_vs_hspc_col_idx]\n",
    "            ):\n",
    "                relevant_files[goi][\"BOTH\"].append(str(int_analysis_file))\n",
    "            if (\n",
    "                goi_rows.iloc[hspc_vs_prim_col_idx]\n",
    "                & ~goi_rows.iloc[mcrpc_vs_hspc_col_idx]\n",
    "            ):\n",
    "                relevant_files[goi][\"HSPC_vs_PRIM\"].append(str(int_analysis_file))\n",
    "            if (\n",
    "                ~goi_rows.iloc[hspc_vs_prim_col_idx]\n",
    "                & goi_rows.iloc[mcrpc_vs_hspc_col_idx]\n",
    "            ):\n",
    "                relevant_files[goi][\"MCRPC_vs_HSPC\"].append(str(int_analysis_file))\n",
    "\n",
    "print(relevant_files)\n",
    "with open(\"relevant_files.json\", \"w\") as f:\n",
    "    json.dump(relevant_files, f, indent=4)"
   ]
  },
  {
   "cell_type": "markdown",
   "metadata": {},
   "source": [
    "Copy original tar counts files to analysis directory"
   ]
  },
  {
   "cell_type": "code",
   "execution_count": 6,
   "metadata": {},
   "outputs": [],
   "source": [
    "STAR_ROOT: Path = Path(\"/rawdata/GSE221601/mapping/star\")\n",
    "ANALYSIS_ROOT: Path = Path(\"/media/ssd/Perez/storage/GSE221601/data\")\n",
    "STAR_ORIGINAL_COUNTS_PATH: Path = ANALYSIS_ROOT / \"star_original_counts\"\n",
    "STAR_ORIGINAL_COUNTS_PATH.mkdir(exist_ok=True, parents=True)\n",
    "STAR_UNSTRANDED_COUNTS_PATH: Path = ANALYSIS_ROOT / \"star_unstranded_counts\"\n",
    "STAR_UNSTRANDED_COUNTS_PATH.mkdir(exist_ok=True, parents=True)\n",
    "STAR_FIRST_READ_STRAND_COUNTS_PATH: Path = (\n",
    "    ANALYSIS_ROOT / \"star_first_read_strand_counts\"\n",
    ")\n",
    "STAR_FIRST_READ_STRAND_COUNTS_PATH.mkdir(exist_ok=True, parents=True)\n",
    "STAR_SECOND_READ_STRAND_COUNTS_PATH: Path = (\n",
    "    ANALYSIS_ROOT / \"star_second_read_strand_counts\"\n",
    ")\n",
    "STAR_SECOND_READ_STRAND_COUNTS_PATH.mkdir(exist_ok=True, parents=True)"
   ]
  },
  {
   "cell_type": "code",
   "execution_count": 7,
   "metadata": {},
   "outputs": [],
   "source": [
    "for tab_file in STAR_ROOT.rglob(\"ReadsPerGene.out.tab\"):\n",
    "    parent_dir_name = tab_file.parent.name\n",
    "    destination_file = STAR_ORIGINAL_COUNTS_PATH / f\"{parent_dir_name}.tab\"\n",
    "    destination_file.write_bytes(tab_file.read_bytes())"
   ]
  },
  {
   "cell_type": "code",
   "execution_count": 8,
   "metadata": {},
   "outputs": [
    {
     "data": {
      "application/vnd.jupyter.widget-view+json": {
       "model_id": "ccf9929eafd040c7aff9fddc53703974",
       "version_major": 2,
       "version_minor": 0
      },
      "text/plain": [
       "Output()"
      ]
     },
     "metadata": {},
     "output_type": "display_data"
    },
    {
     "name": "stderr",
     "output_type": "stream",
     "text": [
      "/home/cperez/pca_wgcna_ml/notebooks/../src/data/utils.py:101: TqdmExperimentalWarning: rich is experimental/alpha\n",
      "  return pool.starmap(func, tqdm(inputs))\n"
     ]
    },
    {
     "data": {
      "text/html": [
       "<pre style=\"white-space:pre;overflow-x:auto;line-height:normal;font-family:Menlo,'DejaVu Sans Mono',consolas,'Courier New',monospace\"></pre>\n"
      ],
      "text/plain": []
     },
     "metadata": {},
     "output_type": "display_data"
    },
    {
     "data": {
      "application/vnd.jupyter.widget-view+json": {
       "model_id": "5afbd58f5bc14d7982eeea9e25189e03",
       "version_major": 2,
       "version_minor": 0
      },
      "text/plain": [
       "Output()"
      ]
     },
     "metadata": {},
     "output_type": "display_data"
    },
    {
     "data": {
      "text/html": [
       "<pre style=\"white-space:pre;overflow-x:auto;line-height:normal;font-family:Menlo,'DejaVu Sans Mono',consolas,'Courier New',monospace\"></pre>\n"
      ],
      "text/plain": []
     },
     "metadata": {},
     "output_type": "display_data"
    },
    {
     "data": {
      "application/vnd.jupyter.widget-view+json": {
       "model_id": "196cebd2437f4185b494e0c38723dcb0",
       "version_major": 2,
       "version_minor": 0
      },
      "text/plain": [
       "Output()"
      ]
     },
     "metadata": {},
     "output_type": "display_data"
    },
    {
     "data": {
      "text/html": [
       "<pre style=\"white-space:pre;overflow-x:auto;line-height:normal;font-family:Menlo,'DejaVu Sans Mono',consolas,'Courier New',monospace\"></pre>\n"
      ],
      "text/plain": []
     },
     "metadata": {},
     "output_type": "display_data"
    },
    {
     "data": {
      "application/vnd.jupyter.widget-view+json": {
       "model_id": "d094b0a5b78d4de0befd5b910c6c2fc6",
       "version_major": 2,
       "version_minor": 0
      },
      "text/plain": [
       "Output()"
      ]
     },
     "metadata": {},
     "output_type": "display_data"
    },
    {
     "data": {
      "text/html": [
       "<pre style=\"white-space:pre;overflow-x:auto;line-height:normal;font-family:Menlo,'DejaVu Sans Mono',consolas,'Courier New',monospace\"></pre>\n"
      ],
      "text/plain": []
     },
     "metadata": {},
     "output_type": "display_data"
    },
    {
     "data": {
      "application/vnd.jupyter.widget-view+json": {
       "model_id": "42b6dae217754ed8821975ba0020bfa3",
       "version_major": 2,
       "version_minor": 0
      },
      "text/plain": [
       "Output()"
      ]
     },
     "metadata": {},
     "output_type": "display_data"
    },
    {
     "data": {
      "text/html": [
       "<pre style=\"white-space:pre;overflow-x:auto;line-height:normal;font-family:Menlo,'DejaVu Sans Mono',consolas,'Courier New',monospace\"></pre>\n"
      ],
      "text/plain": []
     },
     "metadata": {},
     "output_type": "display_data"
    },
    {
     "data": {
      "application/vnd.jupyter.widget-view+json": {
       "model_id": "332eab1f73474133a0a0451b407fffc8",
       "version_major": 2,
       "version_minor": 0
      },
      "text/plain": [
       "Output()"
      ]
     },
     "metadata": {},
     "output_type": "display_data"
    },
    {
     "data": {
      "text/html": [
       "<pre style=\"white-space:pre;overflow-x:auto;line-height:normal;font-family:Menlo,'DejaVu Sans Mono',consolas,'Courier New',monospace\"></pre>\n"
      ],
      "text/plain": []
     },
     "metadata": {},
     "output_type": "display_data"
    }
   ],
   "source": [
    "clean_star_counts(\n",
    "    star_path=STAR_ROOT,\n",
    "    star_counts_path=STAR_UNSTRANDED_COUNTS_PATH,\n",
    "    subset_col=1,\n",
    ")\n",
    "clean_star_counts(\n",
    "    star_path=STAR_ROOT,\n",
    "    star_counts_path=STAR_FIRST_READ_STRAND_COUNTS_PATH,\n",
    "    subset_col=2,\n",
    ")\n",
    "clean_star_counts(\n",
    "    star_path=STAR_ROOT,\n",
    "    star_counts_path=STAR_SECOND_READ_STRAND_COUNTS_PATH,\n",
    "    subset_col=3,\n",
    ")"
   ]
  },
  {
   "cell_type": "code",
   "execution_count": null,
   "metadata": {},
   "outputs": [],
   "source": []
  }
 ],
 "metadata": {
  "kernelspec": {
   "display_name": "bioinfo",
   "language": "python",
   "name": "python3"
  },
  "language_info": {
   "codemirror_mode": {
    "name": "ipython",
    "version": 3
   },
   "file_extension": ".py",
   "mimetype": "text/x-python",
   "name": "python",
   "nbconvert_exporter": "python",
   "pygments_lexer": "ipython3",
   "version": "3.12.8"
  }
 },
 "nbformat": 4,
 "nbformat_minor": 2
}
